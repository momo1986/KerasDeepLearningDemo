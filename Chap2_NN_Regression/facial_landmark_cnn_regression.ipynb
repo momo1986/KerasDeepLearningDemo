{
  "nbformat": 4,
  "nbformat_minor": 0,
  "metadata": {
    "colab": {
      "name": "facial_landmark_cnn_regression.ipynb",
      "provenance": []
    },
    "kernelspec": {
      "name": "python3",
      "display_name": "Python 3"
    }
  },
  "cells": [
    {
      "cell_type": "code",
      "metadata": {
        "id": "DRCTF9gHgY24",
        "colab_type": "code",
        "colab": {
          "base_uri": "https://localhost:8080/",
          "height": 887
        },
        "outputId": "e8ab34ed-0985-4b48-8dde-4e63e54a1160"
      },
      "source": [
        "!pip install tensorflow-gpu==2.0"
      ],
      "execution_count": 1,
      "outputs": [
        {
          "output_type": "stream",
          "text": [
            "Collecting tensorflow-gpu==2.0\n",
            "\u001b[?25l  Downloading https://files.pythonhosted.org/packages/25/44/47f0722aea081697143fbcf5d2aa60d1aee4aaacb5869aee2b568974777b/tensorflow_gpu-2.0.0-cp36-cp36m-manylinux2010_x86_64.whl (380.8MB)\n",
            "\u001b[K     |████████████████████████████████| 380.8MB 40kB/s \n",
            "\u001b[?25hRequirement already satisfied: six>=1.10.0 in /usr/local/lib/python3.6/dist-packages (from tensorflow-gpu==2.0) (1.12.0)\n",
            "Requirement already satisfied: keras-preprocessing>=1.0.5 in /usr/local/lib/python3.6/dist-packages (from tensorflow-gpu==2.0) (1.1.0)\n",
            "Requirement already satisfied: grpcio>=1.8.6 in /usr/local/lib/python3.6/dist-packages (from tensorflow-gpu==2.0) (1.27.1)\n",
            "Collecting tensorflow-estimator<2.1.0,>=2.0.0\n",
            "\u001b[?25l  Downloading https://files.pythonhosted.org/packages/fc/08/8b927337b7019c374719145d1dceba21a8bb909b93b1ad6f8fb7d22c1ca1/tensorflow_estimator-2.0.1-py2.py3-none-any.whl (449kB)\n",
            "\u001b[K     |████████████████████████████████| 450kB 29.8MB/s \n",
            "\u001b[?25hRequirement already satisfied: wrapt>=1.11.1 in /usr/local/lib/python3.6/dist-packages (from tensorflow-gpu==2.0) (1.11.2)\n",
            "Requirement already satisfied: absl-py>=0.7.0 in /usr/local/lib/python3.6/dist-packages (from tensorflow-gpu==2.0) (0.9.0)\n",
            "Collecting tensorboard<2.1.0,>=2.0.0\n",
            "\u001b[?25l  Downloading https://files.pythonhosted.org/packages/76/54/99b9d5d52d5cb732f099baaaf7740403e83fe6b0cedde940fabd2b13d75a/tensorboard-2.0.2-py3-none-any.whl (3.8MB)\n",
            "\u001b[K     |████████████████████████████████| 3.8MB 31.8MB/s \n",
            "\u001b[?25hRequirement already satisfied: wheel>=0.26 in /usr/local/lib/python3.6/dist-packages (from tensorflow-gpu==2.0) (0.34.2)\n",
            "Requirement already satisfied: protobuf>=3.6.1 in /usr/local/lib/python3.6/dist-packages (from tensorflow-gpu==2.0) (3.10.0)\n",
            "Requirement already satisfied: gast==0.2.2 in /usr/local/lib/python3.6/dist-packages (from tensorflow-gpu==2.0) (0.2.2)\n",
            "Requirement already satisfied: numpy<2.0,>=1.16.0 in /usr/local/lib/python3.6/dist-packages (from tensorflow-gpu==2.0) (1.17.5)\n",
            "Requirement already satisfied: google-pasta>=0.1.6 in /usr/local/lib/python3.6/dist-packages (from tensorflow-gpu==2.0) (0.1.8)\n",
            "Requirement already satisfied: termcolor>=1.1.0 in /usr/local/lib/python3.6/dist-packages (from tensorflow-gpu==2.0) (1.1.0)\n",
            "Requirement already satisfied: astor>=0.6.0 in /usr/local/lib/python3.6/dist-packages (from tensorflow-gpu==2.0) (0.8.1)\n",
            "Requirement already satisfied: keras-applications>=1.0.8 in /usr/local/lib/python3.6/dist-packages (from tensorflow-gpu==2.0) (1.0.8)\n",
            "Requirement already satisfied: opt-einsum>=2.3.2 in /usr/local/lib/python3.6/dist-packages (from tensorflow-gpu==2.0) (3.1.0)\n",
            "Requirement already satisfied: requests<3,>=2.21.0 in /usr/local/lib/python3.6/dist-packages (from tensorboard<2.1.0,>=2.0.0->tensorflow-gpu==2.0) (2.21.0)\n",
            "Requirement already satisfied: setuptools>=41.0.0 in /usr/local/lib/python3.6/dist-packages (from tensorboard<2.1.0,>=2.0.0->tensorflow-gpu==2.0) (45.2.0)\n",
            "Requirement already satisfied: werkzeug>=0.11.15 in /usr/local/lib/python3.6/dist-packages (from tensorboard<2.1.0,>=2.0.0->tensorflow-gpu==2.0) (1.0.0)\n",
            "Requirement already satisfied: google-auth-oauthlib<0.5,>=0.4.1 in /usr/local/lib/python3.6/dist-packages (from tensorboard<2.1.0,>=2.0.0->tensorflow-gpu==2.0) (0.4.1)\n",
            "Requirement already satisfied: google-auth<2,>=1.6.3 in /usr/local/lib/python3.6/dist-packages (from tensorboard<2.1.0,>=2.0.0->tensorflow-gpu==2.0) (1.7.2)\n",
            "Requirement already satisfied: markdown>=2.6.8 in /usr/local/lib/python3.6/dist-packages (from tensorboard<2.1.0,>=2.0.0->tensorflow-gpu==2.0) (3.2.1)\n",
            "Requirement already satisfied: h5py in /usr/local/lib/python3.6/dist-packages (from keras-applications>=1.0.8->tensorflow-gpu==2.0) (2.8.0)\n",
            "Requirement already satisfied: chardet<3.1.0,>=3.0.2 in /usr/local/lib/python3.6/dist-packages (from requests<3,>=2.21.0->tensorboard<2.1.0,>=2.0.0->tensorflow-gpu==2.0) (3.0.4)\n",
            "Requirement already satisfied: urllib3<1.25,>=1.21.1 in /usr/local/lib/python3.6/dist-packages (from requests<3,>=2.21.0->tensorboard<2.1.0,>=2.0.0->tensorflow-gpu==2.0) (1.24.3)\n",
            "Requirement already satisfied: certifi>=2017.4.17 in /usr/local/lib/python3.6/dist-packages (from requests<3,>=2.21.0->tensorboard<2.1.0,>=2.0.0->tensorflow-gpu==2.0) (2019.11.28)\n",
            "Requirement already satisfied: idna<2.9,>=2.5 in /usr/local/lib/python3.6/dist-packages (from requests<3,>=2.21.0->tensorboard<2.1.0,>=2.0.0->tensorflow-gpu==2.0) (2.8)\n",
            "Requirement already satisfied: requests-oauthlib>=0.7.0 in /usr/local/lib/python3.6/dist-packages (from google-auth-oauthlib<0.5,>=0.4.1->tensorboard<2.1.0,>=2.0.0->tensorflow-gpu==2.0) (1.3.0)\n",
            "Requirement already satisfied: rsa<4.1,>=3.1.4 in /usr/local/lib/python3.6/dist-packages (from google-auth<2,>=1.6.3->tensorboard<2.1.0,>=2.0.0->tensorflow-gpu==2.0) (4.0)\n",
            "Requirement already satisfied: cachetools<3.2,>=2.0.0 in /usr/local/lib/python3.6/dist-packages (from google-auth<2,>=1.6.3->tensorboard<2.1.0,>=2.0.0->tensorflow-gpu==2.0) (3.1.1)\n",
            "Requirement already satisfied: pyasn1-modules>=0.2.1 in /usr/local/lib/python3.6/dist-packages (from google-auth<2,>=1.6.3->tensorboard<2.1.0,>=2.0.0->tensorflow-gpu==2.0) (0.2.8)\n",
            "Requirement already satisfied: oauthlib>=3.0.0 in /usr/local/lib/python3.6/dist-packages (from requests-oauthlib>=0.7.0->google-auth-oauthlib<0.5,>=0.4.1->tensorboard<2.1.0,>=2.0.0->tensorflow-gpu==2.0) (3.1.0)\n",
            "Requirement already satisfied: pyasn1>=0.1.3 in /usr/local/lib/python3.6/dist-packages (from rsa<4.1,>=3.1.4->google-auth<2,>=1.6.3->tensorboard<2.1.0,>=2.0.0->tensorflow-gpu==2.0) (0.4.8)\n",
            "\u001b[31mERROR: tensorflow 1.15.0 has requirement tensorboard<1.16.0,>=1.15.0, but you'll have tensorboard 2.0.2 which is incompatible.\u001b[0m\n",
            "\u001b[31mERROR: tensorflow 1.15.0 has requirement tensorflow-estimator==1.15.1, but you'll have tensorflow-estimator 2.0.1 which is incompatible.\u001b[0m\n",
            "Installing collected packages: tensorflow-estimator, tensorboard, tensorflow-gpu\n",
            "  Found existing installation: tensorflow-estimator 1.15.1\n",
            "    Uninstalling tensorflow-estimator-1.15.1:\n",
            "      Successfully uninstalled tensorflow-estimator-1.15.1\n",
            "  Found existing installation: tensorboard 1.15.0\n",
            "    Uninstalling tensorboard-1.15.0:\n",
            "      Successfully uninstalled tensorboard-1.15.0\n",
            "Successfully installed tensorboard-2.0.2 tensorflow-estimator-2.0.1 tensorflow-gpu-2.0.0\n"
          ],
          "name": "stdout"
        }
      ]
    },
    {
      "cell_type": "markdown",
      "metadata": {
        "id": "q7Y4vdzgsZ3M",
        "colab_type": "text"
      },
      "source": [
        "#This refers to the https://github.com/abhinav-codealchemist/Facial_Keypoint_Detection, for teaching goals, not for commercial purpose"
      ]
    },
    {
      "cell_type": "markdown",
      "metadata": {
        "id": "cn3mOaw2ghOS",
        "colab_type": "text"
      },
      "source": [
        "这是一个用卷积神经网络做人脸识别的实验\n",
        "数据集来源于Kaggle数据科学竞赛网站举行的某次竞赛https://www.kaggle.com/c/facial-keypoints-detection/.\n",
        "同学们也可以参考这个例子：https://github.com/abhinav-codealchemist/Facial_Keypoint_Detection\n",
        "x是高维度的人脸图，y是15个人脸坐标点未知的标签"
      ]
    },
    {
      "cell_type": "code",
      "metadata": {
        "id": "fDwO6wcwhIkx",
        "colab_type": "code",
        "colab": {}
      },
      "source": [
        "import tensorflow"
      ],
      "execution_count": 0,
      "outputs": []
    },
    {
      "cell_type": "code",
      "metadata": {
        "id": "WNcXdV_dhLC5",
        "colab_type": "code",
        "colab": {
          "base_uri": "https://localhost:8080/",
          "height": 34
        },
        "outputId": "afe142f9-7816-4d0c-8f61-d9a013a71ee7"
      },
      "source": [
        "print(tensorflow.__version__)"
      ],
      "execution_count": 3,
      "outputs": [
        {
          "output_type": "stream",
          "text": [
            "2.0.0\n"
          ],
          "name": "stdout"
        }
      ]
    },
    {
      "cell_type": "code",
      "metadata": {
        "id": "GHOc4mnChSKo",
        "colab_type": "code",
        "colab": {}
      },
      "source": [
        "# import the required packages\n",
        "\n",
        "import os\n",
        "import cv2\n",
        "import numpy as np\n",
        "from tqdm import tqdm\n",
        "from skimage.io import imread\n",
        "import matplotlib.pyplot as plt\n",
        "from sklearn.utils import shuffle\n",
        "from skimage.transform import resize\n",
        "from matplotlib.patches import Circle\n",
        "\n",
        "%matplotlib inline"
      ],
      "execution_count": 0,
      "outputs": []
    },
    {
      "cell_type": "markdown",
      "metadata": {
        "id": "r7dSIa6ths4Z",
        "colab_type": "text"
      },
      "source": [
        "#cv2是opencv的python 库，各位同学可以在本地pip install opencv-python安装，它集成了大部分2012年以前成熟的传统的计算机视觉的算法，也带有一部分深度学习的算法，如基于卷积神经网络做目标追踪"
      ]
    },
    {
      "cell_type": "markdown",
      "metadata": {
        "id": "_JYqtQcLh1hZ",
        "colab_type": "text"
      },
      "source": [
        "#接下来下载数据，并做预处理，图像是灰度图，一共2000张，输入为96*96*1灰度图"
      ]
    },
    {
      "cell_type": "code",
      "metadata": {
        "id": "J9lC8dcchvlk",
        "colab_type": "code",
        "colab": {}
      },
      "source": [
        "# for loading the data\n",
        "def load_data(dirname, test=False):\n",
        "    # read the csv data\n",
        "    data = pd.read_csv(dirname)\n",
        "    # drop the missing value rows \n",
        "    data = data.dropna()\n",
        "\n",
        "    # convert the string pixels values into a matrix\n",
        "    data['Image'] = data['Image'].apply(lambda img: np.fromstring(img, sep=' ')).values \n",
        "\n",
        "    # convert the string image data to float\n",
        "    imgs = np.vstack(data['Image'].values)/255\n",
        "    # reshape the matrix\n",
        "    imgs = imgs.reshape(data.shape[0], 96, 96)\n",
        "    # convert to float\n",
        "    imgs = imgs.astype(np.float32)\n",
        "    \n",
        "    if test == False:\n",
        "        # extract the points \n",
        "        points = data[data.columns[:-1]].values\n",
        "\n",
        "        # scale the points [-0.5,0.5]\n",
        "        points = points/96 - 0.5\n",
        "        # convert it to float\n",
        "        points = points.astype(np.float32)\n",
        "    \n",
        "    # shuffle the data\n",
        "    imgs, points = shuffle(imgs, points)\n",
        "    \n",
        "    return imgs, points"
      ],
      "execution_count": 0,
      "outputs": []
    },
    {
      "cell_type": "markdown",
      "metadata": {
        "id": "yiLI0f2Aj3mY",
        "colab_type": "text"
      },
      "source": [
        "上传本地的训练文件，西方学者一般出于半保密，会把人脸数据变成CSV格式"
      ]
    },
    {
      "cell_type": "code",
      "metadata": {
        "id": "wLGhDoKBkJvt",
        "colab_type": "code",
        "colab": {
          "resources": {
            "http://localhost:8080/nbextensions/google.colab/files.js": {
              "data": "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",
              "ok": true,
              "headers": [
                [
                  "content-type",
                  "application/javascript"
                ]
              ],
              "status": 200,
              "status_text": ""
            }
          },
          "base_uri": "https://localhost:8080/",
          "height": 88
        },
        "outputId": "54c1b370-787f-4a60-a100-deeb064d0c31"
      },
      "source": [
        "from google.colab import files\n",
        "\n",
        "uploaded = files.upload()\n",
        "\n",
        "for fn in uploaded.keys():\n",
        "    print('User uploaded file \"{name}\" with length {length} bytes'.format(name=fn, length=len(uploaded[fn])))\n"
      ],
      "execution_count": 6,
      "outputs": [
        {
          "output_type": "display_data",
          "data": {
            "text/html": [
              "\n",
              "     <input type=\"file\" id=\"files-de4c75e6-6a3f-40b8-950b-c5ccbc2cec52\" name=\"files[]\" multiple disabled />\n",
              "     <output id=\"result-de4c75e6-6a3f-40b8-950b-c5ccbc2cec52\">\n",
              "      Upload widget is only available when the cell has been executed in the\n",
              "      current browser session. Please rerun this cell to enable.\n",
              "      </output>\n",
              "      <script src=\"/nbextensions/google.colab/files.js\"></script> "
            ],
            "text/plain": [
              "<IPython.core.display.HTML object>"
            ]
          },
          "metadata": {
            "tags": []
          }
        },
        {
          "output_type": "stream",
          "text": [
            "Saving training.csv to training.csv\n",
            "User uploaded file \"training.csv\" with length 238064810 bytes\n"
          ],
          "name": "stdout"
        }
      ]
    },
    {
      "cell_type": "code",
      "metadata": {
        "id": "e3vHk0XemWIM",
        "colab_type": "code",
        "colab": {
          "resources": {
            "http://localhost:8080/nbextensions/google.colab/files.js": {
              "data": "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",
              "ok": true,
              "headers": [
                [
                  "content-type",
                  "application/javascript"
                ]
              ],
              "status": 200,
              "status_text": ""
            }
          },
          "base_uri": "https://localhost:8080/",
          "height": 88
        },
        "outputId": "de01904b-523c-454f-ee91-97aa9f97e10e"
      },
      "source": [
        "from google.colab import files\n",
        "\n",
        "uploaded = files.upload()\n",
        "\n",
        "for fn in uploaded.keys():\n",
        "    print('User uploaded file \"{name}\" with length {length} bytes'.format(name=fn, length=len(uploaded[fn])))"
      ],
      "execution_count": 7,
      "outputs": [
        {
          "output_type": "display_data",
          "data": {
            "text/html": [
              "\n",
              "     <input type=\"file\" id=\"files-376f11a8-be10-430d-b903-330aaa3f0e9e\" name=\"files[]\" multiple disabled />\n",
              "     <output id=\"result-376f11a8-be10-430d-b903-330aaa3f0e9e\">\n",
              "      Upload widget is only available when the cell has been executed in the\n",
              "      current browser session. Please rerun this cell to enable.\n",
              "      </output>\n",
              "      <script src=\"/nbextensions/google.colab/files.js\"></script> "
            ],
            "text/plain": [
              "<IPython.core.display.HTML object>"
            ]
          },
          "metadata": {
            "tags": []
          }
        },
        {
          "output_type": "stream",
          "text": [
            "Saving test.csv to test.csv\n",
            "User uploaded file \"test.csv\" with length 59822141 bytes\n"
          ],
          "name": "stdout"
        }
      ]
    },
    {
      "cell_type": "markdown",
      "metadata": {
        "id": "ZbfJi68NvQM1",
        "colab_type": "text"
      },
      "source": [
        "看下文件是否上传"
      ]
    },
    {
      "cell_type": "code",
      "metadata": {
        "id": "Ej_0R8ROuiYt",
        "colab_type": "code",
        "colab": {
          "base_uri": "https://localhost:8080/",
          "height": 34
        },
        "outputId": "a062cd37-1682-47cd-c24b-a1aca557fa0e"
      },
      "source": [
        "!ls"
      ],
      "execution_count": 8,
      "outputs": [
        {
          "output_type": "stream",
          "text": [
            "sample_data  test.csv  training.csv\n"
          ],
          "name": "stdout"
        }
      ]
    },
    {
      "cell_type": "code",
      "metadata": {
        "id": "xX_0ePhcxuzp",
        "colab_type": "code",
        "colab": {}
      },
      "source": [
        "import pandas as pd"
      ],
      "execution_count": 0,
      "outputs": []
    },
    {
      "cell_type": "markdown",
      "metadata": {
        "id": "lvZ0Lm7vvcbN",
        "colab_type": "text"
      },
      "source": [
        "加载数据，同时看下训练数据和测试数据格式"
      ]
    },
    {
      "cell_type": "code",
      "metadata": {
        "id": "NU_4_KUSvlsU",
        "colab_type": "code",
        "colab": {
          "base_uri": "https://localhost:8080/",
          "height": 85
        },
        "outputId": "17e27dee-0a51-4467-f7e5-6d0af3a606a6"
      },
      "source": [
        "imgs_train, points_train = load_data(dirname = 'training.csv')\n",
        "imgs_test, points_test = load_data(dirname = 'test.csv')\n",
        "print('Training image data: ' + str(imgs_train.shape))\n",
        "print('Training points data: ' + str(points_train.shape))\n",
        "print('Testing image data: ' + str(imgs_test.shape))\n",
        "print('Testing points data: ' + str(points_test.shape))"
      ],
      "execution_count": 11,
      "outputs": [
        {
          "output_type": "stream",
          "text": [
            "Training image data: (2140, 96, 96)\n",
            "Training points data: (2140, 30)\n",
            "Testing image data: (1783, 96, 96)\n",
            "Testing points data: (1783, 1)\n"
          ],
          "name": "stdout"
        }
      ]
    },
    {
      "cell_type": "markdown",
      "metadata": {
        "id": "HPvZFJP-wJaE",
        "colab_type": "text"
      },
      "source": [
        "数据可视化"
      ]
    },
    {
      "cell_type": "code",
      "metadata": {
        "id": "25IZXLqewLQr",
        "colab_type": "code",
        "colab": {}
      },
      "source": [
        "# plots keypoints on face image\n",
        "def plot_keypoints(img, points):\n",
        "    # display image\n",
        "    plt.imshow(img, cmap='gray')\n",
        "    # plot the keypoints\n",
        "    for i in range(0,30,2):\n",
        "        plt.scatter((points[i] + 0.5)*96, (points[i+1]+0.5)*96, color='red')"
      ],
      "execution_count": 0,
      "outputs": []
    },
    {
      "cell_type": "code",
      "metadata": {
        "id": "ZeqyymuLwPvZ",
        "colab_type": "code",
        "colab": {
          "base_uri": "https://localhost:8080/",
          "height": 1000
        },
        "outputId": "14c4f166-e00d-4163-9ecb-d25d4dcffc91"
      },
      "source": [
        "fig = plt.figure(figsize=(20,20))\n",
        "for i in range(16):\n",
        "    fig.add_subplot(4, 4, i + 1, xticks=[], yticks=[])\n",
        "    plot_keypoints(imgs_train[i], points_train[i])\n",
        "plt.show()"
      ],
      "execution_count": 13,
      "outputs": [
        {
          "output_type": "display_data",
          "data": {
            "image/png": "[encoded data removed]",
            "text/plain": [
              "<Figure size 1440x1440 with 16 Axes>"
            ]
          },
          "metadata": {
            "tags": []
          }
        }
      ]
    },
    {
      "cell_type": "markdown",
      "metadata": {
        "id": "vCcCjIp1wXI4",
        "colab_type": "text"
      },
      "source": [
        "数据增强，比如翻转图片，也可以尝试其他增强手段\n"
      ]
    },
    {
      "cell_type": "code",
      "metadata": {
        "id": "dycVNAe4vZ_5",
        "colab_type": "code",
        "colab": {}
      },
      "source": [
        "def augment_data(img, points):\n",
        "    rows, cols = img.shape\n",
        "    new_img = np.copy(img)\n",
        "    \n",
        "    # flip the image\n",
        "    for i in range(96):\n",
        "        for j in range(48):\n",
        "            temp = img[i][j]\n",
        "            new_img[i][j] = img[i][cols-j-1]\n",
        "            new_img[i][cols-j-1] = temp\n",
        "            \n",
        "    # flip the points\n",
        "    new_points = np.copy(points)\n",
        "    for i in range(0,30,2):\n",
        "        new_points[i] = -points[i]\n",
        "        \n",
        "    return new_img, new_points"
      ],
      "execution_count": 0,
      "outputs": []
    },
    {
      "cell_type": "markdown",
      "metadata": {
        "id": "y7jAmlmZ1hUj",
        "colab_type": "text"
      },
      "source": [
        "深度学习为了防止过拟合，需要进行数据增强，我们在这里可以实验两种数据增方法：\n",
        "1. 翻转（注意坐标位置也要flip）\n",
        "2. 加噪声"
      ]
    },
    {
      "cell_type": "code",
      "metadata": {
        "id": "BkwFqhMIwwaa",
        "colab_type": "code",
        "colab": {
          "base_uri": "https://localhost:8080/",
          "height": 1000
        },
        "outputId": "1fcbfba3-a509-4ef1-9bcc-680ff20b7c19"
      },
      "source": [
        "aug_imgs_train = []\n",
        "aug_points_train = []\n",
        "noise = np.random.randint(5, size = (96,96), dtype = 'uint8')\n",
        "# apply flipping operation\n",
        "print(imgs_train.shape)\n",
        "for i in tqdm(range(0,imgs_train.shape[0])):\n",
        "    img_flip = np.fliplr(imgs_train[i]) #翻转\n",
        "    #噪声\n",
        "    img_noise = imgs_train[i]\n",
        "    print(img_noise.shape)\n",
        "    for i in range(96):\n",
        "      for j in range(96):\n",
        "          if (img_noise[i][j] != 255):\n",
        "               img_noise[i][j] += noise[i][j]\n",
        "    new_points = np.copy(points_train[i])\n",
        "    for k in range(0,30,2):\n",
        "        new_points[k] = -points_train[i][k]\n",
        "    aug_imgs_train.append(img_flip)\n",
        "    aug_points_train.append(new_points)\n",
        "    aug_imgs_train.append(img_noise)\n",
        "    aug_points_train.append(points_train[i])\n",
        "    # original data\n",
        "    aug_imgs_train.append(imgs_train[i])\n",
        "    aug_points_train.append(points_train[i]) \n",
        "# convert to numpy\n",
        "aug_imgs_train = np.array(aug_imgs_train)   \n",
        "aug_points_train = np.copy(aug_points_train)\n",
        "\n",
        "print(aug_imgs_train.shape)\n",
        "print(aug_points_train.shape)"
      ],
      "execution_count": 26,
      "outputs": [
        {
          "output_type": "stream",
          "text": [
            "  0%|          | 3/2140 [00:00<01:18, 27.05it/s]"
          ],
          "name": "stderr"
        },
        {
          "output_type": "stream",
          "text": [
            "(2140, 96, 96)\n",
            "(96, 96)\n",
            "(96, 96)\n",
            "(96, 96)\n",
            "(96, 96)\n",
            "(96, 96)\n",
            "(96, 96)\n"
          ],
          "name": "stdout"
        },
        {
          "output_type": "stream",
          "text": [
            "  1%|          | 12/2140 [00:00<01:16, 27.97it/s]"
          ],
          "name": "stderr"
        },
        {
          "output_type": "stream",
          "text": [
            "(96, 96)\n",
            "(96, 96)\n",
            "(96, 96)\n",
            "(96, 96)\n",
            "(96, 96)\n",
            "(96, 96)\n",
            "(96, 96)\n"
          ],
          "name": "stdout"
        },
        {
          "output_type": "stream",
          "text": [
            "  1%|          | 18/2140 [00:00<01:16, 27.75it/s]"
          ],
          "name": "stderr"
        },
        {
          "output_type": "stream",
          "text": [
            "(96, 96)\n",
            "(96, 96)\n",
            "(96, 96)\n",
            "(96, 96)\n",
            "(96, 96)\n",
            "(96, 96)\n"
          ],
          "name": "stdout"
        },
        {
          "output_type": "stream",
          "text": [
            "  1%|          | 24/2140 [00:00<01:16, 27.67it/s]"
          ],
          "name": "stderr"
        },
        {
          "output_type": "stream",
          "text": [
            "(96, 96)\n",
            "(96, 96)\n",
            "(96, 96)\n",
            "(96, 96)\n",
            "(96, 96)\n",
            "(96, 96)\n"
          ],
          "name": "stdout"
        },
        {
          "output_type": "stream",
          "text": [
            "  1%|▏         | 31/2140 [00:01<01:13, 28.84it/s]"
          ],
          "name": "stderr"
        },
        {
          "output_type": "stream",
          "text": [
            "(96, 96)\n",
            "(96, 96)\n",
            "(96, 96)\n",
            "(96, 96)\n",
            "(96, 96)\n",
            "(96, 96)\n",
            "(96, 96)\n"
          ],
          "name": "stdout"
        },
        {
          "output_type": "stream",
          "text": [
            "  2%|▏         | 38/2140 [00:01<01:11, 29.47it/s]"
          ],
          "name": "stderr"
        },
        {
          "output_type": "stream",
          "text": [
            "(96, 96)\n",
            "(96, 96)\n",
            "(96, 96)\n",
            "(96, 96)\n",
            "(96, 96)\n",
            "(96, 96)\n",
            "(96, 96)"
          ],
          "name": "stdout"
        },
        {
          "output_type": "stream",
          "text": [
            "  2%|▏         | 44/2140 [00:01<01:11, 29.40it/s]"
          ],
          "name": "stderr"
        },
        {
          "output_type": "stream",
          "text": [
            "\n",
            "(96, 96)\n",
            "(96, 96)\n",
            "(96, 96)\n",
            "(96, 96)\n",
            "(96, 96)\n",
            "(96, 96)\n",
            "(96, 96)\n"
          ],
          "name": "stdout"
        },
        {
          "output_type": "stream",
          "text": [
            "  2%|▏         | 50/2140 [00:01<01:11, 29.08it/s]"
          ],
          "name": "stderr"
        },
        {
          "output_type": "stream",
          "text": [
            "(96, 96)\n",
            "(96, 96)\n",
            "(96, 96)\n",
            "(96, 96)\n",
            "(96, 96)\n",
            "(96, 96)\n"
          ],
          "name": "stdout"
        },
        {
          "output_type": "stream",
          "text": [
            "  3%|▎         | 57/2140 [00:01<01:10, 29.62it/s]"
          ],
          "name": "stderr"
        },
        {
          "output_type": "stream",
          "text": [
            "(96, 96)\n",
            "(96, 96)\n",
            "(96, 96)\n",
            "(96, 96)\n",
            "(96, 96)\n",
            "(96, 96)\n",
            "(96, 96)\n"
          ],
          "name": "stdout"
        },
        {
          "output_type": "stream",
          "text": [
            "  3%|▎         | 64/2140 [00:02<01:09, 29.75it/s]"
          ],
          "name": "stderr"
        },
        {
          "output_type": "stream",
          "text": [
            "(96, 96)\n",
            "(96, 96)\n",
            "(96, 96)\n",
            "(96, 96)\n",
            "(96, 96)\n",
            "(96, 96)\n"
          ],
          "name": "stdout"
        },
        {
          "output_type": "stream",
          "text": [
            "  3%|▎         | 71/2140 [00:02<01:09, 29.73it/s]"
          ],
          "name": "stderr"
        },
        {
          "output_type": "stream",
          "text": [
            "(96, 96)\n",
            "(96, 96)\n",
            "(96, 96)\n",
            "(96, 96)\n",
            "(96, 96)\n",
            "(96, 96)\n",
            "(96, 96)\n"
          ],
          "name": "stdout"
        },
        {
          "output_type": "stream",
          "text": [
            "  4%|▎         | 78/2140 [00:02<01:08, 30.10it/s]"
          ],
          "name": "stderr"
        },
        {
          "output_type": "stream",
          "text": [
            "(96, 96)\n",
            "(96, 96)\n",
            "(96, 96)\n",
            "(96, 96)\n",
            "(96, 96)\n",
            "(96, 96)\n",
            "(96, 96)\n"
          ],
          "name": "stdout"
        },
        {
          "output_type": "stream",
          "text": [
            "\r  4%|▍         | 82/2140 [00:02<01:11, 28.70it/s]"
          ],
          "name": "stderr"
        },
        {
          "output_type": "stream",
          "text": [
            "(96, 96)\n",
            "(96, 96)\n",
            "(96, 96)\n",
            "(96, 96)\n",
            "(96, 96)\n",
            "(96, 96)\n"
          ],
          "name": "stdout"
        },
        {
          "output_type": "stream",
          "text": [
            "  4%|▍         | 89/2140 [00:03<01:09, 29.57it/s]"
          ],
          "name": "stderr"
        },
        {
          "output_type": "stream",
          "text": [
            "(96, 96)\n",
            "(96, 96)\n",
            "(96, 96)\n",
            "(96, 96)\n",
            "(96, 96)\n",
            "(96, 96)\n",
            "(96, 96)\n"
          ],
          "name": "stdout"
        },
        {
          "output_type": "stream",
          "text": [
            "  4%|▍         | 96/2140 [00:03<01:08, 29.94it/s]"
          ],
          "name": "stderr"
        },
        {
          "output_type": "stream",
          "text": [
            "(96, 96)\n",
            "(96, 96)\n",
            "(96, 96)\n",
            "(96, 96)\n",
            "(96, 96)\n",
            "(96, 96)\n",
            "(96, 96)\n"
          ],
          "name": "stdout"
        },
        {
          "output_type": "stream",
          "text": [
            "  5%|▍         | 104/2140 [00:03<01:07, 30.11it/s]"
          ],
          "name": "stderr"
        },
        {
          "output_type": "stream",
          "text": [
            "(96, 96)\n",
            "(96, 96)\n",
            "(96, 96)\n",
            "(96, 96)\n",
            "(96, 96)\n",
            "(96, 96)\n",
            "(96, 96)\n"
          ],
          "name": "stdout"
        },
        {
          "output_type": "stream",
          "text": [
            "  5%|▌         | 111/2140 [00:03<01:08, 29.60it/s]"
          ],
          "name": "stderr"
        },
        {
          "output_type": "stream",
          "text": [
            "(96, 96)\n",
            "(96, 96)\n",
            "(96, 96)\n",
            "(96, 96)\n",
            "(96, 96)\n",
            "(96, 96)\n"
          ],
          "name": "stdout"
        },
        {
          "output_type": "stream",
          "text": [
            "  5%|▌         | 117/2140 [00:04<01:09, 29.14it/s]"
          ],
          "name": "stderr"
        },
        {
          "output_type": "stream",
          "text": [
            "(96, 96)\n",
            "(96, 96)\n",
            "(96, 96)\n",
            "(96, 96)\n",
            "(96, 96)\n",
            "(96, 96)\n"
          ],
          "name": "stdout"
        },
        {
          "output_type": "stream",
          "text": [
            "  6%|▌         | 124/2140 [00:04<01:07, 29.72it/s]"
          ],
          "name": "stderr"
        },
        {
          "output_type": "stream",
          "text": [
            "(96, 96)\n",
            "(96, 96)\n",
            "(96, 96)\n",
            "(96, 96)\n",
            "(96, 96)\n",
            "(96, 96)\n",
            "(96, 96)\n"
          ],
          "name": "stdout"
        },
        {
          "output_type": "stream",
          "text": [
            "  6%|▌         | 131/2140 [00:04<01:06, 30.12it/s]"
          ],
          "name": "stderr"
        },
        {
          "output_type": "stream",
          "text": [
            "(96, 96)\n",
            "(96, 96)\n",
            "(96, 96)\n",
            "(96, 96)\n",
            "(96, 96)\n",
            "(96, 96)\n",
            "(96, 96)\n"
          ],
          "name": "stdout"
        },
        {
          "output_type": "stream",
          "text": [
            "\r  6%|▋         | 135/2140 [00:04<01:07, 29.51it/s]"
          ],
          "name": "stderr"
        },
        {
          "output_type": "stream",
          "text": [
            "(96, 96)\n",
            "(96, 96)\n",
            "(96, 96)\n",
            "(96, 96)\n",
            "(96, 96)\n",
            "(96, 96)\n"
          ],
          "name": "stdout"
        },
        {
          "output_type": "stream",
          "text": [
            "  7%|▋         | 141/2140 [00:04<01:09, 28.64it/s]"
          ],
          "name": "stderr"
        },
        {
          "output_type": "stream",
          "text": [
            "(96, 96)\n",
            "(96, 96)\n",
            "(96, 96)\n",
            "(96, 96)\n",
            "(96, 96)\n",
            "(96, 96)\n"
          ],
          "name": "stdout"
        },
        {
          "output_type": "stream",
          "text": [
            "  7%|▋         | 147/2140 [00:05<01:12, 27.57it/s]"
          ],
          "name": "stderr"
        },
        {
          "output_type": "stream",
          "text": [
            "(96, 96)\n",
            "(96, 96)\n",
            "(96, 96)\n",
            "(96, 96)\n",
            "(96, 96)\n",
            "(96, 96)\n"
          ],
          "name": "stdout"
        },
        {
          "output_type": "stream",
          "text": [
            "  7%|▋         | 153/2140 [00:05<01:10, 28.04it/s]"
          ],
          "name": "stderr"
        },
        {
          "output_type": "stream",
          "text": [
            "(96, 96)\n",
            "(96, 96)\n",
            "(96, 96)\n",
            "(96, 96)\n",
            "(96, 96)\n",
            "(96, 96)\n",
            "(96, 96)\n"
          ],
          "name": "stdout"
        },
        {
          "output_type": "stream",
          "text": [
            "  8%|▊         | 161/2140 [00:05<01:07, 29.23it/s]"
          ],
          "name": "stderr"
        },
        {
          "output_type": "stream",
          "text": [
            "(96, 96)\n",
            "(96, 96)\n",
            "(96, 96)\n",
            "(96, 96)\n",
            "(96, 96)\n",
            "(96, 96)\n",
            "(96, 96)\n"
          ],
          "name": "stdout"
        },
        {
          "output_type": "stream",
          "text": [
            "  8%|▊         | 169/2140 [00:05<01:05, 29.88it/s]"
          ],
          "name": "stderr"
        },
        {
          "output_type": "stream",
          "text": [
            "(96, 96)\n",
            "(96, 96)\n",
            "(96, 96)\n",
            "(96, 96)\n",
            "(96, 96)\n",
            "(96, 96)\n",
            "(96, 96)\n"
          ],
          "name": "stdout"
        },
        {
          "output_type": "stream",
          "text": [
            "  8%|▊         | 175/2140 [00:05<01:07, 29.27it/s]"
          ],
          "name": "stderr"
        },
        {
          "output_type": "stream",
          "text": [
            "(96, 96)\n",
            "(96, 96)\n",
            "(96, 96)\n",
            "(96, 96)\n",
            "(96, 96)\n",
            "(96, 96)\n"
          ],
          "name": "stdout"
        },
        {
          "output_type": "stream",
          "text": [
            "  9%|▊         | 182/2140 [00:06<01:05, 29.70it/s]"
          ],
          "name": "stderr"
        },
        {
          "output_type": "stream",
          "text": [
            "(96, 96)\n",
            "(96, 96)\n",
            "(96, 96)\n",
            "(96, 96)\n",
            "(96, 96)\n",
            "(96, 96)\n",
            "(96, 96)\n"
          ],
          "name": "stdout"
        },
        {
          "output_type": "stream",
          "text": [
            "  9%|▉         | 189/2140 [00:06<01:05, 29.98it/s]"
          ],
          "name": "stderr"
        },
        {
          "output_type": "stream",
          "text": [
            "(96, 96)\n",
            "(96, 96)\n",
            "(96, 96)\n",
            "(96, 96)\n",
            "(96, 96)\n",
            "(96, 96)\n",
            "(96, 96)\n"
          ],
          "name": "stdout"
        },
        {
          "output_type": "stream",
          "text": [
            "  9%|▉         | 197/2140 [00:06<01:04, 30.14it/s]"
          ],
          "name": "stderr"
        },
        {
          "output_type": "stream",
          "text": [
            "(96, 96)\n",
            "(96, 96)\n",
            "(96, 96)\n",
            "(96, 96)\n",
            "(96, 96)\n",
            "(96, 96)\n",
            "(96, 96)\n"
          ],
          "name": "stdout"
        },
        {
          "output_type": "stream",
          "text": [
            "\r  9%|▉         | 201/2140 [00:06<01:05, 29.61it/s]"
          ],
          "name": "stderr"
        },
        {
          "output_type": "stream",
          "text": [
            "(96, 96)\n",
            "(96, 96)\n",
            "(96, 96)\n",
            "(96, 96)\n",
            "(96, 96)\n",
            "(96, 96)\n",
            "(96, 96)\n"
          ],
          "name": "stdout"
        },
        {
          "output_type": "stream",
          "text": [
            " 10%|▉         | 209/2140 [00:07<01:04, 29.93it/s]"
          ],
          "name": "stderr"
        },
        {
          "output_type": "stream",
          "text": [
            "(96, 96)\n",
            "(96, 96)\n",
            "(96, 96)\n",
            "(96, 96)\n",
            "(96, 96)\n",
            "(96, 96)\n",
            "(96, 96)\n"
          ],
          "name": "stdout"
        },
        {
          "output_type": "stream",
          "text": [
            " 10%|█         | 216/2140 [00:07<01:03, 30.07it/s]"
          ],
          "name": "stderr"
        },
        {
          "output_type": "stream",
          "text": [
            "(96, 96)\n",
            "(96, 96)\n",
            "(96, 96)\n",
            "(96, 96)\n",
            "(96, 96)\n",
            "(96, 96)\n",
            "(96, 96)\n"
          ],
          "name": "stdout"
        },
        {
          "output_type": "stream",
          "text": [
            " 10%|█         | 224/2140 [00:07<01:03, 30.36it/s]"
          ],
          "name": "stderr"
        },
        {
          "output_type": "stream",
          "text": [
            "(96, 96)\n",
            "(96, 96)\n",
            "(96, 96)\n",
            "(96, 96)\n",
            "(96, 96)\n",
            "(96, 96)\n",
            "(96, 96)\n"
          ],
          "name": "stdout"
        },
        {
          "output_type": "stream",
          "text": [
            " 11%|█         | 232/2140 [00:07<01:02, 30.48it/s]"
          ],
          "name": "stderr"
        },
        {
          "output_type": "stream",
          "text": [
            "(96, 96)\n",
            "(96, 96)\n",
            "(96, 96)\n",
            "(96, 96)\n",
            "(96, 96)\n",
            "(96, 96)\n",
            "(96, 96)\n"
          ],
          "name": "stdout"
        },
        {
          "output_type": "stream",
          "text": [
            "\r 11%|█         | 236/2140 [00:08<01:04, 29.46it/s]"
          ],
          "name": "stderr"
        },
        {
          "output_type": "stream",
          "text": [
            "(96, 96)\n",
            "(96, 96)\n",
            "(96, 96)\n",
            "(96, 96)\n",
            "(96, 96)\n",
            "(96, 96)\n"
          ],
          "name": "stdout"
        },
        {
          "output_type": "stream",
          "text": [
            " 11%|█▏        | 242/2140 [00:08<01:09, 27.43it/s]"
          ],
          "name": "stderr"
        },
        {
          "output_type": "stream",
          "text": [
            "(96, 96)\n",
            "(96, 96)\n",
            "(96, 96)\n",
            "(96, 96)\n",
            "(96, 96)\n",
            "(96, 96)\n"
          ],
          "name": "stdout"
        },
        {
          "output_type": "stream",
          "text": [
            " 12%|█▏        | 248/2140 [00:08<01:07, 28.11it/s]"
          ],
          "name": "stderr"
        },
        {
          "output_type": "stream",
          "text": [
            "(96, 96)\n",
            "(96, 96)\n",
            "(96, 96)\n",
            "(96, 96)\n",
            "(96, 96)\n",
            "(96, 96)\n"
          ],
          "name": "stdout"
        },
        {
          "output_type": "stream",
          "text": [
            " 12%|█▏        | 254/2140 [00:08<01:07, 28.08it/s]"
          ],
          "name": "stderr"
        },
        {
          "output_type": "stream",
          "text": [
            "(96, 96)\n",
            "(96, 96)\n",
            "(96, 96)\n",
            "(96, 96)\n",
            "(96, 96)\n",
            "(96, 96)\n",
            "(96, 96)\n"
          ],
          "name": "stdout"
        },
        {
          "output_type": "stream",
          "text": [
            " 12%|█▏        | 264/2140 [00:09<01:04, 29.09it/s]"
          ],
          "name": "stderr"
        },
        {
          "output_type": "stream",
          "text": [
            "(96, 96)\n",
            "(96, 96)\n",
            "(96, 96)\n",
            "(96, 96)\n",
            "(96, 96)\n",
            "(96, 96)\n",
            "(96, 96)"
          ],
          "name": "stdout"
        },
        {
          "output_type": "stream",
          "text": [
            " 13%|█▎        | 271/2140 [00:09<01:03, 29.54it/s]"
          ],
          "name": "stderr"
        },
        {
          "output_type": "stream",
          "text": [
            "\n",
            "(96, 96)\n",
            "(96, 96)\n",
            "(96, 96)\n",
            "(96, 96)\n",
            "(96, 96)\n",
            "(96, 96)\n",
            "(96, 96)"
          ],
          "name": "stdout"
        },
        {
          "output_type": "stream",
          "text": [
            " 13%|█▎        | 278/2140 [00:09<01:03, 29.54it/s]"
          ],
          "name": "stderr"
        },
        {
          "output_type": "stream",
          "text": [
            "\n",
            "(96, 96)\n",
            "(96, 96)\n",
            "(96, 96)\n",
            "(96, 96)\n",
            "(96, 96)\n",
            "(96, 96)\n",
            "(96, 96)"
          ],
          "name": "stdout"
        },
        {
          "output_type": "stream",
          "text": [
            "\r 13%|█▎        | 281/2140 [00:09<01:04, 28.86it/s]"
          ],
          "name": "stderr"
        },
        {
          "output_type": "stream",
          "text": [
            "\n",
            "(96, 96)\n",
            "(96, 96)\n",
            "(96, 96)\n",
            "(96, 96)\n",
            "(96, 96)\n",
            "(96, 96)\n"
          ],
          "name": "stdout"
        },
        {
          "output_type": "stream",
          "text": [
            " 13%|█▎        | 288/2140 [00:09<01:03, 29.22it/s]"
          ],
          "name": "stderr"
        },
        {
          "output_type": "stream",
          "text": [
            "(96, 96)\n",
            "(96, 96)\n",
            "(96, 96)\n",
            "(96, 96)\n",
            "(96, 96)\n",
            "(96, 96)\n",
            "(96, 96)\n"
          ],
          "name": "stdout"
        },
        {
          "output_type": "stream",
          "text": [
            " 14%|█▍        | 295/2140 [00:10<01:02, 29.39it/s]"
          ],
          "name": "stderr"
        },
        {
          "output_type": "stream",
          "text": [
            "(96, 96)\n",
            "(96, 96)\n",
            "(96, 96)\n",
            "(96, 96)\n",
            "(96, 96)\n",
            "(96, 96)\n",
            "(96, 96)\n"
          ],
          "name": "stdout"
        },
        {
          "output_type": "stream",
          "text": [
            " 14%|█▍        | 303/2140 [00:10<01:01, 29.88it/s]"
          ],
          "name": "stderr"
        },
        {
          "output_type": "stream",
          "text": [
            "(96, 96)\n",
            "(96, 96)\n",
            "(96, 96)\n",
            "(96, 96)\n",
            "(96, 96)\n",
            "(96, 96)\n",
            "(96, 96)\n"
          ],
          "name": "stdout"
        },
        {
          "output_type": "stream",
          "text": [
            " 15%|█▍        | 311/2140 [00:10<01:00, 30.10it/s]"
          ],
          "name": "stderr"
        },
        {
          "output_type": "stream",
          "text": [
            "(96, 96)\n",
            "(96, 96)\n",
            "(96, 96)\n",
            "(96, 96)\n",
            "(96, 96)\n",
            "(96, 96)\n",
            "(96, 96)\n"
          ],
          "name": "stdout"
        },
        {
          "output_type": "stream",
          "text": [
            " 15%|█▍        | 319/2140 [00:10<01:00, 30.29it/s]"
          ],
          "name": "stderr"
        },
        {
          "output_type": "stream",
          "text": [
            "(96, 96)\n",
            "(96, 96)\n",
            "(96, 96)\n",
            "(96, 96)\n",
            "(96, 96)\n",
            "(96, 96)\n",
            "(96, 96)\n"
          ],
          "name": "stdout"
        },
        {
          "output_type": "stream",
          "text": [
            "\r 15%|█▌        | 323/2140 [00:11<01:00, 29.90it/s]"
          ],
          "name": "stderr"
        },
        {
          "output_type": "stream",
          "text": [
            "(96, 96)\n",
            "(96, 96)\n",
            "(96, 96)\n",
            "(96, 96)\n",
            "(96, 96)\n",
            "(96, 96)\n",
            "(96, 96)\n"
          ],
          "name": "stdout"
        },
        {
          "output_type": "stream",
          "text": [
            " 15%|█▌        | 330/2140 [00:11<01:00, 29.70it/s]"
          ],
          "name": "stderr"
        },
        {
          "output_type": "stream",
          "text": [
            "(96, 96)\n",
            "(96, 96)\n",
            "(96, 96)\n",
            "(96, 96)\n",
            "(96, 96)\n",
            "(96, 96)\n",
            "(96, 96)\n"
          ],
          "name": "stdout"
        },
        {
          "output_type": "stream",
          "text": [
            " 16%|█▌        | 338/2140 [00:11<01:00, 29.97it/s]"
          ],
          "name": "stderr"
        },
        {
          "output_type": "stream",
          "text": [
            "(96, 96)\n",
            "(96, 96)\n",
            "(96, 96)\n",
            "(96, 96)\n",
            "(96, 96)\n",
            "(96, 96)\n",
            "(96, 96)\n"
          ],
          "name": "stdout"
        },
        {
          "output_type": "stream",
          "text": [
            " 16%|█▌        | 344/2140 [00:11<01:00, 29.47it/s]"
          ],
          "name": "stderr"
        },
        {
          "output_type": "stream",
          "text": [
            "(96, 96)\n",
            "(96, 96)\n",
            "(96, 96)\n",
            "(96, 96)\n",
            "(96, 96)\n",
            "(96, 96)\n"
          ],
          "name": "stdout"
        },
        {
          "output_type": "stream",
          "text": [
            " 16%|█▋        | 350/2140 [00:11<01:01, 29.33it/s]"
          ],
          "name": "stderr"
        },
        {
          "output_type": "stream",
          "text": [
            "(96, 96)\n",
            "(96, 96)\n",
            "(96, 96)\n",
            "(96, 96)\n",
            "(96, 96)\n",
            "(96, 96)\n",
            "(96, 96)\n"
          ],
          "name": "stdout"
        },
        {
          "output_type": "stream",
          "text": [
            " 17%|█▋        | 358/2140 [00:12<00:59, 29.78it/s]"
          ],
          "name": "stderr"
        },
        {
          "output_type": "stream",
          "text": [
            "(96, 96)\n",
            "(96, 96)\n",
            "(96, 96)\n",
            "(96, 96)\n",
            "(96, 96)\n",
            "(96, 96)\n",
            "(96, 96)\n"
          ],
          "name": "stdout"
        },
        {
          "output_type": "stream",
          "text": [
            " 17%|█▋        | 366/2140 [00:12<01:00, 29.54it/s]"
          ],
          "name": "stderr"
        },
        {
          "output_type": "stream",
          "text": [
            "(96, 96)\n",
            "(96, 96)\n",
            "(96, 96)\n",
            "(96, 96)\n",
            "(96, 96)\n",
            "(96, 96)\n"
          ],
          "name": "stdout"
        },
        {
          "output_type": "stream",
          "text": [
            " 17%|█▋        | 372/2140 [00:12<01:02, 28.19it/s]"
          ],
          "name": "stderr"
        },
        {
          "output_type": "stream",
          "text": [
            "(96, 96)\n",
            "(96, 96)\n",
            "(96, 96)\n",
            "(96, 96)\n",
            "(96, 96)\n",
            "(96, 96)\n",
            "(96, 96)\n"
          ],
          "name": "stdout"
        },
        {
          "output_type": "stream",
          "text": [
            " 18%|█▊        | 378/2140 [00:12<01:02, 28.28it/s]"
          ],
          "name": "stderr"
        },
        {
          "output_type": "stream",
          "text": [
            "(96, 96)\n",
            "(96, 96)\n",
            "(96, 96)\n",
            "(96, 96)\n",
            "(96, 96)\n",
            "(96, 96)\n"
          ],
          "name": "stdout"
        },
        {
          "output_type": "stream",
          "text": [
            " 18%|█▊        | 384/2140 [00:13<01:01, 28.51it/s]"
          ],
          "name": "stderr"
        },
        {
          "output_type": "stream",
          "text": [
            "(96, 96)\n",
            "(96, 96)\n",
            "(96, 96)\n",
            "(96, 96)\n",
            "(96, 96)\n",
            "(96, 96)\n",
            "(96, 96)\n"
          ],
          "name": "stdout"
        },
        {
          "output_type": "stream",
          "text": [
            " 18%|█▊        | 391/2140 [00:13<00:59, 29.29it/s]"
          ],
          "name": "stderr"
        },
        {
          "output_type": "stream",
          "text": [
            "(96, 96)\n",
            "(96, 96)\n",
            "(96, 96)\n",
            "(96, 96)\n",
            "(96, 96)\n",
            "(96, 96)\n",
            "(96, 96)\n"
          ],
          "name": "stdout"
        },
        {
          "output_type": "stream",
          "text": [
            " 19%|█▊        | 398/2140 [00:13<00:58, 29.54it/s]"
          ],
          "name": "stderr"
        },
        {
          "output_type": "stream",
          "text": [
            "(96, 96)\n",
            "(96, 96)\n",
            "(96, 96)\n",
            "(96, 96)\n",
            "(96, 96)\n",
            "(96, 96)\n",
            "(96, 96)\n"
          ],
          "name": "stdout"
        },
        {
          "output_type": "stream",
          "text": [
            " 19%|█▉        | 404/2140 [00:13<01:01, 28.06it/s]"
          ],
          "name": "stderr"
        },
        {
          "output_type": "stream",
          "text": [
            "(96, 96)\n",
            "(96, 96)\n",
            "(96, 96)\n",
            "(96, 96)\n",
            "(96, 96)\n",
            "(96, 96)\n"
          ],
          "name": "stdout"
        },
        {
          "output_type": "stream",
          "text": [
            " 19%|█▉        | 412/2140 [00:14<00:59, 29.11it/s]"
          ],
          "name": "stderr"
        },
        {
          "output_type": "stream",
          "text": [
            "(96, 96)\n",
            "(96, 96)\n",
            "(96, 96)\n",
            "(96, 96)\n",
            "(96, 96)\n",
            "(96, 96)\n",
            "(96, 96)\n",
            "(96, 96)\n"
          ],
          "name": "stdout"
        },
        {
          "output_type": "stream",
          "text": [
            " 20%|█▉        | 420/2140 [00:14<00:57, 29.78it/s]"
          ],
          "name": "stderr"
        },
        {
          "output_type": "stream",
          "text": [
            "(96, 96)\n",
            "(96, 96)\n",
            "(96, 96)\n",
            "(96, 96)\n",
            "(96, 96)\n",
            "(96, 96)\n",
            "(96, 96)\n"
          ],
          "name": "stdout"
        },
        {
          "output_type": "stream",
          "text": [
            " 20%|█▉        | 427/2140 [00:14<00:57, 29.95it/s]"
          ],
          "name": "stderr"
        },
        {
          "output_type": "stream",
          "text": [
            "(96, 96)\n",
            "(96, 96)\n",
            "(96, 96)\n",
            "(96, 96)\n",
            "(96, 96)\n",
            "(96, 96)\n",
            "(96, 96)\n"
          ],
          "name": "stdout"
        },
        {
          "output_type": "stream",
          "text": [
            " 20%|██        | 434/2140 [00:14<00:57, 29.51it/s]"
          ],
          "name": "stderr"
        },
        {
          "output_type": "stream",
          "text": [
            "(96, 96)\n",
            "(96, 96)\n",
            "(96, 96)\n",
            "(96, 96)\n",
            "(96, 96)\n",
            "(96, 96)\n",
            "(96, 96)\n"
          ],
          "name": "stdout"
        },
        {
          "output_type": "stream",
          "text": [
            " 21%|██        | 441/2140 [00:15<00:57, 29.77it/s]"
          ],
          "name": "stderr"
        },
        {
          "output_type": "stream",
          "text": [
            "(96, 96)\n",
            "(96, 96)\n",
            "(96, 96)\n",
            "(96, 96)\n",
            "(96, 96)\n",
            "(96, 96)\n",
            "(96, 96)\n"
          ],
          "name": "stdout"
        },
        {
          "output_type": "stream",
          "text": [
            " 21%|██        | 448/2140 [00:15<00:56, 29.94it/s]"
          ],
          "name": "stderr"
        },
        {
          "output_type": "stream",
          "text": [
            "(96, 96)\n",
            "(96, 96)\n",
            "(96, 96)\n",
            "(96, 96)\n",
            "(96, 96)\n",
            "(96, 96)\n",
            "(96, 96)\n"
          ],
          "name": "stdout"
        },
        {
          "output_type": "stream",
          "text": [
            " 21%|██▏       | 455/2140 [00:15<00:56, 29.98it/s]"
          ],
          "name": "stderr"
        },
        {
          "output_type": "stream",
          "text": [
            "(96, 96)\n",
            "(96, 96)\n",
            "(96, 96)\n",
            "(96, 96)\n",
            "(96, 96)\n",
            "(96, 96)\n",
            "(96, 96)\n"
          ],
          "name": "stdout"
        },
        {
          "output_type": "stream",
          "text": [
            " 22%|██▏       | 461/2140 [00:15<00:56, 29.60it/s]"
          ],
          "name": "stderr"
        },
        {
          "output_type": "stream",
          "text": [
            "(96, 96)\n",
            "(96, 96)\n",
            "(96, 96)\n",
            "(96, 96)\n",
            "(96, 96)\n",
            "(96, 96)\n",
            "(96, 96)\n"
          ],
          "name": "stdout"
        },
        {
          "output_type": "stream",
          "text": [
            " 22%|██▏       | 468/2140 [00:15<00:56, 29.65it/s]"
          ],
          "name": "stderr"
        },
        {
          "output_type": "stream",
          "text": [
            "(96, 96)\n",
            "(96, 96)\n",
            "(96, 96)\n",
            "(96, 96)\n",
            "(96, 96)\n",
            "(96, 96)\n",
            "(96, 96)\n"
          ],
          "name": "stdout"
        },
        {
          "output_type": "stream",
          "text": [
            " 22%|██▏       | 476/2140 [00:16<00:55, 30.07it/s]"
          ],
          "name": "stderr"
        },
        {
          "output_type": "stream",
          "text": [
            "(96, 96)\n",
            "(96, 96)\n",
            "(96, 96)\n",
            "(96, 96)\n",
            "(96, 96)\n",
            "(96, 96)\n",
            "(96, 96)\n"
          ],
          "name": "stdout"
        },
        {
          "output_type": "stream",
          "text": [
            "\r 22%|██▏       | 480/2140 [00:16<00:55, 30.01it/s]"
          ],
          "name": "stderr"
        },
        {
          "output_type": "stream",
          "text": [
            "(96, 96)\n",
            "(96, 96)\n",
            "(96, 96)\n",
            "(96, 96)\n",
            "(96, 96)\n",
            "(96, 96)\n"
          ],
          "name": "stdout"
        },
        {
          "output_type": "stream",
          "text": [
            " 23%|██▎       | 487/2140 [00:16<00:56, 29.23it/s]"
          ],
          "name": "stderr"
        },
        {
          "output_type": "stream",
          "text": [
            "(96, 96)\n",
            "(96, 96)\n",
            "(96, 96)\n",
            "(96, 96)\n",
            "(96, 96)\n",
            "(96, 96)\n"
          ],
          "name": "stdout"
        },
        {
          "output_type": "stream",
          "text": [
            " 23%|██▎       | 493/2140 [00:16<00:57, 28.40it/s]"
          ],
          "name": "stderr"
        },
        {
          "output_type": "stream",
          "text": [
            "(96, 96)\n",
            "(96, 96)\n",
            "(96, 96)\n",
            "(96, 96)\n",
            "(96, 96)\n",
            "(96, 96)\n"
          ],
          "name": "stdout"
        },
        {
          "output_type": "stream",
          "text": [
            " 23%|██▎       | 499/2140 [00:17<00:57, 28.79it/s]"
          ],
          "name": "stderr"
        },
        {
          "output_type": "stream",
          "text": [
            "(96, 96)\n",
            "(96, 96)\n",
            "(96, 96)\n",
            "(96, 96)\n",
            "(96, 96)\n",
            "(96, 96)\n",
            "(96, 96)\n"
          ],
          "name": "stdout"
        },
        {
          "output_type": "stream",
          "text": [
            " 24%|██▎       | 506/2140 [00:17<00:56, 29.05it/s]"
          ],
          "name": "stderr"
        },
        {
          "output_type": "stream",
          "text": [
            "(96, 96)\n",
            "(96, 96)\n",
            "(96, 96)\n",
            "(96, 96)\n",
            "(96, 96)\n",
            "(96, 96)\n",
            "(96, 96)\n"
          ],
          "name": "stdout"
        },
        {
          "output_type": "stream",
          "text": [
            " 24%|██▍       | 513/2140 [00:17<00:55, 29.57it/s]"
          ],
          "name": "stderr"
        },
        {
          "output_type": "stream",
          "text": [
            "(96, 96)\n",
            "(96, 96)\n",
            "(96, 96)\n",
            "(96, 96)\n",
            "(96, 96)\n",
            "(96, 96)\n",
            "(96, 96)\n"
          ],
          "name": "stdout"
        },
        {
          "output_type": "stream",
          "text": [
            " 24%|██▍       | 521/2140 [00:17<00:55, 29.41it/s]"
          ],
          "name": "stderr"
        },
        {
          "output_type": "stream",
          "text": [
            "(96, 96)\n",
            "(96, 96)\n",
            "(96, 96)\n",
            "(96, 96)\n",
            "(96, 96)\n",
            "(96, 96)\n",
            "(96, 96)\n"
          ],
          "name": "stdout"
        },
        {
          "output_type": "stream",
          "text": [
            " 25%|██▍       | 528/2140 [00:17<00:54, 29.35it/s]"
          ],
          "name": "stderr"
        },
        {
          "output_type": "stream",
          "text": [
            "(96, 96)\n",
            "(96, 96)\n",
            "(96, 96)\n",
            "(96, 96)\n",
            "(96, 96)\n",
            "(96, 96)\n",
            "(96, 96)\n"
          ],
          "name": "stdout"
        },
        {
          "output_type": "stream",
          "text": [
            " 25%|██▌       | 535/2140 [00:18<00:54, 29.63it/s]"
          ],
          "name": "stderr"
        },
        {
          "output_type": "stream",
          "text": [
            "(96, 96)\n",
            "(96, 96)\n",
            "(96, 96)\n",
            "(96, 96)\n",
            "(96, 96)\n",
            "(96, 96)\n",
            "(96, 96)\n"
          ],
          "name": "stdout"
        },
        {
          "output_type": "stream",
          "text": [
            " 25%|██▌       | 543/2140 [00:18<00:53, 30.03it/s]"
          ],
          "name": "stderr"
        },
        {
          "output_type": "stream",
          "text": [
            "(96, 96)\n",
            "(96, 96)\n",
            "(96, 96)\n",
            "(96, 96)\n",
            "(96, 96)\n",
            "(96, 96)\n",
            "(96, 96)\n"
          ],
          "name": "stdout"
        },
        {
          "output_type": "stream",
          "text": [
            " 26%|██▌       | 551/2140 [00:18<00:52, 30.25it/s]"
          ],
          "name": "stderr"
        },
        {
          "output_type": "stream",
          "text": [
            "(96, 96)\n",
            "(96, 96)\n",
            "(96, 96)\n",
            "(96, 96)\n",
            "(96, 96)\n",
            "(96, 96)\n",
            "(96, 96)"
          ],
          "name": "stdout"
        },
        {
          "output_type": "stream",
          "text": [
            "\r 26%|██▌       | 555/2140 [00:18<00:52, 30.18it/s]"
          ],
          "name": "stderr"
        },
        {
          "output_type": "stream",
          "text": [
            "\n",
            "(96, 96)\n",
            "(96, 96)\n",
            "(96, 96)\n",
            "(96, 96)\n",
            "(96, 96)\n",
            "(96, 96)\n",
            "(96, 96)\n"
          ],
          "name": "stdout"
        },
        {
          "output_type": "stream",
          "text": [
            " 26%|██▋       | 563/2140 [00:19<00:52, 30.04it/s]"
          ],
          "name": "stderr"
        },
        {
          "output_type": "stream",
          "text": [
            "(96, 96)\n",
            "(96, 96)\n",
            "(96, 96)\n",
            "(96, 96)\n",
            "(96, 96)\n",
            "(96, 96)\n",
            "(96, 96)\n"
          ],
          "name": "stdout"
        },
        {
          "output_type": "stream",
          "text": [
            " 27%|██▋       | 571/2140 [00:19<00:53, 29.23it/s]"
          ],
          "name": "stderr"
        },
        {
          "output_type": "stream",
          "text": [
            "(96, 96)\n",
            "(96, 96)\n",
            "(96, 96)\n",
            "(96, 96)\n",
            "(96, 96)\n",
            "(96, 96)\n"
          ],
          "name": "stdout"
        },
        {
          "output_type": "stream",
          "text": [
            " 27%|██▋       | 577/2140 [00:19<00:55, 28.23it/s]"
          ],
          "name": "stderr"
        },
        {
          "output_type": "stream",
          "text": [
            "(96, 96)\n",
            "(96, 96)\n",
            "(96, 96)\n",
            "(96, 96)\n",
            "(96, 96)\n",
            "(96, 96)\n",
            "(96, 96)\n"
          ],
          "name": "stdout"
        },
        {
          "output_type": "stream",
          "text": [
            " 27%|██▋       | 583/2140 [00:19<00:55, 28.10it/s]"
          ],
          "name": "stderr"
        },
        {
          "output_type": "stream",
          "text": [
            "(96, 96)\n",
            "(96, 96)\n",
            "(96, 96)\n",
            "(96, 96)\n",
            "(96, 96)\n",
            "(96, 96)\n"
          ],
          "name": "stdout"
        },
        {
          "output_type": "stream",
          "text": [
            " 28%|██▊       | 590/2140 [00:20<00:53, 28.81it/s]"
          ],
          "name": "stderr"
        },
        {
          "output_type": "stream",
          "text": [
            "(96, 96)\n",
            "(96, 96)\n",
            "(96, 96)\n",
            "(96, 96)\n",
            "(96, 96)\n",
            "(96, 96)\n",
            "(96, 96)\n"
          ],
          "name": "stdout"
        },
        {
          "output_type": "stream",
          "text": [
            " 28%|██▊       | 596/2140 [00:20<00:54, 28.30it/s]"
          ],
          "name": "stderr"
        },
        {
          "output_type": "stream",
          "text": [
            "(96, 96)\n",
            "(96, 96)\n",
            "(96, 96)\n",
            "(96, 96)\n",
            "(96, 96)\n",
            "(96, 96)\n",
            "(96, 96)\n"
          ],
          "name": "stdout"
        },
        {
          "output_type": "stream",
          "text": [
            " 28%|██▊       | 603/2140 [00:20<00:52, 29.05it/s]"
          ],
          "name": "stderr"
        },
        {
          "output_type": "stream",
          "text": [
            "(96, 96)\n",
            "(96, 96)\n",
            "(96, 96)\n",
            "(96, 96)\n",
            "(96, 96)\n",
            "(96, 96)\n",
            "(96, 96)\n"
          ],
          "name": "stdout"
        },
        {
          "output_type": "stream",
          "text": [
            " 28%|██▊       | 609/2140 [00:20<00:52, 29.33it/s]"
          ],
          "name": "stderr"
        },
        {
          "output_type": "stream",
          "text": [
            "(96, 96)\n",
            "(96, 96)\n",
            "(96, 96)\n",
            "(96, 96)\n",
            "(96, 96)\n",
            "(96, 96)\n",
            "(96, 96)\n"
          ],
          "name": "stdout"
        },
        {
          "output_type": "stream",
          "text": [
            " 29%|██▉       | 619/2140 [00:21<00:51, 29.69it/s]"
          ],
          "name": "stderr"
        },
        {
          "output_type": "stream",
          "text": [
            "(96, 96)\n",
            "(96, 96)\n",
            "(96, 96)\n",
            "(96, 96)\n",
            "(96, 96)\n",
            "(96, 96)\n",
            "(96, 96)\n"
          ],
          "name": "stdout"
        },
        {
          "output_type": "stream",
          "text": [
            " 29%|██▉       | 625/2140 [00:21<00:51, 29.50it/s]"
          ],
          "name": "stderr"
        },
        {
          "output_type": "stream",
          "text": [
            "(96, 96)\n",
            "(96, 96)\n",
            "(96, 96)\n",
            "(96, 96)\n",
            "(96, 96)\n",
            "(96, 96)\n",
            "(96, 96)\n"
          ],
          "name": "stdout"
        },
        {
          "output_type": "stream",
          "text": [
            " 29%|██▉       | 631/2140 [00:21<00:52, 28.62it/s]"
          ],
          "name": "stderr"
        },
        {
          "output_type": "stream",
          "text": [
            "(96, 96)\n",
            "(96, 96)\n",
            "(96, 96)\n",
            "(96, 96)\n",
            "(96, 96)\n",
            "(96, 96)\n"
          ],
          "name": "stdout"
        },
        {
          "output_type": "stream",
          "text": [
            " 30%|██▉       | 637/2140 [00:21<00:52, 28.80it/s]"
          ],
          "name": "stderr"
        },
        {
          "output_type": "stream",
          "text": [
            "(96, 96)\n",
            "(96, 96)\n",
            "(96, 96)\n",
            "(96, 96)\n",
            "(96, 96)\n",
            "(96, 96)\n",
            "(96, 96)\n"
          ],
          "name": "stdout"
        },
        {
          "output_type": "stream",
          "text": [
            " 30%|███       | 646/2140 [00:22<00:50, 29.36it/s]"
          ],
          "name": "stderr"
        },
        {
          "output_type": "stream",
          "text": [
            "(96, 96)\n",
            "(96, 96)\n",
            "(96, 96)\n",
            "(96, 96)\n",
            "(96, 96)\n",
            "(96, 96)\n",
            "(96, 96)"
          ],
          "name": "stdout"
        },
        {
          "output_type": "stream",
          "text": [
            " 30%|███       | 652/2140 [00:22<00:51, 28.80it/s]"
          ],
          "name": "stderr"
        },
        {
          "output_type": "stream",
          "text": [
            "\n",
            "(96, 96)\n",
            "(96, 96)\n",
            "(96, 96)\n",
            "(96, 96)\n",
            "(96, 96)\n",
            "(96, 96)\n"
          ],
          "name": "stdout"
        },
        {
          "output_type": "stream",
          "text": [
            " 31%|███       | 659/2140 [00:22<00:50, 29.33it/s]"
          ],
          "name": "stderr"
        },
        {
          "output_type": "stream",
          "text": [
            "(96, 96)\n",
            "(96, 96)\n",
            "(96, 96)\n",
            "(96, 96)\n",
            "(96, 96)\n",
            "(96, 96)\n",
            "(96, 96)"
          ],
          "name": "stdout"
        },
        {
          "output_type": "stream",
          "text": [
            " 31%|███       | 665/2140 [00:22<00:51, 28.88it/s]"
          ],
          "name": "stderr"
        },
        {
          "output_type": "stream",
          "text": [
            "\n",
            "(96, 96)\n",
            "(96, 96)\n",
            "(96, 96)\n",
            "(96, 96)\n",
            "(96, 96)\n",
            "(96, 96)\n"
          ],
          "name": "stdout"
        },
        {
          "output_type": "stream",
          "text": [
            " 31%|███▏      | 672/2140 [00:22<00:50, 29.26it/s]"
          ],
          "name": "stderr"
        },
        {
          "output_type": "stream",
          "text": [
            "(96, 96)\n",
            "(96, 96)\n",
            "(96, 96)\n",
            "(96, 96)\n",
            "(96, 96)\n",
            "(96, 96)\n",
            "(96, 96)"
          ],
          "name": "stdout"
        },
        {
          "output_type": "stream",
          "text": [
            " 32%|███▏      | 678/2140 [00:23<00:51, 28.14it/s]"
          ],
          "name": "stderr"
        },
        {
          "output_type": "stream",
          "text": [
            "\n",
            "(96, 96)\n",
            "(96, 96)\n",
            "(96, 96)\n",
            "(96, 96)\n",
            "(96, 96)\n",
            "(96, 96)\n"
          ],
          "name": "stdout"
        },
        {
          "output_type": "stream",
          "text": [
            " 32%|███▏      | 684/2140 [00:23<00:51, 28.46it/s]"
          ],
          "name": "stderr"
        },
        {
          "output_type": "stream",
          "text": [
            "(96, 96)\n",
            "(96, 96)\n",
            "(96, 96)\n",
            "(96, 96)\n",
            "(96, 96)\n",
            "(96, 96)\n",
            "(96, 96)\n"
          ],
          "name": "stdout"
        },
        {
          "output_type": "stream",
          "text": [
            " 32%|███▏      | 690/2140 [00:23<00:50, 28.98it/s]"
          ],
          "name": "stderr"
        },
        {
          "output_type": "stream",
          "text": [
            "(96, 96)\n",
            "(96, 96)\n",
            "(96, 96)\n",
            "(96, 96)\n",
            "(96, 96)\n",
            "(96, 96)\n",
            "(96, 96)\n"
          ],
          "name": "stdout"
        },
        {
          "output_type": "stream",
          "text": [
            " 33%|███▎      | 696/2140 [00:23<00:49, 29.11it/s]"
          ],
          "name": "stderr"
        },
        {
          "output_type": "stream",
          "text": [
            "(96, 96)\n",
            "(96, 96)\n",
            "(96, 96)\n",
            "(96, 96)\n",
            "(96, 96)\n",
            "(96, 96)\n"
          ],
          "name": "stdout"
        },
        {
          "output_type": "stream",
          "text": [
            " 33%|███▎      | 702/2140 [00:23<00:49, 28.85it/s]"
          ],
          "name": "stderr"
        },
        {
          "output_type": "stream",
          "text": [
            "(96, 96)\n",
            "(96, 96)\n",
            "(96, 96)\n",
            "(96, 96)\n",
            "(96, 96)\n",
            "(96, 96)\n"
          ],
          "name": "stdout"
        },
        {
          "output_type": "stream",
          "text": [
            " 33%|███▎      | 708/2140 [00:24<00:51, 27.99it/s]"
          ],
          "name": "stderr"
        },
        {
          "output_type": "stream",
          "text": [
            "(96, 96)\n",
            "(96, 96)\n",
            "(96, 96)\n",
            "(96, 96)\n",
            "(96, 96)\n",
            "(96, 96)\n"
          ],
          "name": "stdout"
        },
        {
          "output_type": "stream",
          "text": [
            " 33%|███▎      | 714/2140 [00:24<00:49, 28.76it/s]"
          ],
          "name": "stderr"
        },
        {
          "output_type": "stream",
          "text": [
            "(96, 96)\n",
            "(96, 96)\n",
            "(96, 96)\n",
            "(96, 96)\n",
            "(96, 96)\n",
            "(96, 96)\n"
          ],
          "name": "stdout"
        },
        {
          "output_type": "stream",
          "text": [
            " 34%|███▎      | 720/2140 [00:24<00:48, 29.00it/s]"
          ],
          "name": "stderr"
        },
        {
          "output_type": "stream",
          "text": [
            "(96, 96)\n",
            "(96, 96)\n",
            "(96, 96)\n",
            "(96, 96)\n",
            "(96, 96)\n",
            "(96, 96)\n"
          ],
          "name": "stdout"
        },
        {
          "output_type": "stream",
          "text": [
            " 34%|███▍      | 729/2140 [00:24<00:49, 28.46it/s]"
          ],
          "name": "stderr"
        },
        {
          "output_type": "stream",
          "text": [
            "(96, 96)\n",
            "(96, 96)\n",
            "(96, 96)\n",
            "(96, 96)\n",
            "(96, 96)\n",
            "(96, 96)\n",
            "(96, 96)"
          ],
          "name": "stdout"
        },
        {
          "output_type": "stream",
          "text": [
            " 34%|███▍      | 735/2140 [00:25<00:49, 28.39it/s]"
          ],
          "name": "stderr"
        },
        {
          "output_type": "stream",
          "text": [
            "\n",
            "(96, 96)\n",
            "(96, 96)\n",
            "(96, 96)\n",
            "(96, 96)\n",
            "(96, 96)\n",
            "(96, 96)\n"
          ],
          "name": "stdout"
        },
        {
          "output_type": "stream",
          "text": [
            " 35%|███▍      | 742/2140 [00:25<00:48, 28.68it/s]"
          ],
          "name": "stderr"
        },
        {
          "output_type": "stream",
          "text": [
            "(96, 96)\n",
            "(96, 96)\n",
            "(96, 96)\n",
            "(96, 96)\n",
            "(96, 96)\n",
            "(96, 96)\n",
            "(96, 96)\n"
          ],
          "name": "stdout"
        },
        {
          "output_type": "stream",
          "text": [
            " 35%|███▍      | 748/2140 [00:25<00:47, 29.02it/s]"
          ],
          "name": "stderr"
        },
        {
          "output_type": "stream",
          "text": [
            "(96, 96)\n",
            "(96, 96)\n",
            "(96, 96)\n",
            "(96, 96)\n",
            "(96, 96)\n",
            "(96, 96)\n"
          ],
          "name": "stdout"
        },
        {
          "output_type": "stream",
          "text": [
            " 35%|███▌      | 754/2140 [00:25<00:49, 28.12it/s]"
          ],
          "name": "stderr"
        },
        {
          "output_type": "stream",
          "text": [
            "(96, 96)\n",
            "(96, 96)\n",
            "(96, 96)\n",
            "(96, 96)\n",
            "(96, 96)\n",
            "(96, 96)\n",
            "(96, 96)\n"
          ],
          "name": "stdout"
        },
        {
          "output_type": "stream",
          "text": [
            " 36%|███▌      | 761/2140 [00:26<00:47, 28.97it/s]"
          ],
          "name": "stderr"
        },
        {
          "output_type": "stream",
          "text": [
            "(96, 96)\n",
            "(96, 96)\n",
            "(96, 96)\n",
            "(96, 96)\n",
            "(96, 96)\n",
            "(96, 96)\n",
            "(96, 96)\n"
          ],
          "name": "stdout"
        },
        {
          "output_type": "stream",
          "text": [
            " 36%|███▌      | 768/2140 [00:26<00:46, 29.61it/s]"
          ],
          "name": "stderr"
        },
        {
          "output_type": "stream",
          "text": [
            "(96, 96)\n",
            "(96, 96)\n",
            "(96, 96)\n",
            "(96, 96)\n",
            "(96, 96)\n",
            "(96, 96)\n",
            "(96, 96)\n"
          ],
          "name": "stdout"
        },
        {
          "output_type": "stream",
          "text": [
            " 36%|███▌      | 775/2140 [00:26<00:46, 29.53it/s]"
          ],
          "name": "stderr"
        },
        {
          "output_type": "stream",
          "text": [
            "(96, 96)\n",
            "(96, 96)\n",
            "(96, 96)\n",
            "(96, 96)\n",
            "(96, 96)\n",
            "(96, 96)\n",
            "(96, 96)\n"
          ],
          "name": "stdout"
        },
        {
          "output_type": "stream",
          "text": [
            " 36%|███▋      | 781/2140 [00:26<00:46, 29.09it/s]"
          ],
          "name": "stderr"
        },
        {
          "output_type": "stream",
          "text": [
            "(96, 96)\n",
            "(96, 96)\n",
            "(96, 96)\n",
            "(96, 96)\n",
            "(96, 96)\n",
            "(96, 96)\n",
            "(96, 96)\n"
          ],
          "name": "stdout"
        },
        {
          "output_type": "stream",
          "text": [
            " 37%|███▋      | 788/2140 [00:26<00:45, 29.58it/s]"
          ],
          "name": "stderr"
        },
        {
          "output_type": "stream",
          "text": [
            "(96, 96)\n",
            "(96, 96)\n",
            "(96, 96)\n",
            "(96, 96)\n",
            "(96, 96)\n",
            "(96, 96)\n",
            "(96, 96)\n"
          ],
          "name": "stdout"
        },
        {
          "output_type": "stream",
          "text": [
            " 37%|███▋      | 795/2140 [00:27<00:44, 29.98it/s]"
          ],
          "name": "stderr"
        },
        {
          "output_type": "stream",
          "text": [
            "(96, 96)\n",
            "(96, 96)\n",
            "(96, 96)\n",
            "(96, 96)\n",
            "(96, 96)\n",
            "(96, 96)\n",
            "(96, 96)\n"
          ],
          "name": "stdout"
        },
        {
          "output_type": "stream",
          "text": [
            " 38%|███▊      | 803/2140 [00:27<00:44, 30.16it/s]"
          ],
          "name": "stderr"
        },
        {
          "output_type": "stream",
          "text": [
            "(96, 96)\n",
            "(96, 96)\n",
            "(96, 96)\n",
            "(96, 96)\n",
            "(96, 96)\n",
            "(96, 96)\n",
            "(96, 96)\n"
          ],
          "name": "stdout"
        },
        {
          "output_type": "stream",
          "text": [
            " 38%|███▊      | 811/2140 [00:27<00:44, 29.76it/s]"
          ],
          "name": "stderr"
        },
        {
          "output_type": "stream",
          "text": [
            "(96, 96)\n",
            "(96, 96)\n",
            "(96, 96)\n",
            "(96, 96)\n",
            "(96, 96)\n",
            "(96, 96)\n",
            "(96, 96)\n"
          ],
          "name": "stdout"
        },
        {
          "output_type": "stream",
          "text": [
            " 38%|███▊      | 817/2140 [00:27<00:45, 29.09it/s]"
          ],
          "name": "stderr"
        },
        {
          "output_type": "stream",
          "text": [
            "(96, 96)\n",
            "(96, 96)\n",
            "(96, 96)\n",
            "(96, 96)\n",
            "(96, 96)\n",
            "(96, 96)\n"
          ],
          "name": "stdout"
        },
        {
          "output_type": "stream",
          "text": [
            " 39%|███▊      | 824/2140 [00:28<00:44, 29.64it/s]"
          ],
          "name": "stderr"
        },
        {
          "output_type": "stream",
          "text": [
            "(96, 96)\n",
            "(96, 96)\n",
            "(96, 96)\n",
            "(96, 96)\n",
            "(96, 96)\n",
            "(96, 96)\n",
            "(96, 96)\n"
          ],
          "name": "stdout"
        },
        {
          "output_type": "stream",
          "text": [
            " 39%|███▉      | 831/2140 [00:28<00:43, 29.78it/s]"
          ],
          "name": "stderr"
        },
        {
          "output_type": "stream",
          "text": [
            "(96, 96)\n",
            "(96, 96)\n",
            "(96, 96)\n",
            "(96, 96)\n",
            "(96, 96)\n",
            "(96, 96)\n",
            "(96, 96)\n"
          ],
          "name": "stdout"
        },
        {
          "output_type": "stream",
          "text": [
            " 39%|███▉      | 838/2140 [00:28<00:43, 30.02it/s]"
          ],
          "name": "stderr"
        },
        {
          "output_type": "stream",
          "text": [
            "(96, 96)\n",
            "(96, 96)\n",
            "(96, 96)\n",
            "(96, 96)\n",
            "(96, 96)\n",
            "(96, 96)\n",
            "(96, 96)"
          ],
          "name": "stdout"
        },
        {
          "output_type": "stream",
          "text": [
            "\r 39%|███▉      | 842/2140 [00:28<00:43, 30.06it/s]"
          ],
          "name": "stderr"
        },
        {
          "output_type": "stream",
          "text": [
            "\n",
            "(96, 96)\n",
            "(96, 96)\n",
            "(96, 96)\n",
            "(96, 96)\n",
            "(96, 96)\n",
            "(96, 96)\n",
            "(96, 96)\n"
          ],
          "name": "stdout"
        },
        {
          "output_type": "stream",
          "text": [
            " 40%|███▉      | 850/2140 [00:29<00:42, 30.24it/s]"
          ],
          "name": "stderr"
        },
        {
          "output_type": "stream",
          "text": [
            "(96, 96)\n",
            "(96, 96)\n",
            "(96, 96)\n",
            "(96, 96)\n",
            "(96, 96)\n",
            "(96, 96)\n",
            "(96, 96)\n"
          ],
          "name": "stdout"
        },
        {
          "output_type": "stream",
          "text": [
            " 40%|████      | 857/2140 [00:29<00:43, 29.61it/s]"
          ],
          "name": "stderr"
        },
        {
          "output_type": "stream",
          "text": [
            "(96, 96)\n",
            "(96, 96)\n",
            "(96, 96)\n",
            "(96, 96)\n",
            "(96, 96)\n",
            "(96, 96)\n",
            "(96, 96)\n"
          ],
          "name": "stdout"
        },
        {
          "output_type": "stream",
          "text": [
            " 40%|████      | 864/2140 [00:29<00:42, 29.75it/s]"
          ],
          "name": "stderr"
        },
        {
          "output_type": "stream",
          "text": [
            "(96, 96)\n",
            "(96, 96)\n",
            "(96, 96)\n",
            "(96, 96)\n",
            "(96, 96)\n",
            "(96, 96)\n"
          ],
          "name": "stdout"
        },
        {
          "output_type": "stream",
          "text": [
            " 41%|████      | 871/2140 [00:29<00:43, 29.02it/s]"
          ],
          "name": "stderr"
        },
        {
          "output_type": "stream",
          "text": [
            "(96, 96)\n",
            "(96, 96)\n",
            "(96, 96)\n",
            "(96, 96)\n",
            "(96, 96)\n",
            "(96, 96)\n",
            "(96, 96)\n"
          ],
          "name": "stdout"
        },
        {
          "output_type": "stream",
          "text": [
            " 41%|████      | 878/2140 [00:29<00:43, 29.26it/s]"
          ],
          "name": "stderr"
        },
        {
          "output_type": "stream",
          "text": [
            "(96, 96)\n",
            "(96, 96)\n",
            "(96, 96)\n",
            "(96, 96)\n",
            "(96, 96)\n",
            "(96, 96)\n",
            "(96, 96)\n"
          ],
          "name": "stdout"
        },
        {
          "output_type": "stream",
          "text": [
            " 41%|████▏     | 885/2140 [00:30<00:42, 29.73it/s]"
          ],
          "name": "stderr"
        },
        {
          "output_type": "stream",
          "text": [
            "(96, 96)\n",
            "(96, 96)\n",
            "(96, 96)\n",
            "(96, 96)\n",
            "(96, 96)\n",
            "(96, 96)\n",
            "(96, 96)\n"
          ],
          "name": "stdout"
        },
        {
          "output_type": "stream",
          "text": [
            " 42%|████▏     | 892/2140 [00:30<00:41, 30.04it/s]"
          ],
          "name": "stderr"
        },
        {
          "output_type": "stream",
          "text": [
            "(96, 96)\n",
            "(96, 96)\n",
            "(96, 96)\n",
            "(96, 96)\n",
            "(96, 96)\n",
            "(96, 96)\n",
            "(96, 96)\n"
          ],
          "name": "stdout"
        },
        {
          "output_type": "stream",
          "text": [
            " 42%|████▏     | 900/2140 [00:30<00:40, 30.35it/s]"
          ],
          "name": "stderr"
        },
        {
          "output_type": "stream",
          "text": [
            "(96, 96)\n",
            "(96, 96)\n",
            "(96, 96)\n",
            "(96, 96)\n",
            "(96, 96)\n",
            "(96, 96)\n",
            "(96, 96)"
          ],
          "name": "stdout"
        },
        {
          "output_type": "stream",
          "text": [
            "\r 42%|████▏     | 904/2140 [00:30<00:40, 30.26it/s]"
          ],
          "name": "stderr"
        },
        {
          "output_type": "stream",
          "text": [
            "\n",
            "(96, 96)\n",
            "(96, 96)\n",
            "(96, 96)\n",
            "(96, 96)\n",
            "(96, 96)\n",
            "(96, 96)\n",
            "(96, 96)\n"
          ],
          "name": "stdout"
        },
        {
          "output_type": "stream",
          "text": [
            " 43%|████▎     | 911/2140 [00:31<00:41, 29.61it/s]"
          ],
          "name": "stderr"
        },
        {
          "output_type": "stream",
          "text": [
            "(96, 96)\n",
            "(96, 96)\n",
            "(96, 96)\n",
            "(96, 96)\n",
            "(96, 96)\n",
            "(96, 96)\n",
            "(96, 96)\n"
          ],
          "name": "stdout"
        },
        {
          "output_type": "stream",
          "text": [
            " 43%|████▎     | 919/2140 [00:31<00:40, 30.04it/s]"
          ],
          "name": "stderr"
        },
        {
          "output_type": "stream",
          "text": [
            "(96, 96)\n",
            "(96, 96)\n",
            "(96, 96)\n",
            "(96, 96)\n",
            "(96, 96)\n",
            "(96, 96)\n",
            "(96, 96)\n"
          ],
          "name": "stdout"
        },
        {
          "output_type": "stream",
          "text": [
            " 43%|████▎     | 927/2140 [00:31<00:40, 30.25it/s]"
          ],
          "name": "stderr"
        },
        {
          "output_type": "stream",
          "text": [
            "(96, 96)\n",
            "(96, 96)\n",
            "(96, 96)\n",
            "(96, 96)\n",
            "(96, 96)\n",
            "(96, 96)\n",
            "(96, 96)\n"
          ],
          "name": "stdout"
        },
        {
          "output_type": "stream",
          "text": [
            " 44%|████▎     | 935/2140 [00:31<00:40, 29.99it/s]"
          ],
          "name": "stderr"
        },
        {
          "output_type": "stream",
          "text": [
            "(96, 96)\n",
            "(96, 96)\n",
            "(96, 96)\n",
            "(96, 96)\n",
            "(96, 96)\n",
            "(96, 96)\n",
            "(96, 96)"
          ],
          "name": "stdout"
        },
        {
          "output_type": "stream",
          "text": [
            "\r 44%|████▍     | 939/2140 [00:32<00:40, 29.69it/s]"
          ],
          "name": "stderr"
        },
        {
          "output_type": "stream",
          "text": [
            "\n",
            "(96, 96)\n",
            "(96, 96)\n",
            "(96, 96)\n",
            "(96, 96)\n",
            "(96, 96)\n",
            "(96, 96)\n",
            "(96, 96)\n"
          ],
          "name": "stdout"
        },
        {
          "output_type": "stream",
          "text": [
            " 44%|████▍     | 947/2140 [00:32<00:39, 30.04it/s]"
          ],
          "name": "stderr"
        },
        {
          "output_type": "stream",
          "text": [
            "(96, 96)\n",
            "(96, 96)\n",
            "(96, 96)\n",
            "(96, 96)\n",
            "(96, 96)\n",
            "(96, 96)\n",
            "(96, 96)\n"
          ],
          "name": "stdout"
        },
        {
          "output_type": "stream",
          "text": [
            " 45%|████▍     | 955/2140 [00:32<00:39, 30.20it/s]"
          ],
          "name": "stderr"
        },
        {
          "output_type": "stream",
          "text": [
            "(96, 96)\n",
            "(96, 96)\n",
            "(96, 96)\n",
            "(96, 96)\n",
            "(96, 96)\n",
            "(96, 96)\n",
            "(96, 96)\n"
          ],
          "name": "stdout"
        },
        {
          "output_type": "stream",
          "text": [
            " 45%|████▌     | 963/2140 [00:32<00:38, 30.34it/s]"
          ],
          "name": "stderr"
        },
        {
          "output_type": "stream",
          "text": [
            "(96, 96)\n",
            "(96, 96)\n",
            "(96, 96)\n",
            "(96, 96)\n",
            "(96, 96)\n",
            "(96, 96)\n",
            "(96, 96)"
          ],
          "name": "stdout"
        },
        {
          "output_type": "stream",
          "text": [
            "\r 45%|████▌     | 967/2140 [00:32<00:38, 30.20it/s]"
          ],
          "name": "stderr"
        },
        {
          "output_type": "stream",
          "text": [
            "\n",
            "(96, 96)\n",
            "(96, 96)\n",
            "(96, 96)\n",
            "(96, 96)\n",
            "(96, 96)\n",
            "(96, 96)\n",
            "(96, 96)\n"
          ],
          "name": "stdout"
        },
        {
          "output_type": "stream",
          "text": [
            " 46%|████▌     | 975/2140 [00:33<00:38, 30.21it/s]"
          ],
          "name": "stderr"
        },
        {
          "output_type": "stream",
          "text": [
            "(96, 96)\n",
            "(96, 96)\n",
            "(96, 96)\n",
            "(96, 96)\n",
            "(96, 96)\n",
            "(96, 96)\n",
            "(96, 96)\n"
          ],
          "name": "stdout"
        },
        {
          "output_type": "stream",
          "text": [
            " 46%|████▌     | 983/2140 [00:33<00:38, 29.81it/s]"
          ],
          "name": "stderr"
        },
        {
          "output_type": "stream",
          "text": [
            "(96, 96)\n",
            "(96, 96)\n",
            "(96, 96)\n",
            "(96, 96)\n",
            "(96, 96)\n",
            "(96, 96)\n"
          ],
          "name": "stdout"
        },
        {
          "output_type": "stream",
          "text": [
            " 46%|████▌     | 989/2140 [00:33<00:38, 29.56it/s]"
          ],
          "name": "stderr"
        },
        {
          "output_type": "stream",
          "text": [
            "(96, 96)\n",
            "(96, 96)\n",
            "(96, 96)\n",
            "(96, 96)\n",
            "(96, 96)\n",
            "(96, 96)\n",
            "(96, 96)\n"
          ],
          "name": "stdout"
        },
        {
          "output_type": "stream",
          "text": [
            " 47%|████▋     | 996/2140 [00:33<00:38, 29.87it/s]"
          ],
          "name": "stderr"
        },
        {
          "output_type": "stream",
          "text": [
            "(96, 96)\n",
            "(96, 96)\n",
            "(96, 96)\n",
            "(96, 96)\n",
            "(96, 96)\n",
            "(96, 96)\n",
            "(96, 96)\n"
          ],
          "name": "stdout"
        },
        {
          "output_type": "stream",
          "text": [
            " 47%|████▋     | 1003/2140 [00:34<00:38, 29.91it/s]"
          ],
          "name": "stderr"
        },
        {
          "output_type": "stream",
          "text": [
            "(96, 96)\n",
            "(96, 96)\n",
            "(96, 96)\n",
            "(96, 96)\n",
            "(96, 96)\n",
            "(96, 96)\n",
            "(96, 96)\n"
          ],
          "name": "stdout"
        },
        {
          "output_type": "stream",
          "text": [
            " 47%|████▋     | 1010/2140 [00:34<00:37, 30.13it/s]"
          ],
          "name": "stderr"
        },
        {
          "output_type": "stream",
          "text": [
            "(96, 96)\n",
            "(96, 96)\n",
            "(96, 96)\n",
            "(96, 96)\n",
            "(96, 96)\n",
            "(96, 96)\n",
            "(96, 96)\n"
          ],
          "name": "stdout"
        },
        {
          "output_type": "stream",
          "text": [
            " 48%|████▊     | 1018/2140 [00:34<00:37, 30.21it/s]"
          ],
          "name": "stderr"
        },
        {
          "output_type": "stream",
          "text": [
            "(96, 96)\n",
            "(96, 96)\n",
            "(96, 96)\n",
            "(96, 96)\n",
            "(96, 96)\n",
            "(96, 96)\n",
            "(96, 96)\n"
          ],
          "name": "stdout"
        },
        {
          "output_type": "stream",
          "text": [
            "\r 48%|████▊     | 1022/2140 [00:34<00:37, 29.93it/s]"
          ],
          "name": "stderr"
        },
        {
          "output_type": "stream",
          "text": [
            "(96, 96)\n",
            "(96, 96)\n",
            "(96, 96)\n",
            "(96, 96)\n",
            "(96, 96)\n",
            "(96, 96)\n",
            "(96, 96)\n"
          ],
          "name": "stdout"
        },
        {
          "output_type": "stream",
          "text": [
            " 48%|████▊     | 1030/2140 [00:35<00:36, 30.03it/s]"
          ],
          "name": "stderr"
        },
        {
          "output_type": "stream",
          "text": [
            "(96, 96)\n",
            "(96, 96)\n",
            "(96, 96)\n",
            "(96, 96)\n",
            "(96, 96)\n",
            "(96, 96)\n",
            "(96, 96)\n"
          ],
          "name": "stdout"
        },
        {
          "output_type": "stream",
          "text": [
            " 48%|████▊     | 1037/2140 [00:35<00:39, 28.17it/s]"
          ],
          "name": "stderr"
        },
        {
          "output_type": "stream",
          "text": [
            "(96, 96)\n",
            "(96, 96)\n",
            "(96, 96)\n",
            "(96, 96)\n",
            "(96, 96)\n",
            "(96, 96)\n"
          ],
          "name": "stdout"
        },
        {
          "output_type": "stream",
          "text": [
            " 49%|████▉     | 1044/2140 [00:35<00:37, 28.94it/s]"
          ],
          "name": "stderr"
        },
        {
          "output_type": "stream",
          "text": [
            "(96, 96)\n",
            "(96, 96)\n",
            "(96, 96)\n",
            "(96, 96)\n",
            "(96, 96)\n",
            "(96, 96)\n",
            "(96, 96)\n"
          ],
          "name": "stdout"
        },
        {
          "output_type": "stream",
          "text": [
            " 49%|████▉     | 1051/2140 [00:35<00:36, 29.52it/s]"
          ],
          "name": "stderr"
        },
        {
          "output_type": "stream",
          "text": [
            "(96, 96)\n",
            "(96, 96)\n",
            "(96, 96)\n",
            "(96, 96)\n",
            "(96, 96)\n",
            "(96, 96)\n",
            "(96, 96)\n"
          ],
          "name": "stdout"
        },
        {
          "output_type": "stream",
          "text": [
            " 49%|████▉     | 1058/2140 [00:36<00:36, 29.65it/s]"
          ],
          "name": "stderr"
        },
        {
          "output_type": "stream",
          "text": [
            "(96, 96)\n",
            "(96, 96)\n",
            "(96, 96)\n",
            "(96, 96)\n",
            "(96, 96)\n",
            "(96, 96)\n",
            "(96, 96)\n"
          ],
          "name": "stdout"
        },
        {
          "output_type": "stream",
          "text": [
            " 50%|████▉     | 1065/2140 [00:36<00:35, 29.95it/s]"
          ],
          "name": "stderr"
        },
        {
          "output_type": "stream",
          "text": [
            "(96, 96)\n",
            "(96, 96)\n",
            "(96, 96)\n",
            "(96, 96)\n",
            "(96, 96)\n",
            "(96, 96)\n",
            "(96, 96)\n"
          ],
          "name": "stdout"
        },
        {
          "output_type": "stream",
          "text": [
            " 50%|█████     | 1071/2140 [00:36<00:37, 28.77it/s]"
          ],
          "name": "stderr"
        },
        {
          "output_type": "stream",
          "text": [
            "(96, 96)\n",
            "(96, 96)\n",
            "(96, 96)\n",
            "(96, 96)\n",
            "(96, 96)\n",
            "(96, 96)\n"
          ],
          "name": "stdout"
        },
        {
          "output_type": "stream",
          "text": [
            " 50%|█████     | 1078/2140 [00:36<00:36, 29.39it/s]"
          ],
          "name": "stderr"
        },
        {
          "output_type": "stream",
          "text": [
            "(96, 96)\n",
            "(96, 96)\n",
            "(96, 96)\n",
            "(96, 96)\n",
            "(96, 96)\n",
            "(96, 96)\n",
            "(96, 96)\n"
          ],
          "name": "stdout"
        },
        {
          "output_type": "stream",
          "text": [
            " 51%|█████     | 1085/2140 [00:36<00:35, 29.56it/s]"
          ],
          "name": "stderr"
        },
        {
          "output_type": "stream",
          "text": [
            "(96, 96)\n",
            "(96, 96)\n",
            "(96, 96)\n",
            "(96, 96)\n",
            "(96, 96)\n",
            "(96, 96)\n",
            "(96, 96)\n"
          ],
          "name": "stdout"
        },
        {
          "output_type": "stream",
          "text": [
            " 51%|█████     | 1091/2140 [00:37<00:35, 29.53it/s]"
          ],
          "name": "stderr"
        },
        {
          "output_type": "stream",
          "text": [
            "(96, 96)\n",
            "(96, 96)\n",
            "(96, 96)\n",
            "(96, 96)\n",
            "(96, 96)\n",
            "(96, 96)\n",
            "(96, 96)\n"
          ],
          "name": "stdout"
        },
        {
          "output_type": "stream",
          "text": [
            " 51%|█████▏    | 1100/2140 [00:37<00:35, 29.15it/s]"
          ],
          "name": "stderr"
        },
        {
          "output_type": "stream",
          "text": [
            "(96, 96)\n",
            "(96, 96)\n",
            "(96, 96)\n",
            "(96, 96)\n",
            "(96, 96)\n",
            "(96, 96)\n",
            "(96, 96)"
          ],
          "name": "stdout"
        },
        {
          "output_type": "stream",
          "text": [
            " 52%|█████▏    | 1107/2140 [00:37<00:34, 29.73it/s]"
          ],
          "name": "stderr"
        },
        {
          "output_type": "stream",
          "text": [
            "\n",
            "(96, 96)\n",
            "(96, 96)\n",
            "(96, 96)\n",
            "(96, 96)\n",
            "(96, 96)\n",
            "(96, 96)\n",
            "(96, 96)"
          ],
          "name": "stdout"
        },
        {
          "output_type": "stream",
          "text": [
            " 52%|█████▏    | 1113/2140 [00:37<00:35, 29.33it/s]"
          ],
          "name": "stderr"
        },
        {
          "output_type": "stream",
          "text": [
            "\n",
            "(96, 96)\n",
            "(96, 96)\n",
            "(96, 96)\n",
            "(96, 96)\n",
            "(96, 96)\n",
            "(96, 96)\n",
            "(96, 96)\n"
          ],
          "name": "stdout"
        },
        {
          "output_type": "stream",
          "text": [
            " 52%|█████▏    | 1119/2140 [00:38<00:34, 29.24it/s]"
          ],
          "name": "stderr"
        },
        {
          "output_type": "stream",
          "text": [
            "(96, 96)\n",
            "(96, 96)\n",
            "(96, 96)\n",
            "(96, 96)\n",
            "(96, 96)\n",
            "(96, 96)\n"
          ],
          "name": "stdout"
        },
        {
          "output_type": "stream",
          "text": [
            " 53%|█████▎    | 1125/2140 [00:38<00:35, 28.26it/s]"
          ],
          "name": "stderr"
        },
        {
          "output_type": "stream",
          "text": [
            "(96, 96)\n",
            "(96, 96)\n",
            "(96, 96)\n",
            "(96, 96)\n",
            "(96, 96)\n",
            "(96, 96)\n",
            "(96, 96)\n"
          ],
          "name": "stdout"
        },
        {
          "output_type": "stream",
          "text": [
            " 53%|█████▎    | 1131/2140 [00:38<00:35, 28.60it/s]"
          ],
          "name": "stderr"
        },
        {
          "output_type": "stream",
          "text": [
            "(96, 96)\n",
            "(96, 96)\n",
            "(96, 96)\n",
            "(96, 96)\n",
            "(96, 96)\n",
            "(96, 96)\n",
            "(96, 96)\n"
          ],
          "name": "stdout"
        },
        {
          "output_type": "stream",
          "text": [
            " 53%|█████▎    | 1139/2140 [00:38<00:34, 29.41it/s]"
          ],
          "name": "stderr"
        },
        {
          "output_type": "stream",
          "text": [
            "(96, 96)\n",
            "(96, 96)\n",
            "(96, 96)\n",
            "(96, 96)\n",
            "(96, 96)\n",
            "(96, 96)\n"
          ],
          "name": "stdout"
        },
        {
          "output_type": "stream",
          "text": [
            " 54%|█████▎    | 1145/2140 [00:39<00:35, 27.80it/s]"
          ],
          "name": "stderr"
        },
        {
          "output_type": "stream",
          "text": [
            "(96, 96)\n",
            "(96, 96)\n",
            "(96, 96)\n",
            "(96, 96)\n",
            "(96, 96)\n",
            "(96, 96)\n"
          ],
          "name": "stdout"
        },
        {
          "output_type": "stream",
          "text": [
            " 54%|█████▍    | 1151/2140 [00:39<00:36, 27.34it/s]"
          ],
          "name": "stderr"
        },
        {
          "output_type": "stream",
          "text": [
            "(96, 96)\n",
            "(96, 96)\n",
            "(96, 96)\n",
            "(96, 96)\n",
            "(96, 96)\n",
            "(96, 96)\n"
          ],
          "name": "stdout"
        },
        {
          "output_type": "stream",
          "text": [
            " 54%|█████▍    | 1157/2140 [00:39<00:36, 27.26it/s]"
          ],
          "name": "stderr"
        },
        {
          "output_type": "stream",
          "text": [
            "(96, 96)\n",
            "(96, 96)\n",
            "(96, 96)\n",
            "(96, 96)\n",
            "(96, 96)\n",
            "(96, 96)\n"
          ],
          "name": "stdout"
        },
        {
          "output_type": "stream",
          "text": [
            " 54%|█████▍    | 1163/2140 [00:39<00:35, 27.31it/s]"
          ],
          "name": "stderr"
        },
        {
          "output_type": "stream",
          "text": [
            "(96, 96)\n",
            "(96, 96)\n",
            "(96, 96)\n",
            "(96, 96)\n",
            "(96, 96)\n",
            "(96, 96)\n",
            "(96, 96)\n"
          ],
          "name": "stdout"
        },
        {
          "output_type": "stream",
          "text": [
            " 55%|█████▍    | 1172/2140 [00:39<00:34, 28.43it/s]"
          ],
          "name": "stderr"
        },
        {
          "output_type": "stream",
          "text": [
            "(96, 96)\n",
            "(96, 96)\n",
            "(96, 96)\n",
            "(96, 96)\n",
            "(96, 96)\n",
            "(96, 96)\n",
            "(96, 96)"
          ],
          "name": "stdout"
        },
        {
          "output_type": "stream",
          "text": [
            " 55%|█████▌    | 1179/2140 [00:40<00:32, 29.20it/s]"
          ],
          "name": "stderr"
        },
        {
          "output_type": "stream",
          "text": [
            "\n",
            "(96, 96)\n",
            "(96, 96)\n",
            "(96, 96)\n",
            "(96, 96)\n",
            "(96, 96)\n",
            "(96, 96)\n",
            "(96, 96)\n"
          ],
          "name": "stdout"
        },
        {
          "output_type": "stream",
          "text": [
            " 55%|█████▌    | 1186/2140 [00:40<00:32, 29.24it/s]"
          ],
          "name": "stderr"
        },
        {
          "output_type": "stream",
          "text": [
            "(96, 96)\n",
            "(96, 96)\n",
            "(96, 96)\n",
            "(96, 96)\n",
            "(96, 96)\n",
            "(96, 96)\n",
            "(96, 96)"
          ],
          "name": "stdout"
        },
        {
          "output_type": "stream",
          "text": [
            " 56%|█████▌    | 1193/2140 [00:40<00:31, 29.82it/s]"
          ],
          "name": "stderr"
        },
        {
          "output_type": "stream",
          "text": [
            "\n",
            "(96, 96)\n",
            "(96, 96)\n",
            "(96, 96)\n",
            "(96, 96)\n",
            "(96, 96)\n",
            "(96, 96)\n",
            "(96, 96)\n"
          ],
          "name": "stdout"
        },
        {
          "output_type": "stream",
          "text": [
            " 56%|█████▌    | 1200/2140 [00:40<00:31, 30.10it/s]"
          ],
          "name": "stderr"
        },
        {
          "output_type": "stream",
          "text": [
            "(96, 96)\n",
            "(96, 96)\n",
            "(96, 96)\n",
            "(96, 96)\n",
            "(96, 96)\n",
            "(96, 96)\n",
            "(96, 96)"
          ],
          "name": "stdout"
        },
        {
          "output_type": "stream",
          "text": [
            "\r 56%|█████▋    | 1204/2140 [00:41<00:31, 30.11it/s]"
          ],
          "name": "stderr"
        },
        {
          "output_type": "stream",
          "text": [
            "\n",
            "(96, 96)\n",
            "(96, 96)\n",
            "(96, 96)\n",
            "(96, 96)\n",
            "(96, 96)\n",
            "(96, 96)\n",
            "(96, 96)\n"
          ],
          "name": "stdout"
        },
        {
          "output_type": "stream",
          "text": [
            " 57%|█████▋    | 1212/2140 [00:41<00:30, 30.23it/s]"
          ],
          "name": "stderr"
        },
        {
          "output_type": "stream",
          "text": [
            "(96, 96)\n",
            "(96, 96)\n",
            "(96, 96)\n",
            "(96, 96)\n",
            "(96, 96)\n",
            "(96, 96)\n",
            "(96, 96)\n"
          ],
          "name": "stdout"
        },
        {
          "output_type": "stream",
          "text": [
            " 57%|█████▋    | 1219/2140 [00:41<00:31, 29.16it/s]"
          ],
          "name": "stderr"
        },
        {
          "output_type": "stream",
          "text": [
            "(96, 96)\n",
            "(96, 96)\n",
            "(96, 96)\n",
            "(96, 96)\n",
            "(96, 96)\n",
            "(96, 96)\n"
          ],
          "name": "stdout"
        },
        {
          "output_type": "stream",
          "text": [
            " 57%|█████▋    | 1225/2140 [00:41<00:33, 27.72it/s]"
          ],
          "name": "stderr"
        },
        {
          "output_type": "stream",
          "text": [
            "(96, 96)\n",
            "(96, 96)\n",
            "(96, 96)\n",
            "(96, 96)\n",
            "(96, 96)\n",
            "(96, 96)\n",
            "(96, 96)\n"
          ],
          "name": "stdout"
        },
        {
          "output_type": "stream",
          "text": [
            " 58%|█████▊    | 1232/2140 [00:42<00:31, 28.73it/s]"
          ],
          "name": "stderr"
        },
        {
          "output_type": "stream",
          "text": [
            "(96, 96)\n",
            "(96, 96)\n",
            "(96, 96)\n",
            "(96, 96)\n",
            "(96, 96)\n",
            "(96, 96)\n",
            "(96, 96)\n"
          ],
          "name": "stdout"
        },
        {
          "output_type": "stream",
          "text": [
            " 58%|█████▊    | 1238/2140 [00:42<00:30, 29.18it/s]"
          ],
          "name": "stderr"
        },
        {
          "output_type": "stream",
          "text": [
            "(96, 96)\n",
            "(96, 96)\n",
            "(96, 96)\n",
            "(96, 96)\n",
            "(96, 96)\n",
            "(96, 96)\n",
            "(96, 96)\n"
          ],
          "name": "stdout"
        },
        {
          "output_type": "stream",
          "text": [
            " 58%|█████▊    | 1246/2140 [00:42<00:29, 29.82it/s]"
          ],
          "name": "stderr"
        },
        {
          "output_type": "stream",
          "text": [
            "(96, 96)\n",
            "(96, 96)\n",
            "(96, 96)\n",
            "(96, 96)\n",
            "(96, 96)\n",
            "(96, 96)\n",
            "(96, 96)\n"
          ],
          "name": "stdout"
        },
        {
          "output_type": "stream",
          "text": [
            " 59%|█████▊    | 1253/2140 [00:42<00:29, 30.01it/s]"
          ],
          "name": "stderr"
        },
        {
          "output_type": "stream",
          "text": [
            "(96, 96)\n",
            "(96, 96)\n",
            "(96, 96)\n",
            "(96, 96)\n",
            "(96, 96)\n",
            "(96, 96)\n",
            "(96, 96)\n"
          ],
          "name": "stdout"
        },
        {
          "output_type": "stream",
          "text": [
            " 59%|█████▉    | 1260/2140 [00:42<00:30, 29.11it/s]"
          ],
          "name": "stderr"
        },
        {
          "output_type": "stream",
          "text": [
            "(96, 96)\n",
            "(96, 96)\n",
            "(96, 96)\n",
            "(96, 96)\n",
            "(96, 96)\n",
            "(96, 96)\n"
          ],
          "name": "stdout"
        },
        {
          "output_type": "stream",
          "text": [
            " 59%|█████▉    | 1267/2140 [00:43<00:29, 29.58it/s]"
          ],
          "name": "stderr"
        },
        {
          "output_type": "stream",
          "text": [
            "(96, 96)\n",
            "(96, 96)\n",
            "(96, 96)\n",
            "(96, 96)\n",
            "(96, 96)\n",
            "(96, 96)\n",
            "(96, 96)\n"
          ],
          "name": "stdout"
        },
        {
          "output_type": "stream",
          "text": [
            " 60%|█████▉    | 1274/2140 [00:43<00:28, 29.99it/s]"
          ],
          "name": "stderr"
        },
        {
          "output_type": "stream",
          "text": [
            "(96, 96)\n",
            "(96, 96)\n",
            "(96, 96)\n",
            "(96, 96)\n",
            "(96, 96)\n",
            "(96, 96)\n",
            "(96, 96)\n"
          ],
          "name": "stdout"
        },
        {
          "output_type": "stream",
          "text": [
            " 60%|█████▉    | 1282/2140 [00:43<00:28, 30.15it/s]"
          ],
          "name": "stderr"
        },
        {
          "output_type": "stream",
          "text": [
            "(96, 96)\n",
            "(96, 96)\n",
            "(96, 96)\n",
            "(96, 96)\n",
            "(96, 96)\n",
            "(96, 96)\n",
            "(96, 96)"
          ],
          "name": "stdout"
        },
        {
          "output_type": "stream",
          "text": [
            "\r 60%|██████    | 1286/2140 [00:43<00:28, 30.11it/s]"
          ],
          "name": "stderr"
        },
        {
          "output_type": "stream",
          "text": [
            "\n",
            "(96, 96)\n",
            "(96, 96)\n",
            "(96, 96)\n",
            "(96, 96)\n",
            "(96, 96)\n",
            "(96, 96)\n",
            "(96, 96)\n"
          ],
          "name": "stdout"
        },
        {
          "output_type": "stream",
          "text": [
            " 60%|██████    | 1294/2140 [00:44<00:28, 30.05it/s]"
          ],
          "name": "stderr"
        },
        {
          "output_type": "stream",
          "text": [
            "(96, 96)\n",
            "(96, 96)\n",
            "(96, 96)\n",
            "(96, 96)\n",
            "(96, 96)\n",
            "(96, 96)\n",
            "(96, 96)\n"
          ],
          "name": "stdout"
        },
        {
          "output_type": "stream",
          "text": [
            " 61%|██████    | 1302/2140 [00:44<00:27, 30.27it/s]"
          ],
          "name": "stderr"
        },
        {
          "output_type": "stream",
          "text": [
            "(96, 96)\n",
            "(96, 96)\n",
            "(96, 96)\n",
            "(96, 96)\n",
            "(96, 96)\n",
            "(96, 96)\n",
            "(96, 96)\n"
          ],
          "name": "stdout"
        },
        {
          "output_type": "stream",
          "text": [
            " 61%|██████    | 1310/2140 [00:44<00:27, 30.44it/s]"
          ],
          "name": "stderr"
        },
        {
          "output_type": "stream",
          "text": [
            "(96, 96)\n",
            "(96, 96)\n",
            "(96, 96)\n",
            "(96, 96)\n",
            "(96, 96)\n",
            "(96, 96)\n",
            "(96, 96)"
          ],
          "name": "stdout"
        },
        {
          "output_type": "stream",
          "text": [
            "\r 61%|██████▏   | 1314/2140 [00:44<00:27, 30.09it/s]"
          ],
          "name": "stderr"
        },
        {
          "output_type": "stream",
          "text": [
            "\n",
            "(96, 96)\n",
            "(96, 96)\n",
            "(96, 96)\n",
            "(96, 96)\n",
            "(96, 96)\n",
            "(96, 96)\n",
            "(96, 96)\n"
          ],
          "name": "stdout"
        },
        {
          "output_type": "stream",
          "text": [
            " 62%|██████▏   | 1322/2140 [00:45<00:27, 29.82it/s]"
          ],
          "name": "stderr"
        },
        {
          "output_type": "stream",
          "text": [
            "(96, 96)\n",
            "(96, 96)\n",
            "(96, 96)\n",
            "(96, 96)\n",
            "(96, 96)\n",
            "(96, 96)\n",
            "(96, 96)\n"
          ],
          "name": "stdout"
        },
        {
          "output_type": "stream",
          "text": [
            " 62%|██████▏   | 1329/2140 [00:45<00:27, 30.01it/s]"
          ],
          "name": "stderr"
        },
        {
          "output_type": "stream",
          "text": [
            "(96, 96)\n",
            "(96, 96)\n",
            "(96, 96)\n",
            "(96, 96)\n",
            "(96, 96)\n",
            "(96, 96)\n",
            "(96, 96)\n"
          ],
          "name": "stdout"
        },
        {
          "output_type": "stream",
          "text": [
            " 62%|██████▏   | 1337/2140 [00:45<00:26, 30.20it/s]"
          ],
          "name": "stderr"
        },
        {
          "output_type": "stream",
          "text": [
            "(96, 96)\n",
            "(96, 96)\n",
            "(96, 96)\n",
            "(96, 96)\n",
            "(96, 96)\n",
            "(96, 96)\n",
            "(96, 96)\n"
          ],
          "name": "stdout"
        },
        {
          "output_type": "stream",
          "text": [
            " 63%|██████▎   | 1345/2140 [00:45<00:26, 30.36it/s]"
          ],
          "name": "stderr"
        },
        {
          "output_type": "stream",
          "text": [
            "(96, 96)\n",
            "(96, 96)\n",
            "(96, 96)\n",
            "(96, 96)\n",
            "(96, 96)\n",
            "(96, 96)\n",
            "(96, 96)\n"
          ],
          "name": "stdout"
        },
        {
          "output_type": "stream",
          "text": [
            "\r 63%|██████▎   | 1349/2140 [00:45<00:27, 28.42it/s]"
          ],
          "name": "stderr"
        },
        {
          "output_type": "stream",
          "text": [
            "(96, 96)\n",
            "(96, 96)\n",
            "(96, 96)\n",
            "(96, 96)\n",
            "(96, 96)\n",
            "(96, 96)\n"
          ],
          "name": "stdout"
        },
        {
          "output_type": "stream",
          "text": [
            " 63%|██████▎   | 1357/2140 [00:46<00:26, 29.31it/s]"
          ],
          "name": "stderr"
        },
        {
          "output_type": "stream",
          "text": [
            "(96, 96)\n",
            "(96, 96)\n",
            "(96, 96)\n",
            "(96, 96)\n",
            "(96, 96)\n",
            "(96, 96)\n",
            "(96, 96)\n"
          ],
          "name": "stdout"
        },
        {
          "output_type": "stream",
          "text": [
            " 64%|██████▎   | 1364/2140 [00:46<00:26, 29.69it/s]"
          ],
          "name": "stderr"
        },
        {
          "output_type": "stream",
          "text": [
            "(96, 96)\n",
            "(96, 96)\n",
            "(96, 96)\n",
            "(96, 96)\n",
            "(96, 96)\n",
            "(96, 96)\n",
            "(96, 96)\n"
          ],
          "name": "stdout"
        },
        {
          "output_type": "stream",
          "text": [
            " 64%|██████▍   | 1371/2140 [00:46<00:26, 29.54it/s]"
          ],
          "name": "stderr"
        },
        {
          "output_type": "stream",
          "text": [
            "(96, 96)\n",
            "(96, 96)\n",
            "(96, 96)\n",
            "(96, 96)\n",
            "(96, 96)\n",
            "(96, 96)\n",
            "(96, 96)\n"
          ],
          "name": "stdout"
        },
        {
          "output_type": "stream",
          "text": [
            " 64%|██████▍   | 1378/2140 [00:46<00:26, 29.10it/s]"
          ],
          "name": "stderr"
        },
        {
          "output_type": "stream",
          "text": [
            "(96, 96)\n",
            "(96, 96)\n",
            "(96, 96)\n",
            "(96, 96)\n",
            "(96, 96)\n",
            "(96, 96)\n",
            "(96, 96)\n"
          ],
          "name": "stdout"
        },
        {
          "output_type": "stream",
          "text": [
            " 65%|██████▍   | 1385/2140 [00:47<00:25, 29.68it/s]"
          ],
          "name": "stderr"
        },
        {
          "output_type": "stream",
          "text": [
            "(96, 96)\n",
            "(96, 96)\n",
            "(96, 96)\n",
            "(96, 96)\n",
            "(96, 96)\n",
            "(96, 96)\n",
            "(96, 96)\n"
          ],
          "name": "stdout"
        },
        {
          "output_type": "stream",
          "text": [
            " 65%|██████▌   | 1392/2140 [00:47<00:24, 29.98it/s]"
          ],
          "name": "stderr"
        },
        {
          "output_type": "stream",
          "text": [
            "(96, 96)\n",
            "(96, 96)\n",
            "(96, 96)\n",
            "(96, 96)\n",
            "(96, 96)\n",
            "(96, 96)\n",
            "(96, 96)\n"
          ],
          "name": "stdout"
        },
        {
          "output_type": "stream",
          "text": [
            " 65%|██████▌   | 1400/2140 [00:47<00:24, 30.23it/s]"
          ],
          "name": "stderr"
        },
        {
          "output_type": "stream",
          "text": [
            "(96, 96)\n",
            "(96, 96)\n",
            "(96, 96)\n",
            "(96, 96)\n",
            "(96, 96)\n",
            "(96, 96)\n",
            "(96, 96)"
          ],
          "name": "stdout"
        },
        {
          "output_type": "stream",
          "text": [
            "\r 66%|██████▌   | 1404/2140 [00:47<00:24, 30.19it/s]"
          ],
          "name": "stderr"
        },
        {
          "output_type": "stream",
          "text": [
            "\n",
            "(96, 96)\n",
            "(96, 96)\n",
            "(96, 96)\n",
            "(96, 96)\n",
            "(96, 96)\n",
            "(96, 96)\n",
            "(96, 96)\n"
          ],
          "name": "stdout"
        },
        {
          "output_type": "stream",
          "text": [
            " 66%|██████▌   | 1411/2140 [00:48<00:24, 29.74it/s]"
          ],
          "name": "stderr"
        },
        {
          "output_type": "stream",
          "text": [
            "(96, 96)\n",
            "(96, 96)\n",
            "(96, 96)\n",
            "(96, 96)\n",
            "(96, 96)\n",
            "(96, 96)\n",
            "(96, 96)\n"
          ],
          "name": "stdout"
        },
        {
          "output_type": "stream",
          "text": [
            " 66%|██████▋   | 1419/2140 [00:48<00:23, 30.09it/s]"
          ],
          "name": "stderr"
        },
        {
          "output_type": "stream",
          "text": [
            "(96, 96)\n",
            "(96, 96)\n",
            "(96, 96)\n",
            "(96, 96)\n",
            "(96, 96)\n",
            "(96, 96)\n",
            "(96, 96)\n"
          ],
          "name": "stdout"
        },
        {
          "output_type": "stream",
          "text": [
            " 67%|██████▋   | 1427/2140 [00:48<00:24, 29.39it/s]"
          ],
          "name": "stderr"
        },
        {
          "output_type": "stream",
          "text": [
            "(96, 96)\n",
            "(96, 96)\n",
            "(96, 96)\n",
            "(96, 96)\n",
            "(96, 96)\n",
            "(96, 96)\n"
          ],
          "name": "stdout"
        },
        {
          "output_type": "stream",
          "text": [
            " 67%|██████▋   | 1434/2140 [00:48<00:23, 29.76it/s]"
          ],
          "name": "stderr"
        },
        {
          "output_type": "stream",
          "text": [
            "(96, 96)\n",
            "(96, 96)\n",
            "(96, 96)\n",
            "(96, 96)\n",
            "(96, 96)\n",
            "(96, 96)\n",
            "(96, 96)\n"
          ],
          "name": "stdout"
        },
        {
          "output_type": "stream",
          "text": [
            " 67%|██████▋   | 1441/2140 [00:49<00:23, 30.00it/s]"
          ],
          "name": "stderr"
        },
        {
          "output_type": "stream",
          "text": [
            "(96, 96)\n",
            "(96, 96)\n",
            "(96, 96)\n",
            "(96, 96)\n",
            "(96, 96)\n",
            "(96, 96)\n",
            "(96, 96)\n"
          ],
          "name": "stdout"
        },
        {
          "output_type": "stream",
          "text": [
            "\r 68%|██████▊   | 1445/2140 [00:49<00:23, 29.99it/s]"
          ],
          "name": "stderr"
        },
        {
          "output_type": "stream",
          "text": [
            "(96, 96)\n",
            "(96, 96)\n",
            "(96, 96)\n",
            "(96, 96)\n",
            "(96, 96)\n",
            "(96, 96)\n",
            "(96, 96)\n"
          ],
          "name": "stdout"
        },
        {
          "output_type": "stream",
          "text": [
            " 68%|██████▊   | 1453/2140 [00:49<00:22, 30.27it/s]"
          ],
          "name": "stderr"
        },
        {
          "output_type": "stream",
          "text": [
            "(96, 96)\n",
            "(96, 96)\n",
            "(96, 96)\n",
            "(96, 96)\n",
            "(96, 96)\n",
            "(96, 96)\n",
            "(96, 96)\n"
          ],
          "name": "stdout"
        },
        {
          "output_type": "stream",
          "text": [
            " 68%|██████▊   | 1461/2140 [00:49<00:22, 30.03it/s]"
          ],
          "name": "stderr"
        },
        {
          "output_type": "stream",
          "text": [
            "(96, 96)\n",
            "(96, 96)\n",
            "(96, 96)\n",
            "(96, 96)\n",
            "(96, 96)\n",
            "(96, 96)\n",
            "(96, 96)\n"
          ],
          "name": "stdout"
        },
        {
          "output_type": "stream",
          "text": [
            " 69%|██████▊   | 1469/2140 [00:49<00:22, 30.04it/s]"
          ],
          "name": "stderr"
        },
        {
          "output_type": "stream",
          "text": [
            "(96, 96)\n",
            "(96, 96)\n",
            "(96, 96)\n",
            "(96, 96)\n",
            "(96, 96)\n",
            "(96, 96)\n",
            "(96, 96)"
          ],
          "name": "stdout"
        },
        {
          "output_type": "stream",
          "text": [
            "\r 69%|██████▉   | 1473/2140 [00:50<00:23, 28.91it/s]"
          ],
          "name": "stderr"
        },
        {
          "output_type": "stream",
          "text": [
            "\n",
            "(96, 96)\n",
            "(96, 96)\n",
            "(96, 96)\n",
            "(96, 96)\n",
            "(96, 96)\n",
            "(96, 96)\n"
          ],
          "name": "stdout"
        },
        {
          "output_type": "stream",
          "text": [
            " 69%|██████▉   | 1479/2140 [00:50<00:22, 29.15it/s]"
          ],
          "name": "stderr"
        },
        {
          "output_type": "stream",
          "text": [
            "(96, 96)\n",
            "(96, 96)\n",
            "(96, 96)\n",
            "(96, 96)\n",
            "(96, 96)\n",
            "(96, 96)\n",
            "(96, 96)\n"
          ],
          "name": "stdout"
        },
        {
          "output_type": "stream",
          "text": [
            " 69%|██████▉   | 1487/2140 [00:50<00:21, 29.85it/s]"
          ],
          "name": "stderr"
        },
        {
          "output_type": "stream",
          "text": [
            "(96, 96)\n",
            "(96, 96)\n",
            "(96, 96)\n",
            "(96, 96)\n",
            "(96, 96)\n",
            "(96, 96)\n",
            "(96, 96)\n"
          ],
          "name": "stdout"
        },
        {
          "output_type": "stream",
          "text": [
            " 70%|██████▉   | 1494/2140 [00:50<00:21, 30.00it/s]"
          ],
          "name": "stderr"
        },
        {
          "output_type": "stream",
          "text": [
            "(96, 96)\n",
            "(96, 96)\n",
            "(96, 96)\n",
            "(96, 96)\n",
            "(96, 96)\n",
            "(96, 96)\n",
            "(96, 96)\n"
          ],
          "name": "stdout"
        },
        {
          "output_type": "stream",
          "text": [
            " 70%|███████   | 1502/2140 [00:51<00:21, 30.27it/s]"
          ],
          "name": "stderr"
        },
        {
          "output_type": "stream",
          "text": [
            "(96, 96)\n",
            "(96, 96)\n",
            "(96, 96)\n",
            "(96, 96)\n",
            "(96, 96)\n",
            "(96, 96)\n",
            "(96, 96)\n"
          ],
          "name": "stdout"
        },
        {
          "output_type": "stream",
          "text": [
            " 71%|███████   | 1510/2140 [00:51<00:20, 30.03it/s]"
          ],
          "name": "stderr"
        },
        {
          "output_type": "stream",
          "text": [
            "(96, 96)\n",
            "(96, 96)\n",
            "(96, 96)\n",
            "(96, 96)\n",
            "(96, 96)\n",
            "(96, 96)\n",
            "(96, 96)\n"
          ],
          "name": "stdout"
        },
        {
          "output_type": "stream",
          "text": [
            "\r 71%|███████   | 1514/2140 [00:51<00:21, 29.44it/s]"
          ],
          "name": "stderr"
        },
        {
          "output_type": "stream",
          "text": [
            "(96, 96)\n",
            "(96, 96)\n",
            "(96, 96)\n",
            "(96, 96)\n",
            "(96, 96)\n",
            "(96, 96)\n",
            "(96, 96)\n"
          ],
          "name": "stdout"
        },
        {
          "output_type": "stream",
          "text": [
            " 71%|███████   | 1521/2140 [00:51<00:21, 28.76it/s]"
          ],
          "name": "stderr"
        },
        {
          "output_type": "stream",
          "text": [
            "(96, 96)\n",
            "(96, 96)\n",
            "(96, 96)\n",
            "(96, 96)\n",
            "(96, 96)\n",
            "(96, 96)\n",
            "(96, 96)\n"
          ],
          "name": "stdout"
        },
        {
          "output_type": "stream",
          "text": [
            " 71%|███████▏  | 1529/2140 [00:52<00:20, 29.61it/s]"
          ],
          "name": "stderr"
        },
        {
          "output_type": "stream",
          "text": [
            "(96, 96)\n",
            "(96, 96)\n",
            "(96, 96)\n",
            "(96, 96)\n",
            "(96, 96)\n",
            "(96, 96)\n",
            "(96, 96)\n"
          ],
          "name": "stdout"
        },
        {
          "output_type": "stream",
          "text": [
            " 72%|███████▏  | 1536/2140 [00:52<00:20, 29.61it/s]"
          ],
          "name": "stderr"
        },
        {
          "output_type": "stream",
          "text": [
            "(96, 96)\n",
            "(96, 96)\n",
            "(96, 96)\n",
            "(96, 96)\n",
            "(96, 96)\n",
            "(96, 96)\n",
            "(96, 96)\n"
          ],
          "name": "stdout"
        },
        {
          "output_type": "stream",
          "text": [
            " 72%|███████▏  | 1543/2140 [00:52<00:19, 29.90it/s]"
          ],
          "name": "stderr"
        },
        {
          "output_type": "stream",
          "text": [
            "(96, 96)\n",
            "(96, 96)\n",
            "(96, 96)\n",
            "(96, 96)\n",
            "(96, 96)\n",
            "(96, 96)\n",
            "(96, 96)\n"
          ],
          "name": "stdout"
        },
        {
          "output_type": "stream",
          "text": [
            " 72%|███████▏  | 1551/2140 [00:52<00:19, 30.22it/s]"
          ],
          "name": "stderr"
        },
        {
          "output_type": "stream",
          "text": [
            "(96, 96)\n",
            "(96, 96)\n",
            "(96, 96)\n",
            "(96, 96)\n",
            "(96, 96)\n",
            "(96, 96)\n",
            "(96, 96)\n"
          ],
          "name": "stdout"
        },
        {
          "output_type": "stream",
          "text": [
            " 73%|███████▎  | 1559/2140 [00:53<00:19, 30.28it/s]"
          ],
          "name": "stderr"
        },
        {
          "output_type": "stream",
          "text": [
            "(96, 96)\n",
            "(96, 96)\n",
            "(96, 96)\n",
            "(96, 96)\n",
            "(96, 96)\n",
            "(96, 96)\n",
            "(96, 96)"
          ],
          "name": "stdout"
        },
        {
          "output_type": "stream",
          "text": [
            "\r 73%|███████▎  | 1563/2140 [00:53<00:19, 30.27it/s]"
          ],
          "name": "stderr"
        },
        {
          "output_type": "stream",
          "text": [
            "\n",
            "(96, 96)\n",
            "(96, 96)\n",
            "(96, 96)\n",
            "(96, 96)\n",
            "(96, 96)\n",
            "(96, 96)\n",
            "(96, 96)\n"
          ],
          "name": "stdout"
        },
        {
          "output_type": "stream",
          "text": [
            " 73%|███████▎  | 1571/2140 [00:53<00:18, 30.44it/s]"
          ],
          "name": "stderr"
        },
        {
          "output_type": "stream",
          "text": [
            "(96, 96)\n",
            "(96, 96)\n",
            "(96, 96)\n",
            "(96, 96)\n",
            "(96, 96)\n",
            "(96, 96)\n",
            "(96, 96)\n"
          ],
          "name": "stdout"
        },
        {
          "output_type": "stream",
          "text": [
            " 74%|███████▍  | 1579/2140 [00:53<00:18, 30.52it/s]"
          ],
          "name": "stderr"
        },
        {
          "output_type": "stream",
          "text": [
            "(96, 96)\n",
            "(96, 96)\n",
            "(96, 96)\n",
            "(96, 96)\n",
            "(96, 96)\n",
            "(96, 96)\n",
            "(96, 96)\n"
          ],
          "name": "stdout"
        },
        {
          "output_type": "stream",
          "text": [
            " 74%|███████▍  | 1587/2140 [00:53<00:18, 30.52it/s]"
          ],
          "name": "stderr"
        },
        {
          "output_type": "stream",
          "text": [
            "(96, 96)\n",
            "(96, 96)\n",
            "(96, 96)\n",
            "(96, 96)\n",
            "(96, 96)\n",
            "(96, 96)\n",
            "(96, 96)\n"
          ],
          "name": "stdout"
        },
        {
          "output_type": "stream",
          "text": [
            "\r 74%|███████▍  | 1591/2140 [00:54<00:18, 29.73it/s]"
          ],
          "name": "stderr"
        },
        {
          "output_type": "stream",
          "text": [
            "(96, 96)\n",
            "(96, 96)\n",
            "(96, 96)\n",
            "(96, 96)\n",
            "(96, 96)\n",
            "(96, 96)\n",
            "(96, 96)\n"
          ],
          "name": "stdout"
        },
        {
          "output_type": "stream",
          "text": [
            " 75%|███████▍  | 1599/2140 [00:54<00:17, 30.15it/s]"
          ],
          "name": "stderr"
        },
        {
          "output_type": "stream",
          "text": [
            "(96, 96)\n",
            "(96, 96)\n",
            "(96, 96)\n",
            "(96, 96)\n",
            "(96, 96)\n",
            "(96, 96)\n",
            "(96, 96)\n"
          ],
          "name": "stdout"
        },
        {
          "output_type": "stream",
          "text": [
            " 75%|███████▌  | 1607/2140 [00:54<00:17, 29.78it/s]"
          ],
          "name": "stderr"
        },
        {
          "output_type": "stream",
          "text": [
            "(96, 96)\n",
            "(96, 96)\n",
            "(96, 96)\n",
            "(96, 96)\n",
            "(96, 96)\n",
            "(96, 96)\n"
          ],
          "name": "stdout"
        },
        {
          "output_type": "stream",
          "text": [
            " 75%|███████▌  | 1613/2140 [00:54<00:17, 29.70it/s]"
          ],
          "name": "stderr"
        },
        {
          "output_type": "stream",
          "text": [
            "(96, 96)\n",
            "(96, 96)\n",
            "(96, 96)\n",
            "(96, 96)\n",
            "(96, 96)\n",
            "(96, 96)\n",
            "(96, 96)\n"
          ],
          "name": "stdout"
        },
        {
          "output_type": "stream",
          "text": [
            " 76%|███████▌  | 1619/2140 [00:55<00:18, 28.72it/s]"
          ],
          "name": "stderr"
        },
        {
          "output_type": "stream",
          "text": [
            "(96, 96)\n",
            "(96, 96)\n",
            "(96, 96)\n",
            "(96, 96)\n",
            "(96, 96)\n",
            "(96, 96)\n"
          ],
          "name": "stdout"
        },
        {
          "output_type": "stream",
          "text": [
            " 76%|███████▌  | 1626/2140 [00:55<00:17, 29.49it/s]"
          ],
          "name": "stderr"
        },
        {
          "output_type": "stream",
          "text": [
            "(96, 96)\n",
            "(96, 96)\n",
            "(96, 96)\n",
            "(96, 96)\n",
            "(96, 96)\n",
            "(96, 96)\n",
            "(96, 96)\n"
          ],
          "name": "stdout"
        },
        {
          "output_type": "stream",
          "text": [
            " 76%|███████▋  | 1633/2140 [00:55<00:17, 29.59it/s]"
          ],
          "name": "stderr"
        },
        {
          "output_type": "stream",
          "text": [
            "(96, 96)\n",
            "(96, 96)\n",
            "(96, 96)\n",
            "(96, 96)\n",
            "(96, 96)\n",
            "(96, 96)\n",
            "(96, 96)\n"
          ],
          "name": "stdout"
        },
        {
          "output_type": "stream",
          "text": [
            " 77%|███████▋  | 1640/2140 [00:55<00:16, 29.80it/s]"
          ],
          "name": "stderr"
        },
        {
          "output_type": "stream",
          "text": [
            "(96, 96)\n",
            "(96, 96)\n",
            "(96, 96)\n",
            "(96, 96)\n",
            "(96, 96)\n",
            "(96, 96)\n",
            "(96, 96)\n"
          ],
          "name": "stdout"
        },
        {
          "output_type": "stream",
          "text": [
            " 77%|███████▋  | 1647/2140 [00:55<00:16, 29.63it/s]"
          ],
          "name": "stderr"
        },
        {
          "output_type": "stream",
          "text": [
            "(96, 96)\n",
            "(96, 96)\n",
            "(96, 96)\n",
            "(96, 96)\n",
            "(96, 96)\n",
            "(96, 96)\n"
          ],
          "name": "stdout"
        },
        {
          "output_type": "stream",
          "text": [
            " 77%|███████▋  | 1653/2140 [00:56<00:17, 28.05it/s]"
          ],
          "name": "stderr"
        },
        {
          "output_type": "stream",
          "text": [
            "(96, 96)\n",
            "(96, 96)\n",
            "(96, 96)\n",
            "(96, 96)\n",
            "(96, 96)\n",
            "(96, 96)\n"
          ],
          "name": "stdout"
        },
        {
          "output_type": "stream",
          "text": [
            "\r 77%|███████▋  | 1656/2140 [00:56<00:18, 26.31it/s]"
          ],
          "name": "stderr"
        },
        {
          "output_type": "stream",
          "text": [
            "(96, 96)\n",
            "(96, 96)\n",
            "(96, 96)\n",
            "(96, 96)\n",
            "(96, 96)\n",
            "(96, 96)\n"
          ],
          "name": "stdout"
        },
        {
          "output_type": "stream",
          "text": [
            " 78%|███████▊  | 1663/2140 [00:56<00:17, 27.97it/s]"
          ],
          "name": "stderr"
        },
        {
          "output_type": "stream",
          "text": [
            "(96, 96)\n",
            "(96, 96)\n",
            "(96, 96)\n",
            "(96, 96)\n",
            "(96, 96)\n",
            "(96, 96)\n",
            "(96, 96)\n"
          ],
          "name": "stdout"
        },
        {
          "output_type": "stream",
          "text": [
            " 78%|███████▊  | 1670/2140 [00:56<00:16, 28.73it/s]"
          ],
          "name": "stderr"
        },
        {
          "output_type": "stream",
          "text": [
            "(96, 96)\n",
            "(96, 96)\n",
            "(96, 96)\n",
            "(96, 96)\n",
            "(96, 96)\n",
            "(96, 96)\n",
            "(96, 96)\n"
          ],
          "name": "stdout"
        },
        {
          "output_type": "stream",
          "text": [
            " 78%|███████▊  | 1677/2140 [00:57<00:15, 29.08it/s]"
          ],
          "name": "stderr"
        },
        {
          "output_type": "stream",
          "text": [
            "(96, 96)\n",
            "(96, 96)\n",
            "(96, 96)\n",
            "(96, 96)\n",
            "(96, 96)\n",
            "(96, 96)\n",
            "(96, 96)\n"
          ],
          "name": "stdout"
        },
        {
          "output_type": "stream",
          "text": [
            " 79%|███████▊  | 1685/2140 [00:57<00:15, 29.80it/s]"
          ],
          "name": "stderr"
        },
        {
          "output_type": "stream",
          "text": [
            "(96, 96)\n",
            "(96, 96)\n",
            "(96, 96)\n",
            "(96, 96)\n",
            "(96, 96)\n",
            "(96, 96)\n",
            "(96, 96)\n"
          ],
          "name": "stdout"
        },
        {
          "output_type": "stream",
          "text": [
            " 79%|███████▉  | 1692/2140 [00:57<00:14, 29.97it/s]"
          ],
          "name": "stderr"
        },
        {
          "output_type": "stream",
          "text": [
            "(96, 96)\n",
            "(96, 96)\n",
            "(96, 96)\n",
            "(96, 96)\n",
            "(96, 96)\n",
            "(96, 96)\n",
            "(96, 96)\n"
          ],
          "name": "stdout"
        },
        {
          "output_type": "stream",
          "text": [
            " 79%|███████▉  | 1700/2140 [00:57<00:14, 30.19it/s]"
          ],
          "name": "stderr"
        },
        {
          "output_type": "stream",
          "text": [
            "(96, 96)\n",
            "(96, 96)\n",
            "(96, 96)\n",
            "(96, 96)\n",
            "(96, 96)\n",
            "(96, 96)\n",
            "(96, 96)\n"
          ],
          "name": "stdout"
        },
        {
          "output_type": "stream",
          "text": [
            " 80%|███████▉  | 1707/2140 [00:58<00:14, 29.31it/s]"
          ],
          "name": "stderr"
        },
        {
          "output_type": "stream",
          "text": [
            "(96, 96)\n",
            "(96, 96)\n",
            "(96, 96)\n",
            "(96, 96)\n",
            "(96, 96)\n",
            "(96, 96)\n",
            "(96, 96)\n"
          ],
          "name": "stdout"
        },
        {
          "output_type": "stream",
          "text": [
            " 80%|████████  | 1714/2140 [00:58<00:14, 29.70it/s]"
          ],
          "name": "stderr"
        },
        {
          "output_type": "stream",
          "text": [
            "(96, 96)\n",
            "(96, 96)\n",
            "(96, 96)\n",
            "(96, 96)\n",
            "(96, 96)\n",
            "(96, 96)\n",
            "(96, 96)\n"
          ],
          "name": "stdout"
        },
        {
          "output_type": "stream",
          "text": [
            " 80%|████████  | 1721/2140 [00:58<00:13, 29.99it/s]"
          ],
          "name": "stderr"
        },
        {
          "output_type": "stream",
          "text": [
            "(96, 96)\n",
            "(96, 96)\n",
            "(96, 96)\n",
            "(96, 96)\n",
            "(96, 96)\n",
            "(96, 96)\n",
            "(96, 96)\n"
          ],
          "name": "stdout"
        },
        {
          "output_type": "stream",
          "text": [
            " 81%|████████  | 1729/2140 [00:58<00:13, 30.24it/s]"
          ],
          "name": "stderr"
        },
        {
          "output_type": "stream",
          "text": [
            "(96, 96)\n",
            "(96, 96)\n",
            "(96, 96)\n",
            "(96, 96)\n",
            "(96, 96)\n",
            "(96, 96)\n",
            "(96, 96)\n"
          ],
          "name": "stdout"
        },
        {
          "output_type": "stream",
          "text": [
            "\r 81%|████████  | 1733/2140 [00:58<00:13, 30.07it/s]"
          ],
          "name": "stderr"
        },
        {
          "output_type": "stream",
          "text": [
            "(96, 96)\n",
            "(96, 96)\n",
            "(96, 96)\n",
            "(96, 96)\n",
            "(96, 96)\n",
            "(96, 96)\n"
          ],
          "name": "stdout"
        },
        {
          "output_type": "stream",
          "text": [
            " 81%|████████▏ | 1741/2140 [00:59<00:13, 29.51it/s]"
          ],
          "name": "stderr"
        },
        {
          "output_type": "stream",
          "text": [
            "(96, 96)\n",
            "(96, 96)\n",
            "(96, 96)\n",
            "(96, 96)\n",
            "(96, 96)\n",
            "(96, 96)\n",
            "(96, 96)\n"
          ],
          "name": "stdout"
        },
        {
          "output_type": "stream",
          "text": [
            " 82%|████████▏ | 1748/2140 [00:59<00:13, 29.46it/s]"
          ],
          "name": "stderr"
        },
        {
          "output_type": "stream",
          "text": [
            "(96, 96)\n",
            "(96, 96)\n",
            "(96, 96)\n",
            "(96, 96)\n",
            "(96, 96)\n",
            "(96, 96)\n",
            "(96, 96)\n"
          ],
          "name": "stdout"
        },
        {
          "output_type": "stream",
          "text": [
            " 82%|████████▏ | 1755/2140 [00:59<00:12, 29.84it/s]"
          ],
          "name": "stderr"
        },
        {
          "output_type": "stream",
          "text": [
            "(96, 96)\n",
            "(96, 96)\n",
            "(96, 96)\n",
            "(96, 96)\n",
            "(96, 96)\n",
            "(96, 96)\n",
            "(96, 96)\n"
          ],
          "name": "stdout"
        },
        {
          "output_type": "stream",
          "text": [
            " 82%|████████▏ | 1762/2140 [00:59<00:12, 30.04it/s]"
          ],
          "name": "stderr"
        },
        {
          "output_type": "stream",
          "text": [
            "(96, 96)\n",
            "(96, 96)\n",
            "(96, 96)\n",
            "(96, 96)\n",
            "(96, 96)\n",
            "(96, 96)\n",
            "(96, 96)\n"
          ],
          "name": "stdout"
        },
        {
          "output_type": "stream",
          "text": [
            " 83%|████████▎ | 1770/2140 [01:00<00:12, 30.24it/s]"
          ],
          "name": "stderr"
        },
        {
          "output_type": "stream",
          "text": [
            "(96, 96)\n",
            "(96, 96)\n",
            "(96, 96)\n",
            "(96, 96)\n",
            "(96, 96)\n",
            "(96, 96)\n",
            "(96, 96)\n"
          ],
          "name": "stdout"
        },
        {
          "output_type": "stream",
          "text": [
            "\r 83%|████████▎ | 1774/2140 [01:00<00:12, 30.04it/s]"
          ],
          "name": "stderr"
        },
        {
          "output_type": "stream",
          "text": [
            "(96, 96)\n",
            "(96, 96)\n",
            "(96, 96)\n",
            "(96, 96)\n",
            "(96, 96)\n",
            "(96, 96)\n",
            "(96, 96)\n"
          ],
          "name": "stdout"
        },
        {
          "output_type": "stream",
          "text": [
            " 83%|████████▎ | 1782/2140 [01:00<00:11, 30.29it/s]"
          ],
          "name": "stderr"
        },
        {
          "output_type": "stream",
          "text": [
            "(96, 96)\n",
            "(96, 96)\n",
            "(96, 96)\n",
            "(96, 96)\n",
            "(96, 96)\n",
            "(96, 96)\n",
            "(96, 96)\n"
          ],
          "name": "stdout"
        },
        {
          "output_type": "stream",
          "text": [
            " 84%|████████▎ | 1790/2140 [01:00<00:11, 30.41it/s]"
          ],
          "name": "stderr"
        },
        {
          "output_type": "stream",
          "text": [
            "(96, 96)\n",
            "(96, 96)\n",
            "(96, 96)\n",
            "(96, 96)\n",
            "(96, 96)\n",
            "(96, 96)\n",
            "(96, 96)\n"
          ],
          "name": "stdout"
        },
        {
          "output_type": "stream",
          "text": [
            "\r 84%|████████▍ | 1794/2140 [01:00<00:11, 30.20it/s]"
          ],
          "name": "stderr"
        },
        {
          "output_type": "stream",
          "text": [
            "(96, 96)\n",
            "(96, 96)\n",
            "(96, 96)\n",
            "(96, 96)\n",
            "(96, 96)\n",
            "(96, 96)\n"
          ],
          "name": "stdout"
        },
        {
          "output_type": "stream",
          "text": [
            " 84%|████████▍ | 1801/2140 [01:01<00:11, 29.80it/s]"
          ],
          "name": "stderr"
        },
        {
          "output_type": "stream",
          "text": [
            "(96, 96)\n",
            "(96, 96)\n",
            "(96, 96)\n",
            "(96, 96)\n",
            "(96, 96)\n",
            "(96, 96)\n",
            "(96, 96)\n"
          ],
          "name": "stdout"
        },
        {
          "output_type": "stream",
          "text": [
            " 85%|████████▍ | 1809/2140 [01:01<00:11, 29.75it/s]"
          ],
          "name": "stderr"
        },
        {
          "output_type": "stream",
          "text": [
            "(96, 96)\n",
            "(96, 96)\n",
            "(96, 96)\n",
            "(96, 96)\n",
            "(96, 96)\n",
            "(96, 96)\n",
            "(96, 96)\n"
          ],
          "name": "stdout"
        },
        {
          "output_type": "stream",
          "text": [
            " 85%|████████▍ | 1816/2140 [01:01<00:10, 30.02it/s]"
          ],
          "name": "stderr"
        },
        {
          "output_type": "stream",
          "text": [
            "(96, 96)\n",
            "(96, 96)\n",
            "(96, 96)\n",
            "(96, 96)\n",
            "(96, 96)\n",
            "(96, 96)\n",
            "(96, 96)\n"
          ],
          "name": "stdout"
        },
        {
          "output_type": "stream",
          "text": [
            " 85%|████████▌ | 1824/2140 [01:01<00:10, 30.10it/s]"
          ],
          "name": "stderr"
        },
        {
          "output_type": "stream",
          "text": [
            "(96, 96)\n",
            "(96, 96)\n",
            "(96, 96)\n",
            "(96, 96)\n",
            "(96, 96)\n",
            "(96, 96)\n",
            "(96, 96)\n"
          ],
          "name": "stdout"
        },
        {
          "output_type": "stream",
          "text": [
            " 86%|████████▌ | 1831/2140 [01:02<00:10, 29.06it/s]"
          ],
          "name": "stderr"
        },
        {
          "output_type": "stream",
          "text": [
            "(96, 96)\n",
            "(96, 96)\n",
            "(96, 96)\n",
            "(96, 96)\n",
            "(96, 96)\n",
            "(96, 96)\n"
          ],
          "name": "stdout"
        },
        {
          "output_type": "stream",
          "text": [
            " 86%|████████▌ | 1838/2140 [01:02<00:10, 29.56it/s]"
          ],
          "name": "stderr"
        },
        {
          "output_type": "stream",
          "text": [
            "(96, 96)\n",
            "(96, 96)\n",
            "(96, 96)\n",
            "(96, 96)\n",
            "(96, 96)\n",
            "(96, 96)\n",
            "(96, 96)\n"
          ],
          "name": "stdout"
        },
        {
          "output_type": "stream",
          "text": [
            " 86%|████████▌ | 1845/2140 [01:02<00:09, 29.96it/s]"
          ],
          "name": "stderr"
        },
        {
          "output_type": "stream",
          "text": [
            "(96, 96)\n",
            "(96, 96)\n",
            "(96, 96)\n",
            "(96, 96)\n",
            "(96, 96)\n",
            "(96, 96)\n",
            "(96, 96)\n"
          ],
          "name": "stdout"
        },
        {
          "output_type": "stream",
          "text": [
            " 86%|████████▋ | 1851/2140 [01:02<00:09, 29.41it/s]"
          ],
          "name": "stderr"
        },
        {
          "output_type": "stream",
          "text": [
            "(96, 96)\n",
            "(96, 96)\n",
            "(96, 96)\n",
            "(96, 96)\n",
            "(96, 96)\n",
            "(96, 96)\n"
          ],
          "name": "stdout"
        },
        {
          "output_type": "stream",
          "text": [
            " 87%|████████▋ | 1858/2140 [01:03<00:09, 29.16it/s]"
          ],
          "name": "stderr"
        },
        {
          "output_type": "stream",
          "text": [
            "(96, 96)\n",
            "(96, 96)\n",
            "(96, 96)\n",
            "(96, 96)\n",
            "(96, 96)\n",
            "(96, 96)\n",
            "(96, 96)\n"
          ],
          "name": "stdout"
        },
        {
          "output_type": "stream",
          "text": [
            " 87%|████████▋ | 1864/2140 [01:03<00:09, 28.69it/s]"
          ],
          "name": "stderr"
        },
        {
          "output_type": "stream",
          "text": [
            "(96, 96)\n",
            "(96, 96)\n",
            "(96, 96)\n",
            "(96, 96)\n",
            "(96, 96)\n",
            "(96, 96)\n"
          ],
          "name": "stdout"
        },
        {
          "output_type": "stream",
          "text": [
            " 87%|████████▋ | 1870/2140 [01:03<00:09, 27.45it/s]"
          ],
          "name": "stderr"
        },
        {
          "output_type": "stream",
          "text": [
            "(96, 96)\n",
            "(96, 96)\n",
            "(96, 96)\n",
            "(96, 96)\n",
            "(96, 96)\n",
            "(96, 96)\n"
          ],
          "name": "stdout"
        },
        {
          "output_type": "stream",
          "text": [
            "\r 88%|████████▊ | 1873/2140 [01:03<00:09, 26.84it/s]"
          ],
          "name": "stderr"
        },
        {
          "output_type": "stream",
          "text": [
            "(96, 96)\n",
            "(96, 96)\n",
            "(96, 96)\n",
            "(96, 96)\n",
            "(96, 96)\n",
            "(96, 96)\n"
          ],
          "name": "stdout"
        },
        {
          "output_type": "stream",
          "text": [
            " 88%|████████▊ | 1880/2140 [01:03<00:09, 28.42it/s]"
          ],
          "name": "stderr"
        },
        {
          "output_type": "stream",
          "text": [
            "(96, 96)\n",
            "(96, 96)\n",
            "(96, 96)\n",
            "(96, 96)\n",
            "(96, 96)\n",
            "(96, 96)\n",
            "(96, 96)\n"
          ],
          "name": "stdout"
        },
        {
          "output_type": "stream",
          "text": [
            " 88%|████████▊ | 1888/2140 [01:04<00:08, 29.45it/s]"
          ],
          "name": "stderr"
        },
        {
          "output_type": "stream",
          "text": [
            "(96, 96)\n",
            "(96, 96)\n",
            "(96, 96)\n",
            "(96, 96)\n",
            "(96, 96)\n",
            "(96, 96)\n",
            "(96, 96)\n"
          ],
          "name": "stdout"
        },
        {
          "output_type": "stream",
          "text": [
            " 89%|████████▊ | 1895/2140 [01:04<00:08, 29.88it/s]"
          ],
          "name": "stderr"
        },
        {
          "output_type": "stream",
          "text": [
            "(96, 96)\n",
            "(96, 96)\n",
            "(96, 96)\n",
            "(96, 96)\n",
            "(96, 96)\n",
            "(96, 96)\n",
            "(96, 96)\n"
          ],
          "name": "stdout"
        },
        {
          "output_type": "stream",
          "text": [
            " 89%|████████▉ | 1902/2140 [01:04<00:07, 30.13it/s]"
          ],
          "name": "stderr"
        },
        {
          "output_type": "stream",
          "text": [
            "(96, 96)\n",
            "(96, 96)\n",
            "(96, 96)\n",
            "(96, 96)\n",
            "(96, 96)\n",
            "(96, 96)\n",
            "(96, 96)\n"
          ],
          "name": "stdout"
        },
        {
          "output_type": "stream",
          "text": [
            " 89%|████████▉ | 1910/2140 [01:04<00:07, 29.84it/s]"
          ],
          "name": "stderr"
        },
        {
          "output_type": "stream",
          "text": [
            "(96, 96)\n",
            "(96, 96)\n",
            "(96, 96)\n",
            "(96, 96)\n",
            "(96, 96)\n",
            "(96, 96)\n",
            "(96, 96)\n"
          ],
          "name": "stdout"
        },
        {
          "output_type": "stream",
          "text": [
            " 90%|████████▉ | 1917/2140 [01:05<00:07, 30.04it/s]"
          ],
          "name": "stderr"
        },
        {
          "output_type": "stream",
          "text": [
            "(96, 96)\n",
            "(96, 96)\n",
            "(96, 96)\n",
            "(96, 96)\n",
            "(96, 96)\n",
            "(96, 96)\n",
            "(96, 96)\n"
          ],
          "name": "stdout"
        },
        {
          "output_type": "stream",
          "text": [
            " 90%|████████▉ | 1925/2140 [01:05<00:07, 29.99it/s]"
          ],
          "name": "stderr"
        },
        {
          "output_type": "stream",
          "text": [
            "(96, 96)\n",
            "(96, 96)\n",
            "(96, 96)\n",
            "(96, 96)\n",
            "(96, 96)\n",
            "(96, 96)\n",
            "(96, 96)"
          ],
          "name": "stdout"
        },
        {
          "output_type": "stream",
          "text": [
            "\r 90%|█████████ | 1929/2140 [01:05<00:07, 29.86it/s]"
          ],
          "name": "stderr"
        },
        {
          "output_type": "stream",
          "text": [
            "\n",
            "(96, 96)\n",
            "(96, 96)\n",
            "(96, 96)\n",
            "(96, 96)\n",
            "(96, 96)\n",
            "(96, 96)\n",
            "(96, 96)\n"
          ],
          "name": "stdout"
        },
        {
          "output_type": "stream",
          "text": [
            " 91%|█████████ | 1937/2140 [01:05<00:06, 30.21it/s]"
          ],
          "name": "stderr"
        },
        {
          "output_type": "stream",
          "text": [
            "(96, 96)\n",
            "(96, 96)\n",
            "(96, 96)\n",
            "(96, 96)\n",
            "(96, 96)\n",
            "(96, 96)\n",
            "(96, 96)\n"
          ],
          "name": "stdout"
        },
        {
          "output_type": "stream",
          "text": [
            " 91%|█████████ | 1945/2140 [01:06<00:06, 30.30it/s]"
          ],
          "name": "stderr"
        },
        {
          "output_type": "stream",
          "text": [
            "(96, 96)\n",
            "(96, 96)\n",
            "(96, 96)\n",
            "(96, 96)\n",
            "(96, 96)\n",
            "(96, 96)\n",
            "(96, 96)\n"
          ],
          "name": "stdout"
        },
        {
          "output_type": "stream",
          "text": [
            " 91%|█████████▏| 1953/2140 [01:06<00:06, 30.48it/s]"
          ],
          "name": "stderr"
        },
        {
          "output_type": "stream",
          "text": [
            "(96, 96)\n",
            "(96, 96)\n",
            "(96, 96)\n",
            "(96, 96)\n",
            "(96, 96)\n",
            "(96, 96)\n",
            "(96, 96)"
          ],
          "name": "stdout"
        },
        {
          "output_type": "stream",
          "text": [
            "\r 91%|█████████▏| 1957/2140 [01:06<00:06, 30.41it/s]"
          ],
          "name": "stderr"
        },
        {
          "output_type": "stream",
          "text": [
            "\n",
            "(96, 96)\n",
            "(96, 96)\n",
            "(96, 96)\n",
            "(96, 96)\n",
            "(96, 96)\n",
            "(96, 96)\n",
            "(96, 96)\n"
          ],
          "name": "stdout"
        },
        {
          "output_type": "stream",
          "text": [
            " 92%|█████████▏| 1965/2140 [01:06<00:05, 30.61it/s]"
          ],
          "name": "stderr"
        },
        {
          "output_type": "stream",
          "text": [
            "(96, 96)\n",
            "(96, 96)\n",
            "(96, 96)\n",
            "(96, 96)\n",
            "(96, 96)\n",
            "(96, 96)\n",
            "(96, 96)\n"
          ],
          "name": "stdout"
        },
        {
          "output_type": "stream",
          "text": [
            " 92%|█████████▏| 1972/2140 [01:06<00:05, 29.36it/s]"
          ],
          "name": "stderr"
        },
        {
          "output_type": "stream",
          "text": [
            "(96, 96)\n",
            "(96, 96)\n",
            "(96, 96)\n",
            "(96, 96)\n",
            "(96, 96)\n",
            "(96, 96)\n"
          ],
          "name": "stdout"
        },
        {
          "output_type": "stream",
          "text": [
            " 92%|█████████▏| 1979/2140 [01:07<00:05, 29.79it/s]"
          ],
          "name": "stderr"
        },
        {
          "output_type": "stream",
          "text": [
            "(96, 96)\n",
            "(96, 96)\n",
            "(96, 96)\n",
            "(96, 96)\n",
            "(96, 96)\n",
            "(96, 96)\n",
            "(96, 96)\n"
          ],
          "name": "stdout"
        },
        {
          "output_type": "stream",
          "text": [
            " 93%|█████████▎| 1985/2140 [01:07<00:05, 29.75it/s]"
          ],
          "name": "stderr"
        },
        {
          "output_type": "stream",
          "text": [
            "(96, 96)\n",
            "(96, 96)\n",
            "(96, 96)\n",
            "(96, 96)\n",
            "(96, 96)\n",
            "(96, 96)\n",
            "(96, 96)\n"
          ],
          "name": "stdout"
        },
        {
          "output_type": "stream",
          "text": [
            " 93%|█████████▎| 1992/2140 [01:07<00:04, 29.96it/s]"
          ],
          "name": "stderr"
        },
        {
          "output_type": "stream",
          "text": [
            "(96, 96)\n",
            "(96, 96)\n",
            "(96, 96)\n",
            "(96, 96)\n",
            "(96, 96)\n",
            "(96, 96)\n",
            "(96, 96)\n"
          ],
          "name": "stdout"
        },
        {
          "output_type": "stream",
          "text": [
            " 93%|█████████▎| 1999/2140 [01:07<00:04, 30.13it/s]"
          ],
          "name": "stderr"
        },
        {
          "output_type": "stream",
          "text": [
            "(96, 96)\n",
            "(96, 96)\n",
            "(96, 96)\n",
            "(96, 96)\n",
            "(96, 96)\n",
            "(96, 96)\n",
            "(96, 96)\n"
          ],
          "name": "stdout"
        },
        {
          "output_type": "stream",
          "text": [
            " 94%|█████████▍| 2007/2140 [01:08<00:04, 29.31it/s]"
          ],
          "name": "stderr"
        },
        {
          "output_type": "stream",
          "text": [
            "(96, 96)\n",
            "(96, 96)\n",
            "(96, 96)\n",
            "(96, 96)\n",
            "(96, 96)\n",
            "(96, 96)\n"
          ],
          "name": "stdout"
        },
        {
          "output_type": "stream",
          "text": [
            " 94%|█████████▍| 2014/2140 [01:08<00:04, 29.61it/s]"
          ],
          "name": "stderr"
        },
        {
          "output_type": "stream",
          "text": [
            "(96, 96)\n",
            "(96, 96)\n",
            "(96, 96)\n",
            "(96, 96)\n",
            "(96, 96)\n",
            "(96, 96)\n",
            "(96, 96)\n"
          ],
          "name": "stdout"
        },
        {
          "output_type": "stream",
          "text": [
            " 94%|█████████▍| 2020/2140 [01:08<00:04, 29.30it/s]"
          ],
          "name": "stderr"
        },
        {
          "output_type": "stream",
          "text": [
            "(96, 96)\n",
            "(96, 96)\n",
            "(96, 96)\n",
            "(96, 96)\n",
            "(96, 96)\n",
            "(96, 96)\n"
          ],
          "name": "stdout"
        },
        {
          "output_type": "stream",
          "text": [
            " 95%|█████████▍| 2027/2140 [01:08<00:03, 29.72it/s]"
          ],
          "name": "stderr"
        },
        {
          "output_type": "stream",
          "text": [
            "(96, 96)\n",
            "(96, 96)\n",
            "(96, 96)\n",
            "(96, 96)\n",
            "(96, 96)\n",
            "(96, 96)\n",
            "(96, 96)\n"
          ],
          "name": "stdout"
        },
        {
          "output_type": "stream",
          "text": [
            " 95%|█████████▌| 2034/2140 [01:09<00:03, 29.76it/s]"
          ],
          "name": "stderr"
        },
        {
          "output_type": "stream",
          "text": [
            "(96, 96)\n",
            "(96, 96)\n",
            "(96, 96)\n",
            "(96, 96)\n",
            "(96, 96)\n",
            "(96, 96)\n",
            "(96, 96)\n"
          ],
          "name": "stdout"
        },
        {
          "output_type": "stream",
          "text": [
            " 95%|█████████▌| 2041/2140 [01:09<00:03, 29.97it/s]"
          ],
          "name": "stderr"
        },
        {
          "output_type": "stream",
          "text": [
            "(96, 96)\n",
            "(96, 96)\n",
            "(96, 96)\n",
            "(96, 96)\n",
            "(96, 96)\n",
            "(96, 96)\n",
            "(96, 96)\n"
          ],
          "name": "stdout"
        },
        {
          "output_type": "stream",
          "text": [
            " 96%|█████████▌| 2048/2140 [01:09<00:03, 30.16it/s]"
          ],
          "name": "stderr"
        },
        {
          "output_type": "stream",
          "text": [
            "(96, 96)\n",
            "(96, 96)\n",
            "(96, 96)\n",
            "(96, 96)\n",
            "(96, 96)\n",
            "(96, 96)\n",
            "(96, 96)\n"
          ],
          "name": "stdout"
        },
        {
          "output_type": "stream",
          "text": [
            "\r 96%|█████████▌| 2052/2140 [01:09<00:02, 30.20it/s]"
          ],
          "name": "stderr"
        },
        {
          "output_type": "stream",
          "text": [
            "(96, 96)\n",
            "(96, 96)\n",
            "(96, 96)\n",
            "(96, 96)\n",
            "(96, 96)\n",
            "(96, 96)\n",
            "(96, 96)\n"
          ],
          "name": "stdout"
        },
        {
          "output_type": "stream",
          "text": [
            " 96%|█████████▋| 2060/2140 [01:09<00:02, 30.06it/s]"
          ],
          "name": "stderr"
        },
        {
          "output_type": "stream",
          "text": [
            "(96, 96)\n",
            "(96, 96)\n",
            "(96, 96)\n",
            "(96, 96)\n",
            "(96, 96)\n",
            "(96, 96)\n"
          ],
          "name": "stdout"
        },
        {
          "output_type": "stream",
          "text": [
            " 97%|█████████▋| 2068/2140 [01:10<00:02, 30.20it/s]"
          ],
          "name": "stderr"
        },
        {
          "output_type": "stream",
          "text": [
            "(96, 96)\n",
            "(96, 96)\n",
            "(96, 96)\n",
            "(96, 96)\n",
            "(96, 96)\n",
            "(96, 96)\n",
            "(96, 96)\n"
          ],
          "name": "stdout"
        },
        {
          "output_type": "stream",
          "text": [
            "\r 97%|█████████▋| 2072/2140 [01:10<00:02, 30.22it/s]"
          ],
          "name": "stderr"
        },
        {
          "output_type": "stream",
          "text": [
            "(96, 96)\n",
            "(96, 96)\n",
            "(96, 96)\n",
            "(96, 96)\n",
            "(96, 96)\n",
            "(96, 96)\n",
            "(96, 96)\n"
          ],
          "name": "stdout"
        },
        {
          "output_type": "stream",
          "text": [
            " 97%|█████████▋| 2080/2140 [01:10<00:01, 30.23it/s]"
          ],
          "name": "stderr"
        },
        {
          "output_type": "stream",
          "text": [
            "(96, 96)\n",
            "(96, 96)\n",
            "(96, 96)\n",
            "(96, 96)\n",
            "(96, 96)\n",
            "(96, 96)\n",
            "(96, 96)\n"
          ],
          "name": "stdout"
        },
        {
          "output_type": "stream",
          "text": [
            " 98%|█████████▊| 2088/2140 [01:10<00:01, 30.31it/s]"
          ],
          "name": "stderr"
        },
        {
          "output_type": "stream",
          "text": [
            "(96, 96)\n",
            "(96, 96)\n",
            "(96, 96)\n",
            "(96, 96)\n",
            "(96, 96)\n",
            "(96, 96)\n",
            "(96, 96)\n"
          ],
          "name": "stdout"
        },
        {
          "output_type": "stream",
          "text": [
            " 98%|█████████▊| 2095/2140 [01:11<00:01, 29.42it/s]"
          ],
          "name": "stderr"
        },
        {
          "output_type": "stream",
          "text": [
            "(96, 96)\n",
            "(96, 96)\n",
            "(96, 96)\n",
            "(96, 96)\n",
            "(96, 96)\n",
            "(96, 96)\n"
          ],
          "name": "stdout"
        },
        {
          "output_type": "stream",
          "text": [
            " 98%|█████████▊| 2101/2140 [01:11<00:01, 28.78it/s]"
          ],
          "name": "stderr"
        },
        {
          "output_type": "stream",
          "text": [
            "(96, 96)\n",
            "(96, 96)\n",
            "(96, 96)\n",
            "(96, 96)\n",
            "(96, 96)\n",
            "(96, 96)\n"
          ],
          "name": "stdout"
        },
        {
          "output_type": "stream",
          "text": [
            " 99%|█████████▊| 2108/2140 [01:11<00:01, 29.46it/s]"
          ],
          "name": "stderr"
        },
        {
          "output_type": "stream",
          "text": [
            "(96, 96)\n",
            "(96, 96)\n",
            "(96, 96)\n",
            "(96, 96)\n",
            "(96, 96)\n",
            "(96, 96)\n",
            "(96, 96)\n"
          ],
          "name": "stdout"
        },
        {
          "output_type": "stream",
          "text": [
            " 99%|█████████▉| 2115/2140 [01:11<00:00, 29.93it/s]"
          ],
          "name": "stderr"
        },
        {
          "output_type": "stream",
          "text": [
            "(96, 96)\n",
            "(96, 96)\n",
            "(96, 96)\n",
            "(96, 96)\n",
            "(96, 96)\n",
            "(96, 96)\n",
            "(96, 96)\n"
          ],
          "name": "stdout"
        },
        {
          "output_type": "stream",
          "text": [
            "\r 99%|█████████▉| 2118/2140 [01:11<00:00, 27.41it/s]"
          ],
          "name": "stderr"
        },
        {
          "output_type": "stream",
          "text": [
            "(96, 96)\n",
            "(96, 96)\n",
            "(96, 96)\n",
            "(96, 96)\n",
            "(96, 96)\n",
            "(96, 96)\n"
          ],
          "name": "stdout"
        },
        {
          "output_type": "stream",
          "text": [
            " 99%|█████████▉| 2126/2140 [01:12<00:00, 29.02it/s]"
          ],
          "name": "stderr"
        },
        {
          "output_type": "stream",
          "text": [
            "(96, 96)\n",
            "(96, 96)\n",
            "(96, 96)\n",
            "(96, 96)\n",
            "(96, 96)\n",
            "(96, 96)\n",
            "(96, 96)\n"
          ],
          "name": "stdout"
        },
        {
          "output_type": "stream",
          "text": [
            "100%|█████████▉| 2133/2140 [01:12<00:00, 29.72it/s]"
          ],
          "name": "stderr"
        },
        {
          "output_type": "stream",
          "text": [
            "(96, 96)\n",
            "(96, 96)\n",
            "(96, 96)\n",
            "(96, 96)\n",
            "(96, 96)\n",
            "(96, 96)\n",
            "(96, 96)\n"
          ],
          "name": "stdout"
        },
        {
          "output_type": "stream",
          "text": [
            "100%|██████████| 2140/2140 [01:12<00:00, 30.17it/s]\n"
          ],
          "name": "stderr"
        },
        {
          "output_type": "stream",
          "text": [
            "(96, 96)\n",
            "(96, 96)\n",
            "(96, 96)\n",
            "(96, 96)\n",
            "(6420, 96, 96)\n",
            "(6420, 30)\n"
          ],
          "name": "stdout"
        }
      ]
    },
    {
      "cell_type": "markdown",
      "metadata": {
        "id": "VUVpRGJj18Xs",
        "colab_type": "text"
      },
      "source": [
        "完成预处理之后，准备训练"
      ]
    },
    {
      "cell_type": "code",
      "metadata": {
        "id": "LNQAyMqqwxOx",
        "colab_type": "code",
        "colab": {}
      },
      "source": [
        "from tensorflow.keras.models import Sequential\n",
        "from tensorflow.keras.layers import Conv2D, MaxPooling2D, Flatten, Dense, Dropout\n",
        "from tensorflow.keras.callbacks import ModelCheckpoint, History\n",
        "from tensorflow.keras.optimizers import Adam\n",
        "from tensorflow.keras.models import load_model"
      ],
      "execution_count": 0,
      "outputs": []
    },
    {
      "cell_type": "code",
      "metadata": {
        "id": "FKu4WD3U2FfH",
        "colab_type": "code",
        "colab": {}
      },
      "source": [
        "# reshape the images for training\n",
        "aug_imgs_train = aug_imgs_train.reshape(aug_imgs_train.shape[0], 96, 96, 1)\n",
        "imgs_test = imgs_test.reshape(imgs_test.shape[0], 96, 96, 1)"
      ],
      "execution_count": 0,
      "outputs": []
    },
    {
      "cell_type": "code",
      "metadata": {
        "id": "W2aBBt1y2c6M",
        "colab_type": "code",
        "colab": {
          "base_uri": "https://localhost:8080/",
          "height": 629
        },
        "outputId": "6987ee20-3468-4e00-e72d-ff691da26df8"
      },
      "source": [
        "# model checkpoint \n",
        "checkpoint = ModelCheckpoint('best_weights.h5', verbose=1, save_best_only=True)\n",
        "hist = History()\n",
        "\n",
        "# model architecture\n",
        "model = Sequential()\n",
        "model.add(Conv2D(filters=16, kernel_size=3, activation='relu', input_shape=(96, 96, 1)))\n",
        "model.add(MaxPooling2D(pool_size=2))\n",
        "\n",
        "model.add(Conv2D(filters=32, kernel_size=3, activation='relu'))\n",
        "model.add(MaxPooling2D(pool_size=2))\n",
        "\n",
        "model.add(Conv2D(filters=64, kernel_size=3, activation='relu'))\n",
        "model.add(MaxPooling2D(pool_size=2))\n",
        "\n",
        "model.add(Conv2D(filters=128, kernel_size=3, activation='relu'))\n",
        "model.add(MaxPooling2D(pool_size=2))\n",
        "\n",
        "model.add(Flatten())\n",
        "model.add(Dense(512, activation='relu'))\n",
        "model.add(Dropout(0.2))\n",
        "model.add(Dense(512, activation='relu'))\n",
        "model.add(Dropout(0.2))\n",
        "\n",
        "model.add(Dense(30))\n",
        "model.summary()\n",
        "model.compile(loss='mean_squared_error', optimizer='adam', metrics=['accuracy'])"
      ],
      "execution_count": 37,
      "outputs": [
        {
          "output_type": "stream",
          "text": [
            "Model: \"sequential_1\"\n",
            "_________________________________________________________________\n",
            "Layer (type)                 Output Shape              Param #   \n",
            "=================================================================\n",
            "conv2d_4 (Conv2D)            (None, 94, 94, 16)        160       \n",
            "_________________________________________________________________\n",
            "max_pooling2d_4 (MaxPooling2 (None, 47, 47, 16)        0         \n",
            "_________________________________________________________________\n",
            "conv2d_5 (Conv2D)            (None, 45, 45, 32)        4640      \n",
            "_________________________________________________________________\n",
            "max_pooling2d_5 (MaxPooling2 (None, 22, 22, 32)        0         \n",
            "_________________________________________________________________\n",
            "conv2d_6 (Conv2D)            (None, 20, 20, 64)        18496     \n",
            "_________________________________________________________________\n",
            "max_pooling2d_6 (MaxPooling2 (None, 10, 10, 64)        0         \n",
            "_________________________________________________________________\n",
            "conv2d_7 (Conv2D)            (None, 8, 8, 128)         73856     \n",
            "_________________________________________________________________\n",
            "max_pooling2d_7 (MaxPooling2 (None, 4, 4, 128)         0         \n",
            "_________________________________________________________________\n",
            "flatten_1 (Flatten)          (None, 2048)              0         \n",
            "_________________________________________________________________\n",
            "dense_3 (Dense)              (None, 512)               1049088   \n",
            "_________________________________________________________________\n",
            "dropout_2 (Dropout)          (None, 512)               0         \n",
            "_________________________________________________________________\n",
            "dense_4 (Dense)              (None, 512)               262656    \n",
            "_________________________________________________________________\n",
            "dropout_3 (Dropout)          (None, 512)               0         \n",
            "_________________________________________________________________\n",
            "dense_5 (Dense)              (None, 30)                15390     \n",
            "=================================================================\n",
            "Total params: 1,424,286\n",
            "Trainable params: 1,424,286\n",
            "Non-trainable params: 0\n",
            "_________________________________________________________________\n"
          ],
          "name": "stdout"
        }
      ]
    },
    {
      "cell_type": "code",
      "metadata": {
        "id": "ma3MfoLf2eNG",
        "colab_type": "code",
        "colab": {
          "base_uri": "https://localhost:8080/",
          "height": 1000
        },
        "outputId": "3b79e26d-6f01-4aba-b91c-d3b0465b86d6"
      },
      "source": [
        "# training the model\n",
        "hist = model.fit(aug_imgs_train, aug_points_train, validation_split=0.2, batch_size=64, callbacks=[checkpoint, hist],\n",
        "          shuffle=True, epochs=150, verbose=1)\n",
        "\n",
        "# save the model weights\n",
        "model.save_weights('face_weights.h5')\n"
      ],
      "execution_count": 38,
      "outputs": [
        {
          "output_type": "stream",
          "text": [
            "Train on 5136 samples, validate on 1284 samples\n",
            "Epoch 1/150\n",
            "5120/5136 [============================>.] - ETA: 0s - loss: 0.0062 - accuracy: 0.7607\n",
            "Epoch 00001: val_loss improved from inf to 0.00013, saving model to best_weights.h5\n",
            "5136/5136 [==============================] - 47s 9ms/sample - loss: 0.0062 - accuracy: 0.7615 - val_loss: 1.3149e-04 - val_accuracy: 1.0000\n",
            "Epoch 2/150\n",
            "5120/5136 [============================>.] - ETA: 0s - loss: 6.7461e-04 - accuracy: 0.9428\n",
            "Epoch 00002: val_loss improved from 0.00013 to 0.00001, saving model to best_weights.h5\n",
            "5136/5136 [==============================] - 46s 9ms/sample - loss: 6.7413e-04 - accuracy: 0.9428 - val_loss: 1.3638e-05 - val_accuracy: 1.0000\n",
            "Epoch 3/150\n",
            "5120/5136 [============================>.] - ETA: 0s - loss: 4.5312e-04 - accuracy: 0.9803\n",
            "Epoch 00003: val_loss did not improve from 0.00001\n",
            "5136/5136 [==============================] - 46s 9ms/sample - loss: 4.5286e-04 - accuracy: 0.9803 - val_loss: 2.9928e-05 - val_accuracy: 1.0000\n",
            "Epoch 4/150\n",
            "5120/5136 [============================>.] - ETA: 0s - loss: 3.4429e-04 - accuracy: 0.9908\n",
            "Epoch 00004: val_loss did not improve from 0.00001\n",
            "5136/5136 [==============================] - 46s 9ms/sample - loss: 3.4416e-04 - accuracy: 0.9907 - val_loss: 2.0834e-05 - val_accuracy: 1.0000\n",
            "Epoch 5/150\n",
            "5120/5136 [============================>.] - ETA: 0s - loss: 2.8091e-04 - accuracy: 0.9947\n",
            "Epoch 00005: val_loss did not improve from 0.00001\n",
            "5136/5136 [==============================] - 46s 9ms/sample - loss: 2.8096e-04 - accuracy: 0.9947 - val_loss: 1.8992e-05 - val_accuracy: 1.0000\n",
            "Epoch 6/150\n",
            "5120/5136 [============================>.] - ETA: 0s - loss: 2.3305e-04 - accuracy: 0.9977\n",
            "Epoch 00006: val_loss did not improve from 0.00001\n",
            "5136/5136 [==============================] - 46s 9ms/sample - loss: 2.3287e-04 - accuracy: 0.9977 - val_loss: 5.1232e-05 - val_accuracy: 1.0000\n",
            "Epoch 7/150\n",
            "5120/5136 [============================>.] - ETA: 0s - loss: 2.1311e-04 - accuracy: 0.9982\n",
            "Epoch 00007: val_loss did not improve from 0.00001\n",
            "5136/5136 [==============================] - 46s 9ms/sample - loss: 2.1296e-04 - accuracy: 0.9982 - val_loss: 2.1828e-05 - val_accuracy: 1.0000\n",
            "Epoch 8/150\n",
            "5120/5136 [============================>.] - ETA: 0s - loss: 1.9168e-04 - accuracy: 0.9994\n",
            "Epoch 00008: val_loss did not improve from 0.00001\n",
            "5136/5136 [==============================] - 46s 9ms/sample - loss: 1.9160e-04 - accuracy: 0.9994 - val_loss: 1.9013e-05 - val_accuracy: 1.0000\n",
            "Epoch 9/150\n",
            "5120/5136 [============================>.] - ETA: 0s - loss: 1.7251e-04 - accuracy: 0.9988\n",
            "Epoch 00009: val_loss did not improve from 0.00001\n",
            "5136/5136 [==============================] - 46s 9ms/sample - loss: 1.7235e-04 - accuracy: 0.9988 - val_loss: 2.3783e-05 - val_accuracy: 1.0000\n",
            "Epoch 10/150\n",
            "5120/5136 [============================>.] - ETA: 0s - loss: 1.5768e-04 - accuracy: 0.9992\n",
            "Epoch 00010: val_loss improved from 0.00001 to 0.00001, saving model to best_weights.h5\n",
            "5136/5136 [==============================] - 46s 9ms/sample - loss: 1.5755e-04 - accuracy: 0.9992 - val_loss: 1.1251e-05 - val_accuracy: 1.0000\n",
            "Epoch 11/150\n",
            "5120/5136 [============================>.] - ETA: 0s - loss: 1.5359e-04 - accuracy: 0.9998\n",
            "Epoch 00011: val_loss improved from 0.00001 to 0.00000, saving model to best_weights.h5\n",
            "5136/5136 [==============================] - 46s 9ms/sample - loss: 1.5341e-04 - accuracy: 0.9998 - val_loss: 2.1209e-06 - val_accuracy: 1.0000\n",
            "Epoch 12/150\n",
            "5120/5136 [============================>.] - ETA: 0s - loss: 1.3565e-04 - accuracy: 0.9998\n",
            "Epoch 00012: val_loss did not improve from 0.00000\n",
            "5136/5136 [==============================] - 46s 9ms/sample - loss: 1.3560e-04 - accuracy: 0.9998 - val_loss: 4.4963e-06 - val_accuracy: 1.0000\n",
            "Epoch 13/150\n",
            "5120/5136 [============================>.] - ETA: 0s - loss: 1.2665e-04 - accuracy: 1.0000\n",
            "Epoch 00013: val_loss did not improve from 0.00000\n",
            "5136/5136 [==============================] - 45s 9ms/sample - loss: 1.2669e-04 - accuracy: 1.0000 - val_loss: 1.0882e-05 - val_accuracy: 1.0000\n",
            "Epoch 14/150\n",
            "5120/5136 [============================>.] - ETA: 0s - loss: 1.2026e-04 - accuracy: 1.0000\n",
            "Epoch 00014: val_loss improved from 0.00000 to 0.00000, saving model to best_weights.h5\n",
            "5136/5136 [==============================] - 45s 9ms/sample - loss: 1.2021e-04 - accuracy: 1.0000 - val_loss: 1.9803e-06 - val_accuracy: 1.0000\n",
            "Epoch 15/150\n",
            "5120/5136 [============================>.] - ETA: 0s - loss: 1.1307e-04 - accuracy: 1.0000\n",
            "Epoch 00015: val_loss did not improve from 0.00000\n",
            "5136/5136 [==============================] - 45s 9ms/sample - loss: 1.1307e-04 - accuracy: 1.0000 - val_loss: 9.4183e-06 - val_accuracy: 1.0000\n",
            "Epoch 16/150\n",
            "5120/5136 [============================>.] - ETA: 0s - loss: 1.1036e-04 - accuracy: 1.0000\n",
            "Epoch 00016: val_loss did not improve from 0.00000\n",
            "5136/5136 [==============================] - 45s 9ms/sample - loss: 1.1028e-04 - accuracy: 1.0000 - val_loss: 7.1257e-06 - val_accuracy: 1.0000\n",
            "Epoch 17/150\n",
            "5120/5136 [============================>.] - ETA: 0s - loss: 1.0610e-04 - accuracy: 1.0000\n",
            "Epoch 00017: val_loss did not improve from 0.00000\n",
            "5136/5136 [==============================] - 45s 9ms/sample - loss: 1.0598e-04 - accuracy: 1.0000 - val_loss: 2.1866e-06 - val_accuracy: 1.0000\n",
            "Epoch 18/150\n",
            "5120/5136 [============================>.] - ETA: 0s - loss: 1.0119e-04 - accuracy: 1.0000\n",
            "Epoch 00018: val_loss did not improve from 0.00000\n",
            "5136/5136 [==============================] - 45s 9ms/sample - loss: 1.0118e-04 - accuracy: 1.0000 - val_loss: 2.8594e-06 - val_accuracy: 1.0000\n",
            "Epoch 19/150\n",
            "5120/5136 [============================>.] - ETA: 0s - loss: 9.2947e-05 - accuracy: 1.0000\n",
            "Epoch 00019: val_loss did not improve from 0.00000\n",
            "5136/5136 [==============================] - 45s 9ms/sample - loss: 9.2915e-05 - accuracy: 1.0000 - val_loss: 2.8823e-06 - val_accuracy: 1.0000\n",
            "Epoch 20/150\n",
            "5120/5136 [============================>.] - ETA: 0s - loss: 9.1089e-05 - accuracy: 1.0000\n",
            "Epoch 00020: val_loss did not improve from 0.00000\n",
            "5136/5136 [==============================] - 45s 9ms/sample - loss: 9.1011e-05 - accuracy: 1.0000 - val_loss: 3.9087e-06 - val_accuracy: 1.0000\n",
            "Epoch 21/150\n",
            "5120/5136 [============================>.] - ETA: 0s - loss: 8.9002e-05 - accuracy: 1.0000\n",
            "Epoch 00021: val_loss improved from 0.00000 to 0.00000, saving model to best_weights.h5\n",
            "5136/5136 [==============================] - 45s 9ms/sample - loss: 8.9086e-05 - accuracy: 1.0000 - val_loss: 8.7486e-07 - val_accuracy: 1.0000\n",
            "Epoch 22/150\n",
            "5120/5136 [============================>.] - ETA: 0s - loss: 8.4592e-05 - accuracy: 1.0000\n",
            "Epoch 00022: val_loss did not improve from 0.00000\n",
            "5136/5136 [==============================] - 45s 9ms/sample - loss: 8.4637e-05 - accuracy: 1.0000 - val_loss: 2.1637e-06 - val_accuracy: 1.0000\n",
            "Epoch 23/150\n",
            "5120/5136 [============================>.] - ETA: 0s - loss: 8.2258e-05 - accuracy: 1.0000\n",
            "Epoch 00023: val_loss did not improve from 0.00000\n",
            "5136/5136 [==============================] - 45s 9ms/sample - loss: 8.2179e-05 - accuracy: 1.0000 - val_loss: 4.2713e-06 - val_accuracy: 1.0000\n",
            "Epoch 24/150\n",
            "5120/5136 [============================>.] - ETA: 0s - loss: 8.3055e-05 - accuracy: 1.0000\n",
            "Epoch 00024: val_loss did not improve from 0.00000\n",
            "5136/5136 [==============================] - 45s 9ms/sample - loss: 8.3241e-05 - accuracy: 1.0000 - val_loss: 9.7171e-07 - val_accuracy: 1.0000\n",
            "Epoch 25/150\n",
            "5120/5136 [============================>.] - ETA: 0s - loss: 7.9903e-05 - accuracy: 1.0000\n",
            "Epoch 00025: val_loss did not improve from 0.00000\n",
            "5136/5136 [==============================] - 45s 9ms/sample - loss: 7.9843e-05 - accuracy: 1.0000 - val_loss: 5.2945e-06 - val_accuracy: 1.0000\n",
            "Epoch 26/150\n",
            "5120/5136 [============================>.] - ETA: 0s - loss: 7.6747e-05 - accuracy: 1.0000\n",
            "Epoch 00026: val_loss did not improve from 0.00000\n",
            "5136/5136 [==============================] - 45s 9ms/sample - loss: 7.6709e-05 - accuracy: 1.0000 - val_loss: 3.6922e-06 - val_accuracy: 1.0000\n",
            "Epoch 27/150\n",
            "5120/5136 [============================>.] - ETA: 0s - loss: 7.5071e-05 - accuracy: 1.0000\n",
            "Epoch 00027: val_loss did not improve from 0.00000\n",
            "5136/5136 [==============================] - 45s 9ms/sample - loss: 7.5099e-05 - accuracy: 1.0000 - val_loss: 1.9187e-05 - val_accuracy: 1.0000\n",
            "Epoch 28/150\n",
            "5120/5136 [============================>.] - ETA: 0s - loss: 7.3141e-05 - accuracy: 1.0000\n",
            "Epoch 00028: val_loss improved from 0.00000 to 0.00000, saving model to best_weights.h5\n",
            "5136/5136 [==============================] - 45s 9ms/sample - loss: 7.3196e-05 - accuracy: 1.0000 - val_loss: 6.0656e-07 - val_accuracy: 1.0000\n",
            "Epoch 29/150\n",
            "5120/5136 [============================>.] - ETA: 0s - loss: 7.2320e-05 - accuracy: 0.9998\n",
            "Epoch 00029: val_loss did not improve from 0.00000\n",
            "5136/5136 [==============================] - 45s 9ms/sample - loss: 7.2269e-05 - accuracy: 0.9998 - val_loss: 2.0156e-06 - val_accuracy: 1.0000\n",
            "Epoch 30/150\n",
            "5120/5136 [============================>.] - ETA: 0s - loss: 6.8092e-05 - accuracy: 1.0000\n",
            "Epoch 00030: val_loss did not improve from 0.00000\n",
            "5136/5136 [==============================] - 45s 9ms/sample - loss: 6.8051e-05 - accuracy: 1.0000 - val_loss: 6.6977e-06 - val_accuracy: 1.0000\n",
            "Epoch 31/150\n",
            "5120/5136 [============================>.] - ETA: 0s - loss: 6.7538e-05 - accuracy: 1.0000\n",
            "Epoch 00031: val_loss improved from 0.00000 to 0.00000, saving model to best_weights.h5\n",
            "5136/5136 [==============================] - 45s 9ms/sample - loss: 6.7558e-05 - accuracy: 1.0000 - val_loss: 2.2576e-07 - val_accuracy: 1.0000\n",
            "Epoch 32/150\n",
            "5120/5136 [============================>.] - ETA: 0s - loss: 6.5643e-05 - accuracy: 1.0000\n",
            "Epoch 00032: val_loss did not improve from 0.00000\n",
            "5136/5136 [==============================] - 45s 9ms/sample - loss: 6.5603e-05 - accuracy: 1.0000 - val_loss: 9.3913e-06 - val_accuracy: 1.0000\n",
            "Epoch 33/150\n",
            "5120/5136 [============================>.] - ETA: 0s - loss: 6.3305e-05 - accuracy: 1.0000\n",
            "Epoch 00033: val_loss did not improve from 0.00000\n",
            "5136/5136 [==============================] - 45s 9ms/sample - loss: 6.3234e-05 - accuracy: 1.0000 - val_loss: 6.0507e-07 - val_accuracy: 1.0000\n",
            "Epoch 34/150\n",
            "5120/5136 [============================>.] - ETA: 0s - loss: 6.2270e-05 - accuracy: 1.0000\n",
            "Epoch 00034: val_loss did not improve from 0.00000\n",
            "5136/5136 [==============================] - 45s 9ms/sample - loss: 6.2232e-05 - accuracy: 1.0000 - val_loss: 1.3790e-06 - val_accuracy: 1.0000\n",
            "Epoch 35/150\n",
            "5120/5136 [============================>.] - ETA: 0s - loss: 6.0393e-05 - accuracy: 1.0000\n",
            "Epoch 00035: val_loss did not improve from 0.00000\n",
            "5136/5136 [==============================] - 45s 9ms/sample - loss: 6.0361e-05 - accuracy: 1.0000 - val_loss: 3.6485e-06 - val_accuracy: 1.0000\n",
            "Epoch 36/150\n",
            "5120/5136 [============================>.] - ETA: 0s - loss: 6.1718e-05 - accuracy: 1.0000\n",
            "Epoch 00036: val_loss did not improve from 0.00000\n",
            "5136/5136 [==============================] - 45s 9ms/sample - loss: 6.1670e-05 - accuracy: 1.0000 - val_loss: 7.8968e-06 - val_accuracy: 1.0000\n",
            "Epoch 37/150\n",
            "5120/5136 [============================>.] - ETA: 0s - loss: 5.9444e-05 - accuracy: 0.9998\n",
            "Epoch 00037: val_loss did not improve from 0.00000\n",
            "5136/5136 [==============================] - 45s 9ms/sample - loss: 5.9444e-05 - accuracy: 0.9998 - val_loss: 7.4210e-07 - val_accuracy: 1.0000\n",
            "Epoch 38/150\n",
            "5120/5136 [============================>.] - ETA: 0s - loss: 6.2146e-05 - accuracy: 1.0000\n",
            "Epoch 00038: val_loss did not improve from 0.00000\n",
            "5136/5136 [==============================] - 45s 9ms/sample - loss: 6.2093e-05 - accuracy: 1.0000 - val_loss: 7.2674e-06 - val_accuracy: 1.0000\n",
            "Epoch 39/150\n",
            "5120/5136 [============================>.] - ETA: 0s - loss: 0.0051 - accuracy: 0.9453\n",
            "Epoch 00039: val_loss did not improve from 0.00000\n",
            "5136/5136 [==============================] - 45s 9ms/sample - loss: 0.0051 - accuracy: 0.9455 - val_loss: 5.5080e-05 - val_accuracy: 1.0000\n",
            "Epoch 40/150\n",
            "5120/5136 [============================>.] - ETA: 0s - loss: 1.9128e-04 - accuracy: 0.9934\n",
            "Epoch 00040: val_loss did not improve from 0.00000\n",
            "5136/5136 [==============================] - 45s 9ms/sample - loss: 1.9102e-04 - accuracy: 0.9934 - val_loss: 1.1326e-05 - val_accuracy: 1.0000\n",
            "Epoch 41/150\n",
            "5120/5136 [============================>.] - ETA: 0s - loss: 1.2082e-04 - accuracy: 0.9980\n",
            "Epoch 00041: val_loss did not improve from 0.00000\n",
            "5136/5136 [==============================] - 45s 9ms/sample - loss: 1.2075e-04 - accuracy: 0.9981 - val_loss: 4.8793e-06 - val_accuracy: 1.0000\n",
            "Epoch 42/150\n",
            "5120/5136 [============================>.] - ETA: 0s - loss: 1.0337e-04 - accuracy: 0.9982\n",
            "Epoch 00042: val_loss did not improve from 0.00000\n",
            "5136/5136 [==============================] - 45s 9ms/sample - loss: 1.0349e-04 - accuracy: 0.9982 - val_loss: 1.0608e-05 - val_accuracy: 1.0000\n",
            "Epoch 43/150\n",
            "5120/5136 [============================>.] - ETA: 0s - loss: 9.0360e-05 - accuracy: 0.9988\n",
            "Epoch 00043: val_loss did not improve from 0.00000\n",
            "5136/5136 [==============================] - 45s 9ms/sample - loss: 9.0298e-05 - accuracy: 0.9988 - val_loss: 3.2252e-05 - val_accuracy: 1.0000\n",
            "Epoch 44/150\n",
            "5120/5136 [============================>.] - ETA: 0s - loss: 8.1236e-05 - accuracy: 0.9980\n",
            "Epoch 00044: val_loss did not improve from 0.00000\n",
            "5136/5136 [==============================] - 45s 9ms/sample - loss: 8.1128e-05 - accuracy: 0.9981 - val_loss: 5.1271e-06 - val_accuracy: 1.0000\n",
            "Epoch 45/150\n",
            "5120/5136 [============================>.] - ETA: 0s - loss: 7.3264e-05 - accuracy: 0.9992\n",
            "Epoch 00045: val_loss did not improve from 0.00000\n",
            "5136/5136 [==============================] - 45s 9ms/sample - loss: 7.3331e-05 - accuracy: 0.9992 - val_loss: 1.8082e-06 - val_accuracy: 1.0000\n",
            "Epoch 46/150\n",
            "5120/5136 [============================>.] - ETA: 0s - loss: 6.7882e-05 - accuracy: 0.9994\n",
            "Epoch 00046: val_loss did not improve from 0.00000\n",
            "5136/5136 [==============================] - 45s 9ms/sample - loss: 6.7847e-05 - accuracy: 0.9994 - val_loss: 2.3982e-06 - val_accuracy: 1.0000\n",
            "Epoch 47/150\n",
            "5120/5136 [============================>.] - ETA: 0s - loss: 6.7523e-05 - accuracy: 0.9998\n",
            "Epoch 00047: val_loss did not improve from 0.00000\n",
            "5136/5136 [==============================] - 45s 9ms/sample - loss: 6.7495e-05 - accuracy: 0.9998 - val_loss: 1.0529e-06 - val_accuracy: 1.0000\n",
            "Epoch 48/150\n",
            "5120/5136 [============================>.] - ETA: 0s - loss: 6.7334e-05 - accuracy: 0.9994\n",
            "Epoch 00048: val_loss did not improve from 0.00000\n",
            "5136/5136 [==============================] - 45s 9ms/sample - loss: 6.7237e-05 - accuracy: 0.9994 - val_loss: 4.1639e-06 - val_accuracy: 1.0000\n",
            "Epoch 49/150\n",
            "5120/5136 [============================>.] - ETA: 0s - loss: 6.1375e-05 - accuracy: 0.9988\n",
            "Epoch 00049: val_loss did not improve from 0.00000\n",
            "5136/5136 [==============================] - 45s 9ms/sample - loss: 6.1340e-05 - accuracy: 0.9988 - val_loss: 9.1137e-06 - val_accuracy: 1.0000\n",
            "Epoch 50/150\n",
            "5120/5136 [============================>.] - ETA: 0s - loss: 6.0538e-05 - accuracy: 0.9996\n",
            "Epoch 00050: val_loss did not improve from 0.00000\n",
            "5136/5136 [==============================] - 45s 9ms/sample - loss: 6.0567e-05 - accuracy: 0.9996 - val_loss: 5.3587e-06 - val_accuracy: 1.0000\n",
            "Epoch 51/150\n",
            "5120/5136 [============================>.] - ETA: 0s - loss: 6.1803e-05 - accuracy: 0.9994\n",
            "Epoch 00051: val_loss did not improve from 0.00000\n",
            "5136/5136 [==============================] - 45s 9ms/sample - loss: 6.1877e-05 - accuracy: 0.9994 - val_loss: 4.4144e-06 - val_accuracy: 1.0000\n",
            "Epoch 52/150\n",
            "5120/5136 [============================>.] - ETA: 0s - loss: 5.8313e-05 - accuracy: 1.0000\n",
            "Epoch 00052: val_loss did not improve from 0.00000\n",
            "5136/5136 [==============================] - 45s 9ms/sample - loss: 5.8260e-05 - accuracy: 1.0000 - val_loss: 7.5834e-06 - val_accuracy: 1.0000\n",
            "Epoch 53/150\n",
            "5120/5136 [============================>.] - ETA: 0s - loss: 6.0470e-05 - accuracy: 0.9996\n",
            "Epoch 00053: val_loss did not improve from 0.00000\n",
            "5136/5136 [==============================] - 45s 9ms/sample - loss: 6.0502e-05 - accuracy: 0.9996 - val_loss: 2.7617e-07 - val_accuracy: 1.0000\n",
            "Epoch 54/150\n",
            "5120/5136 [============================>.] - ETA: 0s - loss: 5.5316e-05 - accuracy: 0.9994\n",
            "Epoch 00054: val_loss did not improve from 0.00000\n",
            "5136/5136 [==============================] - 45s 9ms/sample - loss: 5.5331e-05 - accuracy: 0.9994 - val_loss: 3.4740e-06 - val_accuracy: 1.0000\n",
            "Epoch 55/150\n",
            "5120/5136 [============================>.] - ETA: 0s - loss: 5.8416e-05 - accuracy: 0.9992\n",
            "Epoch 00055: val_loss did not improve from 0.00000\n",
            "5136/5136 [==============================] - 45s 9ms/sample - loss: 5.8434e-05 - accuracy: 0.9992 - val_loss: 1.8761e-06 - val_accuracy: 1.0000\n",
            "Epoch 56/150\n",
            "5120/5136 [============================>.] - ETA: 0s - loss: 5.7144e-05 - accuracy: 0.9998\n",
            "Epoch 00056: val_loss did not improve from 0.00000\n",
            "5136/5136 [==============================] - 45s 9ms/sample - loss: 5.7209e-05 - accuracy: 0.9998 - val_loss: 3.8495e-07 - val_accuracy: 1.0000\n",
            "Epoch 57/150\n",
            "5120/5136 [============================>.] - ETA: 0s - loss: 5.7259e-05 - accuracy: 0.9998\n",
            "Epoch 00057: val_loss did not improve from 0.00000\n",
            "5136/5136 [==============================] - 45s 9ms/sample - loss: 5.7321e-05 - accuracy: 0.9998 - val_loss: 6.4423e-07 - val_accuracy: 1.0000\n",
            "Epoch 58/150\n",
            "5120/5136 [============================>.] - ETA: 0s - loss: 5.2662e-05 - accuracy: 1.0000\n",
            "Epoch 00058: val_loss did not improve from 0.00000\n",
            "5136/5136 [==============================] - 45s 9ms/sample - loss: 5.2648e-05 - accuracy: 1.0000 - val_loss: 2.8789e-06 - val_accuracy: 1.0000\n",
            "Epoch 59/150\n",
            "5120/5136 [============================>.] - ETA: 0s - loss: 5.4059e-05 - accuracy: 1.0000\n",
            "Epoch 00059: val_loss did not improve from 0.00000\n",
            "5136/5136 [==============================] - 45s 9ms/sample - loss: 5.4019e-05 - accuracy: 1.0000 - val_loss: 4.9472e-07 - val_accuracy: 1.0000\n",
            "Epoch 60/150\n",
            "5120/5136 [============================>.] - ETA: 0s - loss: 5.2288e-05 - accuracy: 0.9998\n",
            "Epoch 00060: val_loss did not improve from 0.00000\n",
            "5136/5136 [==============================] - 45s 9ms/sample - loss: 5.2452e-05 - accuracy: 0.9998 - val_loss: 1.4253e-06 - val_accuracy: 1.0000\n",
            "Epoch 61/150\n",
            "5120/5136 [============================>.] - ETA: 0s - loss: 5.3415e-05 - accuracy: 0.9994\n",
            "Epoch 00061: val_loss did not improve from 0.00000\n",
            "5136/5136 [==============================] - 45s 9ms/sample - loss: 5.3342e-05 - accuracy: 0.9994 - val_loss: 3.7719e-06 - val_accuracy: 1.0000\n",
            "Epoch 62/150\n",
            "5120/5136 [============================>.] - ETA: 0s - loss: 5.1159e-05 - accuracy: 0.9998\n",
            "Epoch 00062: val_loss improved from 0.00000 to 0.00000, saving model to best_weights.h5\n",
            "5136/5136 [==============================] - 45s 9ms/sample - loss: 5.1104e-05 - accuracy: 0.9998 - val_loss: 1.2357e-07 - val_accuracy: 1.0000\n",
            "Epoch 63/150\n",
            "5120/5136 [============================>.] - ETA: 0s - loss: 4.8404e-05 - accuracy: 0.9998\n",
            "Epoch 00063: val_loss did not improve from 0.00000\n",
            "5136/5136 [==============================] - 45s 9ms/sample - loss: 4.8421e-05 - accuracy: 0.9998 - val_loss: 3.1627e-06 - val_accuracy: 1.0000\n",
            "Epoch 64/150\n",
            "5120/5136 [============================>.] - ETA: 0s - loss: 4.9844e-05 - accuracy: 0.9998\n",
            "Epoch 00064: val_loss did not improve from 0.00000\n",
            "5136/5136 [==============================] - 45s 9ms/sample - loss: 4.9803e-05 - accuracy: 0.9998 - val_loss: 2.7422e-06 - val_accuracy: 1.0000\n",
            "Epoch 65/150\n",
            "5120/5136 [============================>.] - ETA: 0s - loss: 4.8376e-05 - accuracy: 0.9996\n",
            "Epoch 00065: val_loss did not improve from 0.00000\n",
            "5136/5136 [==============================] - 45s 9ms/sample - loss: 4.8328e-05 - accuracy: 0.9996 - val_loss: 1.2033e-05 - val_accuracy: 1.0000\n",
            "Epoch 66/150\n",
            "5120/5136 [============================>.] - ETA: 0s - loss: 4.7932e-05 - accuracy: 0.9998\n",
            "Epoch 00066: val_loss did not improve from 0.00000\n",
            "5136/5136 [==============================] - 45s 9ms/sample - loss: 4.8008e-05 - accuracy: 0.9998 - val_loss: 2.6073e-06 - val_accuracy: 1.0000\n",
            "Epoch 67/150\n",
            "5120/5136 [============================>.] - ETA: 0s - loss: 4.7513e-05 - accuracy: 0.9992\n",
            "Epoch 00067: val_loss did not improve from 0.00000\n",
            "5136/5136 [==============================] - 45s 9ms/sample - loss: 4.7538e-05 - accuracy: 0.9992 - val_loss: 2.0545e-06 - val_accuracy: 1.0000\n",
            "Epoch 68/150\n",
            "5120/5136 [============================>.] - ETA: 0s - loss: 5.0899e-05 - accuracy: 0.9994\n",
            "Epoch 00068: val_loss did not improve from 0.00000\n",
            "5136/5136 [==============================] - 45s 9ms/sample - loss: 5.0838e-05 - accuracy: 0.9994 - val_loss: 9.6684e-07 - val_accuracy: 1.0000\n",
            "Epoch 69/150\n",
            "5120/5136 [============================>.] - ETA: 0s - loss: 4.8073e-05 - accuracy: 0.9994\n",
            "Epoch 00069: val_loss did not improve from 0.00000\n",
            "5136/5136 [==============================] - 45s 9ms/sample - loss: 4.8049e-05 - accuracy: 0.9994 - val_loss: 4.1642e-06 - val_accuracy: 1.0000\n",
            "Epoch 70/150\n",
            "5120/5136 [============================>.] - ETA: 0s - loss: 4.6666e-05 - accuracy: 0.9996\n",
            "Epoch 00070: val_loss did not improve from 0.00000\n",
            "5136/5136 [==============================] - 45s 9ms/sample - loss: 4.6692e-05 - accuracy: 0.9996 - val_loss: 4.1825e-06 - val_accuracy: 1.0000\n",
            "Epoch 71/150\n",
            "5120/5136 [============================>.] - ETA: 0s - loss: 4.8521e-05 - accuracy: 0.9994\n",
            "Epoch 00071: val_loss did not improve from 0.00000\n",
            "5136/5136 [==============================] - 45s 9ms/sample - loss: 4.8499e-05 - accuracy: 0.9994 - val_loss: 9.5419e-07 - val_accuracy: 1.0000\n",
            "Epoch 72/150\n",
            "5120/5136 [============================>.] - ETA: 0s - loss: 4.6330e-05 - accuracy: 0.9990\n",
            "Epoch 00072: val_loss did not improve from 0.00000\n",
            "5136/5136 [==============================] - 45s 9ms/sample - loss: 4.6347e-05 - accuracy: 0.9990 - val_loss: 6.0157e-07 - val_accuracy: 1.0000\n",
            "Epoch 73/150\n",
            "5120/5136 [============================>.] - ETA: 0s - loss: 4.6995e-05 - accuracy: 0.9988\n",
            "Epoch 00073: val_loss did not improve from 0.00000\n",
            "5136/5136 [==============================] - 45s 9ms/sample - loss: 4.6950e-05 - accuracy: 0.9988 - val_loss: 1.2170e-06 - val_accuracy: 1.0000\n",
            "Epoch 74/150\n",
            "5120/5136 [============================>.] - ETA: 0s - loss: 4.5076e-05 - accuracy: 0.9996\n",
            "Epoch 00074: val_loss did not improve from 0.00000\n",
            "5136/5136 [==============================] - 45s 9ms/sample - loss: 4.5068e-05 - accuracy: 0.9996 - val_loss: 1.9275e-06 - val_accuracy: 1.0000\n",
            "Epoch 75/150\n",
            "5120/5136 [============================>.] - ETA: 0s - loss: 4.3714e-05 - accuracy: 0.9996\n",
            "Epoch 00075: val_loss did not improve from 0.00000\n",
            "5136/5136 [==============================] - 45s 9ms/sample - loss: 4.3856e-05 - accuracy: 0.9996 - val_loss: 2.3545e-07 - val_accuracy: 1.0000\n",
            "Epoch 76/150\n",
            "5120/5136 [============================>.] - ETA: 0s - loss: 4.6354e-05 - accuracy: 0.9996\n",
            "Epoch 00076: val_loss did not improve from 0.00000\n",
            "5136/5136 [==============================] - 45s 9ms/sample - loss: 4.6294e-05 - accuracy: 0.9996 - val_loss: 1.0952e-06 - val_accuracy: 1.0000\n",
            "Epoch 77/150\n",
            "5120/5136 [============================>.] - ETA: 0s - loss: 4.4107e-05 - accuracy: 0.9992\n",
            "Epoch 00077: val_loss did not improve from 0.00000\n",
            "5136/5136 [==============================] - 45s 9ms/sample - loss: 4.4156e-05 - accuracy: 0.9992 - val_loss: 1.0326e-06 - val_accuracy: 1.0000\n",
            "Epoch 78/150\n",
            "5120/5136 [============================>.] - ETA: 0s - loss: 4.3512e-05 - accuracy: 1.0000\n",
            "Epoch 00078: val_loss did not improve from 0.00000\n",
            "5136/5136 [==============================] - 45s 9ms/sample - loss: 4.3459e-05 - accuracy: 1.0000 - val_loss: 5.4425e-06 - val_accuracy: 1.0000\n",
            "Epoch 79/150\n",
            "5120/5136 [============================>.] - ETA: 0s - loss: 4.4438e-05 - accuracy: 0.9990\n",
            "Epoch 00079: val_loss did not improve from 0.00000\n",
            "5136/5136 [==============================] - 45s 9ms/sample - loss: 4.4445e-05 - accuracy: 0.9990 - val_loss: 4.2551e-06 - val_accuracy: 1.0000\n",
            "Epoch 80/150\n",
            "5120/5136 [============================>.] - ETA: 0s - loss: 4.4111e-05 - accuracy: 0.9988\n",
            "Epoch 00080: val_loss did not improve from 0.00000\n",
            "5136/5136 [==============================] - 45s 9ms/sample - loss: 4.4099e-05 - accuracy: 0.9988 - val_loss: 7.9784e-07 - val_accuracy: 1.0000\n",
            "Epoch 81/150\n",
            "5120/5136 [============================>.] - ETA: 0s - loss: 4.5217e-05 - accuracy: 0.9986\n",
            "Epoch 00081: val_loss did not improve from 0.00000\n",
            "5136/5136 [==============================] - 45s 9ms/sample - loss: 4.5188e-05 - accuracy: 0.9986 - val_loss: 2.7661e-06 - val_accuracy: 1.0000\n",
            "Epoch 82/150\n",
            "5120/5136 [============================>.] - ETA: 0s - loss: 4.3221e-05 - accuracy: 0.9984\n",
            "Epoch 00082: val_loss did not improve from 0.00000\n",
            "5136/5136 [==============================] - 45s 9ms/sample - loss: 4.3225e-05 - accuracy: 0.9984 - val_loss: 1.9261e-06 - val_accuracy: 1.0000\n",
            "Epoch 83/150\n",
            "5120/5136 [============================>.] - ETA: 0s - loss: 4.3597e-05 - accuracy: 0.9990\n",
            "Epoch 00083: val_loss did not improve from 0.00000\n",
            "5136/5136 [==============================] - 45s 9ms/sample - loss: 4.3586e-05 - accuracy: 0.9990 - val_loss: 3.8559e-06 - val_accuracy: 1.0000\n",
            "Epoch 84/150\n",
            "5120/5136 [============================>.] - ETA: 0s - loss: 4.4331e-05 - accuracy: 0.9994\n",
            "Epoch 00084: val_loss did not improve from 0.00000\n",
            "5136/5136 [==============================] - 45s 9ms/sample - loss: 4.4416e-05 - accuracy: 0.9994 - val_loss: 7.6045e-07 - val_accuracy: 1.0000\n",
            "Epoch 85/150\n",
            "5120/5136 [============================>.] - ETA: 0s - loss: 4.3849e-05 - accuracy: 0.9992\n",
            "Epoch 00085: val_loss did not improve from 0.00000\n",
            "5136/5136 [==============================] - 45s 9ms/sample - loss: 4.3860e-05 - accuracy: 0.9992 - val_loss: 5.5842e-07 - val_accuracy: 1.0000\n",
            "Epoch 86/150\n",
            "5120/5136 [============================>.] - ETA: 0s - loss: 4.1308e-05 - accuracy: 0.9996\n",
            "Epoch 00086: val_loss did not improve from 0.00000\n",
            "5136/5136 [==============================] - 45s 9ms/sample - loss: 4.1289e-05 - accuracy: 0.9996 - val_loss: 2.7021e-06 - val_accuracy: 1.0000\n",
            "Epoch 87/150\n",
            "5120/5136 [============================>.] - ETA: 0s - loss: 4.3119e-05 - accuracy: 0.9982\n",
            "Epoch 00087: val_loss did not improve from 0.00000\n",
            "5136/5136 [==============================] - 45s 9ms/sample - loss: 4.3325e-05 - accuracy: 0.9982 - val_loss: 3.7343e-06 - val_accuracy: 1.0000\n",
            "Epoch 88/150\n",
            "5120/5136 [============================>.] - ETA: 0s - loss: 4.1293e-05 - accuracy: 0.9994\n",
            "Epoch 00088: val_loss did not improve from 0.00000\n",
            "5136/5136 [==============================] - 45s 9ms/sample - loss: 4.1296e-05 - accuracy: 0.9994 - val_loss: 1.3593e-06 - val_accuracy: 1.0000\n",
            "Epoch 89/150\n",
            "5120/5136 [============================>.] - ETA: 0s - loss: 4.1500e-05 - accuracy: 0.9994\n",
            "Epoch 00089: val_loss did not improve from 0.00000\n",
            "5136/5136 [==============================] - 45s 9ms/sample - loss: 4.1586e-05 - accuracy: 0.9994 - val_loss: 2.7009e-06 - val_accuracy: 1.0000\n",
            "Epoch 90/150\n",
            "5120/5136 [============================>.] - ETA: 0s - loss: 4.4176e-05 - accuracy: 0.9994\n",
            "Epoch 00090: val_loss did not improve from 0.00000\n",
            "5136/5136 [==============================] - 45s 9ms/sample - loss: 4.4133e-05 - accuracy: 0.9994 - val_loss: 9.0515e-07 - val_accuracy: 1.0000\n",
            "Epoch 91/150\n",
            "5120/5136 [============================>.] - ETA: 0s - loss: 4.2238e-05 - accuracy: 0.9990\n",
            "Epoch 00091: val_loss did not improve from 0.00000\n",
            "5136/5136 [==============================] - 45s 9ms/sample - loss: 4.2247e-05 - accuracy: 0.9990 - val_loss: 4.1553e-06 - val_accuracy: 1.0000\n",
            "Epoch 92/150\n",
            "5120/5136 [============================>.] - ETA: 0s - loss: 4.2691e-05 - accuracy: 0.9984\n",
            "Epoch 00092: val_loss did not improve from 0.00000\n",
            "5136/5136 [==============================] - 45s 9ms/sample - loss: 4.2707e-05 - accuracy: 0.9984 - val_loss: 7.0681e-06 - val_accuracy: 1.0000\n",
            "Epoch 93/150\n",
            "5120/5136 [============================>.] - ETA: 0s - loss: 4.1683e-05 - accuracy: 0.9986\n",
            "Epoch 00093: val_loss did not improve from 0.00000\n",
            "5136/5136 [==============================] - 45s 9ms/sample - loss: 4.1652e-05 - accuracy: 0.9986 - val_loss: 3.1426e-06 - val_accuracy: 1.0000\n",
            "Epoch 94/150\n",
            "5120/5136 [============================>.] - ETA: 0s - loss: 4.4171e-05 - accuracy: 0.9980\n",
            "Epoch 00094: val_loss did not improve from 0.00000\n",
            "5136/5136 [==============================] - 45s 9ms/sample - loss: 4.4220e-05 - accuracy: 0.9981 - val_loss: 7.1760e-07 - val_accuracy: 1.0000\n",
            "Epoch 95/150\n",
            "5120/5136 [============================>.] - ETA: 0s - loss: 4.4476e-05 - accuracy: 0.9982\n",
            "Epoch 00095: val_loss did not improve from 0.00000\n",
            "5136/5136 [==============================] - 45s 9ms/sample - loss: 4.4512e-05 - accuracy: 0.9982 - val_loss: 2.3134e-06 - val_accuracy: 1.0000\n",
            "Epoch 96/150\n",
            "5120/5136 [============================>.] - ETA: 0s - loss: 4.1584e-05 - accuracy: 0.9982\n",
            "Epoch 00096: val_loss did not improve from 0.00000\n",
            "5136/5136 [==============================] - 45s 9ms/sample - loss: 4.1526e-05 - accuracy: 0.9982 - val_loss: 9.1053e-07 - val_accuracy: 1.0000\n",
            "Epoch 97/150\n",
            "5120/5136 [============================>.] - ETA: 0s - loss: 4.3259e-05 - accuracy: 0.9990\n",
            "Epoch 00097: val_loss did not improve from 0.00000\n",
            "5136/5136 [==============================] - 45s 9ms/sample - loss: 4.3238e-05 - accuracy: 0.9990 - val_loss: 6.5000e-07 - val_accuracy: 1.0000\n",
            "Epoch 98/150\n",
            "5120/5136 [============================>.] - ETA: 0s - loss: 5.1368e-04 - accuracy: 0.9740\n",
            "Epoch 00098: val_loss did not improve from 0.00000\n",
            "5136/5136 [==============================] - 45s 9ms/sample - loss: 5.2001e-04 - accuracy: 0.9737 - val_loss: 0.0069 - val_accuracy: 1.0000\n",
            "Epoch 99/150\n",
            "5120/5136 [============================>.] - ETA: 0s - loss: 4.7486e-04 - accuracy: 0.9576\n",
            "Epoch 00099: val_loss did not improve from 0.00000\n",
            "5136/5136 [==============================] - 45s 9ms/sample - loss: 4.7354e-04 - accuracy: 0.9577 - val_loss: 2.1268e-06 - val_accuracy: 1.0000\n",
            "Epoch 100/150\n",
            "5120/5136 [============================>.] - ETA: 0s - loss: 5.9391e-05 - accuracy: 0.9947\n",
            "Epoch 00100: val_loss did not improve from 0.00000\n",
            "5136/5136 [==============================] - 45s 9ms/sample - loss: 5.9333e-05 - accuracy: 0.9947 - val_loss: 1.1709e-06 - val_accuracy: 1.0000\n",
            "Epoch 101/150\n",
            "5120/5136 [============================>.] - ETA: 0s - loss: 5.0121e-05 - accuracy: 0.9980\n",
            "Epoch 00101: val_loss did not improve from 0.00000\n",
            "5136/5136 [==============================] - 45s 9ms/sample - loss: 5.0078e-05 - accuracy: 0.9981 - val_loss: 2.3920e-06 - val_accuracy: 1.0000\n",
            "Epoch 102/150\n",
            "5120/5136 [============================>.] - ETA: 0s - loss: 4.7144e-05 - accuracy: 0.9979\n",
            "Epoch 00102: val_loss did not improve from 0.00000\n",
            "5136/5136 [==============================] - 45s 9ms/sample - loss: 4.7180e-05 - accuracy: 0.9979 - val_loss: 1.5971e-06 - val_accuracy: 1.0000\n",
            "Epoch 103/150\n",
            "5120/5136 [============================>.] - ETA: 0s - loss: 4.6586e-05 - accuracy: 0.9980\n",
            "Epoch 00103: val_loss did not improve from 0.00000\n",
            "5136/5136 [==============================] - 45s 9ms/sample - loss: 4.6551e-05 - accuracy: 0.9981 - val_loss: 3.0387e-06 - val_accuracy: 1.0000\n",
            "Epoch 104/150\n",
            "5120/5136 [============================>.] - ETA: 0s - loss: 4.3658e-05 - accuracy: 0.9986\n",
            "Epoch 00104: val_loss did not improve from 0.00000\n",
            "5136/5136 [==============================] - 45s 9ms/sample - loss: 4.3709e-05 - accuracy: 0.9986 - val_loss: 4.4537e-07 - val_accuracy: 1.0000\n",
            "Epoch 105/150\n",
            "5120/5136 [============================>.] - ETA: 0s - loss: 4.2606e-05 - accuracy: 0.9990\n",
            "Epoch 00105: val_loss did not improve from 0.00000\n",
            "5136/5136 [==============================] - 45s 9ms/sample - loss: 4.2600e-05 - accuracy: 0.9990 - val_loss: 1.4377e-06 - val_accuracy: 1.0000\n",
            "Epoch 106/150\n",
            "5120/5136 [============================>.] - ETA: 0s - loss: 4.3482e-05 - accuracy: 0.9994\n",
            "Epoch 00106: val_loss did not improve from 0.00000\n",
            "5136/5136 [==============================] - 45s 9ms/sample - loss: 4.3464e-05 - accuracy: 0.9994 - val_loss: 3.8383e-07 - val_accuracy: 1.0000\n",
            "Epoch 107/150\n",
            "5120/5136 [============================>.] - ETA: 0s - loss: 4.3083e-05 - accuracy: 0.9977\n",
            "Epoch 00107: val_loss did not improve from 0.00000\n",
            "5136/5136 [==============================] - 45s 9ms/sample - loss: 4.3111e-05 - accuracy: 0.9977 - val_loss: 1.7548e-06 - val_accuracy: 1.0000\n",
            "Epoch 108/150\n",
            "5120/5136 [============================>.] - ETA: 0s - loss: 4.3568e-05 - accuracy: 0.9984\n",
            "Epoch 00108: val_loss did not improve from 0.00000\n",
            "5136/5136 [==============================] - 45s 9ms/sample - loss: 4.3723e-05 - accuracy: 0.9982 - val_loss: 8.4379e-07 - val_accuracy: 1.0000\n",
            "Epoch 109/150\n",
            "5120/5136 [============================>.] - ETA: 0s - loss: 4.0905e-05 - accuracy: 0.9992\n",
            "Epoch 00109: val_loss did not improve from 0.00000\n",
            "5136/5136 [==============================] - 45s 9ms/sample - loss: 4.0920e-05 - accuracy: 0.9992 - val_loss: 8.9145e-07 - val_accuracy: 1.0000\n",
            "Epoch 110/150\n",
            "5120/5136 [============================>.] - ETA: 0s - loss: 4.2758e-05 - accuracy: 0.9979\n",
            "Epoch 00110: val_loss did not improve from 0.00000\n",
            "5136/5136 [==============================] - 45s 9ms/sample - loss: 4.2764e-05 - accuracy: 0.9979 - val_loss: 5.4509e-06 - val_accuracy: 1.0000\n",
            "Epoch 111/150\n",
            "5120/5136 [============================>.] - ETA: 0s - loss: 4.2021e-05 - accuracy: 0.9977\n",
            "Epoch 00111: val_loss did not improve from 0.00000\n",
            "5136/5136 [==============================] - 45s 9ms/sample - loss: 4.2146e-05 - accuracy: 0.9977 - val_loss: 1.0596e-06 - val_accuracy: 1.0000\n",
            "Epoch 112/150\n",
            "5120/5136 [============================>.] - ETA: 0s - loss: 4.0688e-05 - accuracy: 0.9982\n",
            "Epoch 00112: val_loss did not improve from 0.00000\n",
            "5136/5136 [==============================] - 45s 9ms/sample - loss: 4.0691e-05 - accuracy: 0.9982 - val_loss: 3.4576e-07 - val_accuracy: 1.0000\n",
            "Epoch 113/150\n",
            "5120/5136 [============================>.] - ETA: 0s - loss: 4.3501e-05 - accuracy: 0.9988\n",
            "Epoch 00113: val_loss improved from 0.00000 to 0.00000, saving model to best_weights.h5\n",
            "5136/5136 [==============================] - 45s 9ms/sample - loss: 4.3507e-05 - accuracy: 0.9988 - val_loss: 1.1018e-07 - val_accuracy: 1.0000\n",
            "Epoch 114/150\n",
            "5120/5136 [============================>.] - ETA: 0s - loss: 4.0060e-05 - accuracy: 0.9988\n",
            "Epoch 00114: val_loss did not improve from 0.00000\n",
            "5136/5136 [==============================] - 45s 9ms/sample - loss: 4.0027e-05 - accuracy: 0.9988 - val_loss: 2.9623e-06 - val_accuracy: 1.0000\n",
            "Epoch 115/150\n",
            "5120/5136 [============================>.] - ETA: 0s - loss: 4.0391e-05 - accuracy: 0.9994\n",
            "Epoch 00115: val_loss did not improve from 0.00000\n",
            "5136/5136 [==============================] - 45s 9ms/sample - loss: 4.0306e-05 - accuracy: 0.9994 - val_loss: 5.1572e-07 - val_accuracy: 1.0000\n",
            "Epoch 116/150\n",
            "5120/5136 [============================>.] - ETA: 0s - loss: 3.9566e-05 - accuracy: 0.9986\n",
            "Epoch 00116: val_loss did not improve from 0.00000\n",
            "5136/5136 [==============================] - 45s 9ms/sample - loss: 3.9657e-05 - accuracy: 0.9984 - val_loss: 9.0896e-07 - val_accuracy: 1.0000\n",
            "Epoch 117/150\n",
            "5120/5136 [============================>.] - ETA: 0s - loss: 4.1209e-05 - accuracy: 0.9990\n",
            "Epoch 00117: val_loss did not improve from 0.00000\n",
            "5136/5136 [==============================] - 45s 9ms/sample - loss: 4.1196e-05 - accuracy: 0.9990 - val_loss: 3.0513e-06 - val_accuracy: 1.0000\n",
            "Epoch 118/150\n",
            "5120/5136 [============================>.] - ETA: 0s - loss: 4.1650e-05 - accuracy: 0.9990\n",
            "Epoch 00118: val_loss did not improve from 0.00000\n",
            "5136/5136 [==============================] - 45s 9ms/sample - loss: 4.1752e-05 - accuracy: 0.9988 - val_loss: 6.0698e-06 - val_accuracy: 1.0000\n",
            "Epoch 119/150\n",
            "5120/5136 [============================>.] - ETA: 0s - loss: 4.2440e-05 - accuracy: 0.9977\n",
            "Epoch 00119: val_loss did not improve from 0.00000\n",
            "5136/5136 [==============================] - 45s 9ms/sample - loss: 4.2530e-05 - accuracy: 0.9977 - val_loss: 4.1318e-07 - val_accuracy: 1.0000\n",
            "Epoch 120/150\n",
            "5120/5136 [============================>.] - ETA: 0s - loss: 3.9871e-05 - accuracy: 0.9990\n",
            "Epoch 00120: val_loss improved from 0.00000 to 0.00000, saving model to best_weights.h5\n",
            "5136/5136 [==============================] - 45s 9ms/sample - loss: 4.0008e-05 - accuracy: 0.9990 - val_loss: 8.0681e-08 - val_accuracy: 1.0000\n",
            "Epoch 121/150\n",
            "5120/5136 [============================>.] - ETA: 0s - loss: 4.0861e-05 - accuracy: 0.9980\n",
            "Epoch 00121: val_loss did not improve from 0.00000\n",
            "5136/5136 [==============================] - 45s 9ms/sample - loss: 4.0934e-05 - accuracy: 0.9981 - val_loss: 2.2929e-06 - val_accuracy: 1.0000\n",
            "Epoch 122/150\n",
            "5120/5136 [============================>.] - ETA: 0s - loss: 4.1653e-05 - accuracy: 0.9975\n",
            "Epoch 00122: val_loss did not improve from 0.00000\n",
            "5136/5136 [==============================] - 45s 9ms/sample - loss: 4.1597e-05 - accuracy: 0.9975 - val_loss: 2.3791e-06 - val_accuracy: 1.0000\n",
            "Epoch 123/150\n",
            "5120/5136 [============================>.] - ETA: 0s - loss: 4.2072e-05 - accuracy: 0.9973\n",
            "Epoch 00123: val_loss did not improve from 0.00000\n",
            "5136/5136 [==============================] - 45s 9ms/sample - loss: 4.2037e-05 - accuracy: 0.9973 - val_loss: 1.6785e-06 - val_accuracy: 1.0000\n",
            "Epoch 124/150\n",
            "5120/5136 [============================>.] - ETA: 0s - loss: 4.0952e-05 - accuracy: 0.9986\n",
            "Epoch 00124: val_loss did not improve from 0.00000\n",
            "5136/5136 [==============================] - 45s 9ms/sample - loss: 4.0914e-05 - accuracy: 0.9986 - val_loss: 1.0649e-06 - val_accuracy: 1.0000\n",
            "Epoch 125/150\n",
            "5120/5136 [============================>.] - ETA: 0s - loss: 3.9815e-05 - accuracy: 0.9984\n",
            "Epoch 00125: val_loss did not improve from 0.00000\n",
            "5136/5136 [==============================] - 45s 9ms/sample - loss: 3.9737e-05 - accuracy: 0.9984 - val_loss: 2.7019e-06 - val_accuracy: 1.0000\n",
            "Epoch 126/150\n",
            "5120/5136 [============================>.] - ETA: 0s - loss: 3.9115e-05 - accuracy: 0.9988\n",
            "Epoch 00126: val_loss did not improve from 0.00000\n",
            "5136/5136 [==============================] - 45s 9ms/sample - loss: 3.9265e-05 - accuracy: 0.9988 - val_loss: 1.3815e-06 - val_accuracy: 1.0000\n",
            "Epoch 127/150\n",
            "5120/5136 [============================>.] - ETA: 0s - loss: 4.3313e-05 - accuracy: 0.9990\n",
            "Epoch 00127: val_loss did not improve from 0.00000\n",
            "5136/5136 [==============================] - 45s 9ms/sample - loss: 4.3325e-05 - accuracy: 0.9990 - val_loss: 6.1210e-07 - val_accuracy: 1.0000\n",
            "Epoch 128/150\n",
            "5120/5136 [============================>.] - ETA: 0s - loss: 3.9073e-05 - accuracy: 0.9984\n",
            "Epoch 00128: val_loss did not improve from 0.00000\n",
            "5136/5136 [==============================] - 44s 9ms/sample - loss: 3.9046e-05 - accuracy: 0.9984 - val_loss: 2.6413e-06 - val_accuracy: 1.0000\n",
            "Epoch 129/150\n",
            "5120/5136 [============================>.] - ETA: 0s - loss: 4.0122e-05 - accuracy: 0.9984\n",
            "Epoch 00129: val_loss did not improve from 0.00000\n",
            "5136/5136 [==============================] - 45s 9ms/sample - loss: 4.0209e-05 - accuracy: 0.9984 - val_loss: 2.9005e-07 - val_accuracy: 1.0000\n",
            "Epoch 130/150\n",
            "5120/5136 [============================>.] - ETA: 0s - loss: 4.3266e-05 - accuracy: 0.9971\n",
            "Epoch 00130: val_loss did not improve from 0.00000\n",
            "5136/5136 [==============================] - 45s 9ms/sample - loss: 4.3290e-05 - accuracy: 0.9971 - val_loss: 1.1047e-06 - val_accuracy: 1.0000\n",
            "Epoch 131/150\n",
            "5120/5136 [============================>.] - ETA: 0s - loss: 4.1216e-05 - accuracy: 0.9990\n",
            "Epoch 00131: val_loss did not improve from 0.00000\n",
            "5136/5136 [==============================] - 45s 9ms/sample - loss: 4.1309e-05 - accuracy: 0.9988 - val_loss: 7.8783e-07 - val_accuracy: 1.0000\n",
            "Epoch 132/150\n",
            "5120/5136 [============================>.] - ETA: 0s - loss: 4.1641e-05 - accuracy: 0.9979\n",
            "Epoch 00132: val_loss did not improve from 0.00000\n",
            "5136/5136 [==============================] - 45s 9ms/sample - loss: 4.1594e-05 - accuracy: 0.9979 - val_loss: 6.5438e-06 - val_accuracy: 1.0000\n",
            "Epoch 133/150\n",
            "5120/5136 [============================>.] - ETA: 0s - loss: 4.0200e-05 - accuracy: 0.9984\n",
            "Epoch 00133: val_loss did not improve from 0.00000\n",
            "5136/5136 [==============================] - 45s 9ms/sample - loss: 4.0188e-05 - accuracy: 0.9984 - val_loss: 5.0928e-07 - val_accuracy: 1.0000\n",
            "Epoch 134/150\n",
            "5120/5136 [============================>.] - ETA: 0s - loss: 3.9898e-05 - accuracy: 0.9980\n",
            "Epoch 00134: val_loss did not improve from 0.00000\n",
            "5136/5136 [==============================] - 45s 9ms/sample - loss: 3.9889e-05 - accuracy: 0.9981 - val_loss: 3.9411e-07 - val_accuracy: 1.0000\n",
            "Epoch 135/150\n",
            "5120/5136 [============================>.] - ETA: 0s - loss: 4.0387e-05 - accuracy: 0.9982\n",
            "Epoch 00135: val_loss did not improve from 0.00000\n",
            "5136/5136 [==============================] - 45s 9ms/sample - loss: 4.0337e-05 - accuracy: 0.9982 - val_loss: 1.1632e-06 - val_accuracy: 1.0000\n",
            "Epoch 136/150\n",
            "5120/5136 [============================>.] - ETA: 0s - loss: 4.4737e-05 - accuracy: 0.9967\n",
            "Epoch 00136: val_loss did not improve from 0.00000\n",
            "5136/5136 [==============================] - 45s 9ms/sample - loss: 4.4683e-05 - accuracy: 0.9967 - val_loss: 4.1665e-06 - val_accuracy: 1.0000\n",
            "Epoch 137/150\n",
            "5120/5136 [============================>.] - ETA: 0s - loss: 3.8615e-05 - accuracy: 0.9988\n",
            "Epoch 00137: val_loss did not improve from 0.00000\n",
            "5136/5136 [==============================] - 45s 9ms/sample - loss: 3.8561e-05 - accuracy: 0.9988 - val_loss: 2.0481e-06 - val_accuracy: 1.0000\n",
            "Epoch 138/150\n",
            "5120/5136 [============================>.] - ETA: 0s - loss: 3.9621e-05 - accuracy: 0.9979\n",
            "Epoch 00138: val_loss did not improve from 0.00000\n",
            "5136/5136 [==============================] - 45s 9ms/sample - loss: 3.9551e-05 - accuracy: 0.9979 - val_loss: 8.4450e-07 - val_accuracy: 1.0000\n",
            "Epoch 139/150\n",
            "5120/5136 [============================>.] - ETA: 0s - loss: 3.7826e-05 - accuracy: 0.9990\n",
            "Epoch 00139: val_loss did not improve from 0.00000\n",
            "5136/5136 [==============================] - 45s 9ms/sample - loss: 3.7882e-05 - accuracy: 0.9990 - val_loss: 9.1759e-07 - val_accuracy: 1.0000\n",
            "Epoch 140/150\n",
            "5120/5136 [============================>.] - ETA: 0s - loss: 3.9188e-05 - accuracy: 0.9975\n",
            "Epoch 00140: val_loss did not improve from 0.00000\n",
            "5136/5136 [==============================] - 45s 9ms/sample - loss: 3.9220e-05 - accuracy: 0.9975 - val_loss: 1.3061e-06 - val_accuracy: 1.0000\n",
            "Epoch 141/150\n",
            "5120/5136 [============================>.] - ETA: 0s - loss: 4.0878e-05 - accuracy: 0.9980\n",
            "Epoch 00141: val_loss did not improve from 0.00000\n",
            "5136/5136 [==============================] - 45s 9ms/sample - loss: 4.0832e-05 - accuracy: 0.9981 - val_loss: 2.1577e-06 - val_accuracy: 1.0000\n",
            "Epoch 142/150\n",
            "5120/5136 [============================>.] - ETA: 0s - loss: 4.0478e-05 - accuracy: 0.9992\n",
            "Epoch 00142: val_loss did not improve from 0.00000\n",
            "5136/5136 [==============================] - 45s 9ms/sample - loss: 4.0445e-05 - accuracy: 0.9992 - val_loss: 9.0695e-07 - val_accuracy: 1.0000\n",
            "Epoch 143/150\n",
            "5120/5136 [============================>.] - ETA: 0s - loss: 3.9397e-05 - accuracy: 0.9988\n",
            "Epoch 00143: val_loss did not improve from 0.00000\n",
            "5136/5136 [==============================] - 45s 9ms/sample - loss: 3.9425e-05 - accuracy: 0.9988 - val_loss: 2.9683e-06 - val_accuracy: 1.0000\n",
            "Epoch 144/150\n",
            "5120/5136 [============================>.] - ETA: 0s - loss: 4.1868e-05 - accuracy: 0.9982\n",
            "Epoch 00144: val_loss did not improve from 0.00000\n",
            "5136/5136 [==============================] - 45s 9ms/sample - loss: 4.1930e-05 - accuracy: 0.9982 - val_loss: 1.3419e-05 - val_accuracy: 1.0000\n",
            "Epoch 145/150\n",
            "5120/5136 [============================>.] - ETA: 0s - loss: 4.1570e-05 - accuracy: 0.9975\n",
            "Epoch 00145: val_loss did not improve from 0.00000\n",
            "5136/5136 [==============================] - 45s 9ms/sample - loss: 4.1544e-05 - accuracy: 0.9975 - val_loss: 2.1216e-06 - val_accuracy: 1.0000\n",
            "Epoch 146/150\n",
            "5120/5136 [============================>.] - ETA: 0s - loss: 3.9528e-05 - accuracy: 0.9982\n",
            "Epoch 00146: val_loss did not improve from 0.00000\n",
            "5136/5136 [==============================] - 46s 9ms/sample - loss: 3.9611e-05 - accuracy: 0.9982 - val_loss: 1.0557e-06 - val_accuracy: 1.0000\n",
            "Epoch 147/150\n",
            "5120/5136 [============================>.] - ETA: 0s - loss: 3.8495e-05 - accuracy: 0.9984\n",
            "Epoch 00147: val_loss did not improve from 0.00000\n",
            "5136/5136 [==============================] - 45s 9ms/sample - loss: 3.8433e-05 - accuracy: 0.9984 - val_loss: 1.6912e-06 - val_accuracy: 1.0000\n",
            "Epoch 148/150\n",
            "5120/5136 [============================>.] - ETA: 0s - loss: 3.8940e-05 - accuracy: 0.9979\n",
            "Epoch 00148: val_loss did not improve from 0.00000\n",
            "5136/5136 [==============================] - 45s 9ms/sample - loss: 3.8990e-05 - accuracy: 0.9979 - val_loss: 9.2418e-07 - val_accuracy: 1.0000\n",
            "Epoch 149/150\n",
            "5120/5136 [============================>.] - ETA: 0s - loss: 3.8360e-05 - accuracy: 0.9984\n",
            "Epoch 00149: val_loss did not improve from 0.00000\n",
            "5136/5136 [==============================] - 45s 9ms/sample - loss: 3.8319e-05 - accuracy: 0.9984 - val_loss: 1.4460e-06 - val_accuracy: 1.0000\n",
            "Epoch 150/150\n",
            "5120/5136 [============================>.] - ETA: 0s - loss: 4.0943e-05 - accuracy: 0.9977\n",
            "Epoch 00150: val_loss did not improve from 0.00000\n",
            "5136/5136 [==============================] - 45s 9ms/sample - loss: 4.0887e-05 - accuracy: 0.9977 - val_loss: 3.6475e-06 - val_accuracy: 1.0000\n"
          ],
          "name": "stdout"
        }
      ]
    }
  ]
}